{
 "cells": [
  {
   "cell_type": "markdown",
   "metadata": {},
   "source": [
    "# Módulo III - Funciones, lectura y escritura de archivos\n",
    "***"
   ]
  },
  {
   "cell_type": "markdown",
   "metadata": {},
   "source": [
    "## Funciones en Python\n",
    "***\n",
    "Le llamamos función a bloques de código que agrupamos y definimos mediante un nombre, y que podemos usar \"llamándola\" luego en nuestros *script* cuando queramos. Estos bloques ayudan a tener organizado nuestro código, encapsulando tareas que usamos repetitivamente sobre distintos objetos sin necesidad de replicar todas las instrucciones cada vez.\n",
    "\n",
    "Cuando escribimos **print()** o **len()** estamos haciendo uso de funciones nativas de Python. Nota que la \"llamada\" se hace con el uso de paréntesis."
   ]
  },
  {
   "cell_type": "code",
   "execution_count": 1,
   "metadata": {},
   "outputs": [
    {
     "name": "stdout",
     "output_type": "stream",
     "text": [
      "hello\n"
     ]
    },
    {
     "data": {
      "text/plain": [
       "4"
      ]
     },
     "execution_count": 1,
     "metadata": {},
     "output_type": "execute_result"
    }
   ],
   "source": [
    "print(\"hello\")\n",
    "L = [1,2,3,4]\n",
    "len(L)"
   ]
  },
  {
   "cell_type": "markdown",
   "metadata": {},
   "source": [
    "Las funciones reciben los objetos que procesarán dentro de los paréntesis, a estos se les llama **argumentos** de la función. En Python, al contrario de otros lenguajes, no es necesario especificar con antelación qué tipo de variables necesita como argumentos de entrada, ni el tipo de variable de salida que tendrá la función."
   ]
  },
  {
   "cell_type": "code",
   "execution_count": 2,
   "metadata": {},
   "outputs": [
    {
     "name": "stdout",
     "output_type": "stream",
     "text": [
      "hello-1-world\n"
     ]
    }
   ],
   "source": [
    "print (\"hello\", 1, \"world\", sep =\"-\")"
   ]
  },
  {
   "cell_type": "markdown",
   "metadata": {},
   "source": [
    "Podemos definir nuestras propias funciones con la sentencia **def**:\n",
    "\n",
    "```python\n",
    "def mi_funcion(n):\n",
    "```\n",
    "Aquí, **mi_funcion** es el nombre de la función que crearemos, y es el mismo nombre a través del cuál haremos uso de ella. Definimos un argumento **n** que debe recibir la función para procesar dentro del código. Podemos definir cuantos argumentos necesitemos. Antes de comenzar con el bloque de código, debemos colocar los dos puntos al final de la definición. \n",
    "\n",
    "Por ejemplo, podemos encapsular en una función el código que utlizamos para imprimir todos los productos en nuestra lista de compras:"
   ]
  },
  {
   "cell_type": "code",
   "execution_count": 3,
   "metadata": {
    "collapsed": true
   },
   "outputs": [],
   "source": [
    "def listar_productos(productos):\n",
    "    print(\"Producto = Precio\")\n",
    "    for i in productos:\n",
    "        print(i,\" = \", productos[i])"
   ]
  },
  {
   "cell_type": "markdown",
   "metadata": {},
   "source": [
    "El bloque de código dentro de la función debe estar indentado, es decir, se debe comenzar el bloque con el espaciado correspondiente. Ahora podemos hacer uso de la función que definimos:"
   ]
  },
  {
   "cell_type": "code",
   "execution_count": 4,
   "metadata": {},
   "outputs": [
    {
     "name": "stdout",
     "output_type": "stream",
     "text": [
      "Producto = Precio\n",
      "azucar  =  9000.0\n",
      "arroz  =  9850.5\n",
      "harina  =  11000\n",
      "aceite  =  12000\n",
      "pasta  =  18000\n"
     ]
    }
   ],
   "source": [
    "productos = {'azucar':9000.0, 'arroz':9850.5, 'harina':11000, 'aceite':12000, 'pasta':18000}\n",
    "listar_productos(productos)"
   ]
  },
  {
   "cell_type": "markdown",
   "metadata": {},
   "source": [
    "Vamos a calcular el precio promedio de todos los productos que hemos comprado hasta ahora. Creamos una función para ello:"
   ]
  },
  {
   "cell_type": "code",
   "execution_count": 5,
   "metadata": {
    "collapsed": true
   },
   "outputs": [],
   "source": [
    "def promedio(productos):\n",
    "    promedio =  sum(productos.values()) / len(productos)\n",
    "    return promedio"
   ]
  },
  {
   "cell_type": "markdown",
   "metadata": {},
   "source": [
    "La sentencia **return** indica cuál es la variable que nos va a entregar nuestra función como resultado. Si no especificamos esto, la función nos dará una variable del tipo *None* de forma predeterminada."
   ]
  },
  {
   "cell_type": "code",
   "execution_count": 6,
   "metadata": {},
   "outputs": [
    {
     "data": {
      "text/plain": [
       "11970.1"
      ]
     },
     "execution_count": 6,
     "metadata": {},
     "output_type": "execute_result"
    }
   ],
   "source": [
    "promedio(productos)"
   ]
  },
  {
   "cell_type": "markdown",
   "metadata": {},
   "source": [
    "Nota que el nombre de la variable que le estamos pasando a la función no necesariamente tiene que ser igual que el nombre del argumento definido."
   ]
  },
  {
   "cell_type": "code",
   "execution_count": 7,
   "metadata": {},
   "outputs": [
    {
     "name": "stdout",
     "output_type": "stream",
     "text": [
      "{0: 0, 1: 1, 2: 2, 3: 3, 4: 4}\n"
     ]
    },
    {
     "data": {
      "text/plain": [
       "2.0"
      ]
     },
     "execution_count": 7,
     "metadata": {},
     "output_type": "execute_result"
    }
   ],
   "source": [
    "otro_dict = {i:i for i in range (5)}\n",
    "print(otro_dict)\n",
    "resultado = promedio(otro_dict)\n",
    "resultado"
   ]
  },
  {
   "cell_type": "markdown",
   "metadata": {},
   "source": [
    "Si necesitamos que nuestra función nos regrese varios valores, podemos usar alguna estructura de datos como tuplas."
   ]
  },
  {
   "cell_type": "code",
   "execution_count": 8,
   "metadata": {
    "collapsed": true
   },
   "outputs": [],
   "source": [
    "def resumen(productos):\n",
    "    promedio =  sum(productos.values()) / len(productos)\n",
    "    maximo = max(productos.values())\n",
    "    return promedio, maximo     # devuelve dos valores en forma de tupla"
   ]
  },
  {
   "cell_type": "markdown",
   "metadata": {},
   "source": [
    "Ahora podemos hacer uso de esta función modificada. Almacenamos los resultados en dos variables distintas (formada como una tupla)."
   ]
  },
  {
   "cell_type": "code",
   "execution_count": 9,
   "metadata": {},
   "outputs": [
    {
     "name": "stdout",
     "output_type": "stream",
     "text": [
      "11970.1\n",
      "18000\n"
     ]
    }
   ],
   "source": [
    "precio_promedio , precio_maximo = resumen(productos)  # almacenamos simultáneamente los resultados\n",
    "print(precio_promedio)\n",
    "print(precio_maximo)"
   ]
  },
  {
   "cell_type": "markdown",
   "metadata": {},
   "source": [
    "### Paquetes y módulos\n",
    "***\n",
    "Ya hemos utilizado anteriormente varios métodos o funciones para manipular objetos de varios tipos, como listas, cadenas, conjuntos. Estás funciones vienen por defecto listas para usar en Python. Pero además, Python contiene muchas más librerías estándar integradas con variadas funcionalidades. Para usar estas librerías, utilizamos la sentencia **import**:"
   ]
  },
  {
   "cell_type": "code",
   "execution_count": 10,
   "metadata": {
    "collapsed": true
   },
   "outputs": [],
   "source": [
    "import math"
   ]
  },
  {
   "cell_type": "markdown",
   "metadata": {},
   "source": [
    "El módulo **math** incluye funciones para cálculo matemático más allá de sólo sumas y restas. Por ejemplo, el cálculo de raíces cuadradas, o encontrar valores de funciones trigonométricas."
   ]
  },
  {
   "cell_type": "code",
   "execution_count": 11,
   "metadata": {},
   "outputs": [
    {
     "data": {
      "text/plain": [
       "0.5403023058681398"
      ]
     },
     "execution_count": 11,
     "metadata": {},
     "output_type": "execute_result"
    }
   ],
   "source": [
    "math.cos(1)"
   ]
  },
  {
   "cell_type": "markdown",
   "metadata": {},
   "source": [
    "Usamos el nombre del módulo seguido de un punto, y luego el objeto o función del módulo que queremos utilizar. En este caso, **cos()** es una función que recibe un valor para encontrar su coseno. Podemos utilizar constantes matemáticas como **pi** o **e**, de la misma manera."
   ]
  },
  {
   "cell_type": "code",
   "execution_count": 12,
   "metadata": {},
   "outputs": [
    {
     "data": {
      "text/plain": [
       "3.141592653589793"
      ]
     },
     "execution_count": 12,
     "metadata": {},
     "output_type": "execute_result"
    }
   ],
   "source": [
    "math.pi"
   ]
  },
  {
   "cell_type": "markdown",
   "metadata": {},
   "source": [
    "Otra forma de importar estos módulos es por medio de un alias. Algunos módulos tienen nombre largos que harían el código mas engorroso. Para ellos podemos escribir:\n",
    "```python\n",
    "import modulo as alias\n",
    "```\n",
    "De esta manera podemos usar \"alias\" como la abreviación del nombre del módulo, con todas sus funcionalidades."
   ]
  },
  {
   "cell_type": "code",
   "execution_count": 13,
   "metadata": {},
   "outputs": [
    {
     "data": {
      "text/plain": [
       "3.141592653589793"
      ]
     },
     "execution_count": 13,
     "metadata": {},
     "output_type": "execute_result"
    }
   ],
   "source": [
    "import math as m\n",
    "m.pi"
   ]
  },
  {
   "cell_type": "markdown",
   "metadata": {},
   "source": [
    "Una costumbre generalizada es utilizar el módulo **numpy** (módulo con herramientas numéricas utilizado comummente en ciencia de datos), con el alias **np**."
   ]
  },
  {
   "cell_type": "code",
   "execution_count": 14,
   "metadata": {},
   "outputs": [
    {
     "data": {
      "text/plain": [
       "-1.0"
      ]
     },
     "execution_count": 14,
     "metadata": {},
     "output_type": "execute_result"
    }
   ],
   "source": [
    "import numpy as np\n",
    "np.cos(np.pi)"
   ]
  },
  {
   "cell_type": "markdown",
   "metadata": {},
   "source": [
    "Puede que queramos sólo utilizar cierto contenido específico de un módulo, en ese caso indicamos explícitamente tales contenidos de la siguiente forma:"
   ]
  },
  {
   "cell_type": "code",
   "execution_count": 15,
   "metadata": {
    "collapsed": true
   },
   "outputs": [],
   "source": [
    "from math import cos, pi"
   ]
  },
  {
   "cell_type": "markdown",
   "metadata": {},
   "source": [
    "Desde el módulo *math*, importa *cos* y *pi*. Es fácil de comprender la lógica de esta importación explícita y específica."
   ]
  },
  {
   "cell_type": "code",
   "execution_count": 16,
   "metadata": {
    "collapsed": true
   },
   "outputs": [],
   "source": [
    "from math import *"
   ]
  },
  {
   "cell_type": "markdown",
   "metadata": {},
   "source": [
    "En este caso estamos importando TODO el contenido del módulo **math** dentro del espacio de trabajo de Python. Esta instrucción debe ser usada con precaución, porque puede resultar en la sobreescritura de algunas funciones que tengan el mismo nombre y que hayan sido cargadas en el mismo espacio de trabajo anteriormente.\n",
    "\n",
    "Por ejemplo, si el módulo **numpy** contiene una funcion *suma*, y ya existe una función llamada *suma* dentro del espacio, al importar con asterisco (\\*) reescribiríamos la segunda, causando posibles conflictos o resultados no deseados en nuestro programa.\n",
    "\n",
    "Lo más recomendable es importar y usar el módulo explícitamente, sin alias o con alias, como en los primeros ejemplos."
   ]
  },
  {
   "cell_type": "markdown",
   "metadata": {},
   "source": [
    "#### Librerías Estándar \n",
    "\n",
    "Las siguiente son librerías estándar importantes incluidas en python:\n",
    "\n",
    "\n",
    "+ **os y sys**: Contiene herramientas para interactuar con el sistema operativo, como manejar archivos y directorios y ejecutar comando en el terminal.\n",
    "+ **math y cmath**: Funciones y operaciones matemáticas sobre números reales y complejos.\n",
    "+ **itertools**: Para construir y manejar interadores y generadores.\n",
    "+ **functools**: Asistencia para programación funcional.\n",
    "+ **random**: Para generar números pseudo aleatorios.\n",
    "+ **pickle**: Herramientas para guardar y cargar objetos desde el disco duro.\n",
    "+ **json y csv**: Para leer archivos .csv y JSON.\n",
    "+ **urllib**: Herramientas para hacer solicitudes Http u otras modalidades web."
   ]
  },
  {
   "cell_type": "markdown",
   "metadata": {},
   "source": [
    "## Lectura y escritura de archivos\n",
    "***\n",
    "\n",
    "Hasta los momentos hemos estado trabajando con datos que introducimos manualmente en variables. Con seguridad, \n",
    "lo mas frecuente es tener información almacenada en archivos de texto, como hojas de excel o texto simple, o que los datos estén alojados en la web, en distintos formatos como HTML y JSON. \n",
    "\n",
    "Python incluye librerías para manipular distintos tipos de archivos y extrar datos para usarlos dentro de nuestros programas. Para leer un archivo usamos la instrucción:"
   ]
  },
  {
   "cell_type": "code",
   "execution_count": 17,
   "metadata": {
    "collapsed": true
   },
   "outputs": [],
   "source": [
    "# Abriendo la conexión al archivo en modo \"lectura\"\n",
    "f = open('compras.txt', 'r')"
   ]
  },
  {
   "cell_type": "markdown",
   "metadata": {},
   "source": [
    "La función **open()** crea una conexión para manipular el archivo *\"compras.txt\"*. El argumento **'r'** indica que podemos acceder a él sólo en modo lectura."
   ]
  },
  {
   "cell_type": "code",
   "execution_count": 18,
   "metadata": {},
   "outputs": [
    {
     "data": {
      "text/plain": [
       "['carne 30000\\n',\n",
       " 'jamón 15000\\n',\n",
       " 'detergente 12000\\n',\n",
       " 'champú 18000\\n',\n",
       " 'refresco 8000\\n',\n",
       " 'leche 6000\\n',\n",
       " 'leche 6000\\n']"
      ]
     },
     "execution_count": 18,
     "metadata": {},
     "output_type": "execute_result"
    }
   ],
   "source": [
    "# leyendo el contenido del archivo (cada línea)\n",
    "contenido = f.readlines()\n",
    "contenido"
   ]
  },
  {
   "cell_type": "markdown",
   "metadata": {},
   "source": [
    "Usando el manejador del archivo, que llamamos **f**, podemos aplicar variadas funciones. En este caso leemos todas las líneas que contiene el archivo, con la funcion **readlines()**, y las guardamos en una nueva variable.\n",
    "\n",
    "Otras funciones para leer el contenido del archivo son:\n",
    "\n",
    "+ **readline()** que sólo lee una línea a la vez.\n",
    "+ **read()** que lee ....."
   ]
  },
  {
   "cell_type": "markdown",
   "metadata": {},
   "source": [
    "El archivo contiene una lista de productos con sus respectivos precios. Podemos manipular estas cadenas de texto y crear variables para realizar operaciones sobre los datos. Primero eliminaremos el caracter \"\\n\", que representa un salto de línea o \"enter\" dentro del texto."
   ]
  },
  {
   "cell_type": "code",
   "execution_count": 19,
   "metadata": {
    "collapsed": true
   },
   "outputs": [],
   "source": [
    "# eliminando el caracter \\n  (nueva línea o enter)\n",
    "for i in range(len(contenido)):\n",
    "    contenido[i] = contenido[i].replace(\"\\n\",\"\")"
   ]
  },
  {
   "cell_type": "markdown",
   "metadata": {},
   "source": [
    "Ya hemos visto anteriormente el uso de la función **replace** dentro de las cadenas de texto. Ahora que tenemos el texto sin saltos de líneas, podemos separar los nombres de los productos y los precios:"
   ]
  },
  {
   "cell_type": "code",
   "execution_count": 20,
   "metadata": {
    "collapsed": true
   },
   "outputs": [],
   "source": [
    "# separando nombres de precios (lista de listas)\n",
    "prod = [p.split() for p in contenido]"
   ]
  },
  {
   "cell_type": "markdown",
   "metadata": {},
   "source": [
    "La lista contiene tuplas con el nombre y el precio de cada producto. En algunos casos obtendremos elementos no deseados como listas o tuplas vacías que no son de interés:"
   ]
  },
  {
   "cell_type": "code",
   "execution_count": 21,
   "metadata": {},
   "outputs": [
    {
     "data": {
      "text/plain": [
       "[['carne', '30000'],\n",
       " ['jamón', '15000'],\n",
       " ['detergente', '12000'],\n",
       " ['champú', '18000'],\n",
       " ['refresco', '8000'],\n",
       " ['leche', '6000'],\n",
       " ['leche', '6000']]"
      ]
     },
     "execution_count": 21,
     "metadata": {},
     "output_type": "execute_result"
    }
   ],
   "source": [
    "# eliminando las listas sin contenido (vacías)\n",
    "for i in range(len(prod)):\n",
    "    if len(prod[i]) == 0: prod.pop(i)\n",
    "prod"
   ]
  },
  {
   "cell_type": "markdown",
   "metadata": {},
   "source": [
    "Fácilmente podemos obtener el diccionario de productos como el que hemos trabajado antes:"
   ]
  },
  {
   "cell_type": "code",
   "execution_count": 22,
   "metadata": {},
   "outputs": [
    {
     "data": {
      "text/plain": [
       "{'carne': 30000.0,\n",
       " 'champú': 18000.0,\n",
       " 'detergente': 12000.0,\n",
       " 'jamón': 15000.0,\n",
       " 'leche': 6000.0,\n",
       " 'refresco': 8000.0}"
      ]
     },
     "execution_count": 22,
     "metadata": {},
     "output_type": "execute_result"
    }
   ],
   "source": [
    "# creando el diccionario\n",
    "productos2 = {i[0]:float(i[1]) for i in prod}\n",
    "productos2"
   ]
  },
  {
   "cell_type": "markdown",
   "metadata": {},
   "source": [
    "Ahora tenemos otro diccionario con productos adicionales. ¿Cómo combinamos esta nueva lista con los productos que ya teníamos? La función **update()** permite modificar los valores de un diccionario y agregar nuevos elementos:"
   ]
  },
  {
   "cell_type": "code",
   "execution_count": 23,
   "metadata": {
    "scrolled": true
   },
   "outputs": [
    {
     "data": {
      "text/plain": [
       "{'aceite': 12000,\n",
       " 'arroz': 9850.5,\n",
       " 'azucar': 9000.0,\n",
       " 'carne': 30000.0,\n",
       " 'champú': 18000.0,\n",
       " 'detergente': 12000.0,\n",
       " 'harina': 11000,\n",
       " 'jamón': 15000.0,\n",
       " 'leche': 6000.0,\n",
       " 'pasta': 18000,\n",
       " 'refresco': 8000.0}"
      ]
     },
     "execution_count": 23,
     "metadata": {},
     "output_type": "execute_result"
    }
   ],
   "source": [
    "# los productos que ya teníamos\n",
    "productos = {'azucar':9000.0, 'arroz':9850.5, 'harina':11000, 'aceite':12000, 'pasta':18000}\n",
    "\n",
    "# ¿cómo combinamos los dos?\n",
    "productos.update(productos2)\n",
    "productos"
   ]
  },
  {
   "cell_type": "markdown",
   "metadata": {},
   "source": [
    "Es importante que una vez que terminemos de trabajar con el archivo, cerremos la conexión del mismo. La función **close()** hace el trabajo:"
   ]
  },
  {
   "cell_type": "code",
   "execution_count": 24,
   "metadata": {
    "collapsed": true
   },
   "outputs": [],
   "source": [
    "# cerramos la conexion al archivo\n",
    "f.close()"
   ]
  },
  {
   "cell_type": "markdown",
   "metadata": {},
   "source": [
    "Para agregar más productos a nuestra lista, pero dentro del archivo de texto, usamos la función **write()**, sobre el manejador de archivos **f**. En este caso usamos la sentencia **with**, que permite usar **f** sin necesidad de cerrar la conexión explícitamente al terminar de utilizarlo:"
   ]
  },
  {
   "cell_type": "code",
   "execution_count": 25,
   "metadata": {
    "collapsed": true
   },
   "outputs": [],
   "source": [
    "# abriendo la conexión al archivo en modo \"append\" para anexar datos al final\n",
    "with open('compras.txt', 'a') as f:\n",
    "    f.write(\"leche 6000\\n\")    # escribe la nueva línea al final del archivo"
   ]
  },
  {
   "cell_type": "markdown",
   "metadata": {},
   "source": [
    "En la función **open**, usamos el parámetro **'a'**, para indicar que el archivo esté preparado sólo para anexar líneas al final del mismo.\n",
    "\n",
    "La función **write** permite escribir cualquier cadena de caracteres al archivo de texto. Nota que la línea **\"leche 6000\\n\"** incluye el caracter de nueva línea al finalizar. Ahora comprobemos que realmente agregamos la nueva información a nuestro archivo, leyendo nuevamente:"
   ]
  },
  {
   "cell_type": "code",
   "execution_count": 26,
   "metadata": {},
   "outputs": [
    {
     "name": "stdout",
     "output_type": "stream",
     "text": [
      "['carne 30000\\n', 'jamón 15000\\n', 'detergente 12000\\n', 'champú 18000\\n', 'refresco 8000\\n', 'leche 6000\\n', 'leche 6000\\n', 'leche 6000\\n']\n"
     ]
    }
   ],
   "source": [
    "with open('compras.txt', 'r') as f:   # abre el archivo en modo lectura\n",
    "    c = f.readlines()                 # lee el contenido completo\n",
    "\n",
    "print(c)"
   ]
  },
  {
   "cell_type": "markdown",
   "metadata": {},
   "source": [
    "Como puedes ver, el nuevo producto está realmente listado al final del archivo.\n",
    "\n",
    "Uno de los formatos más usados en archivos de datos es el **.CSV**, conocido como \"valores separados por comas\". Las hojas de cálculo actualmente permiten guardar archivos con este formato. Podemos manipular de manera similar estos archivos:"
   ]
  },
  {
   "cell_type": "code",
   "execution_count": 27,
   "metadata": {
    "collapsed": true
   },
   "outputs": [],
   "source": [
    "# lo mismo pero con comas de separador:\n",
    "with open('compras.csv', 'r') as f:\n",
    "    c = f.readlines()\n",
    "\n",
    "# eliminando el caracter \\n  (nueva línea o enter)\n",
    "for i in range(len(c)):\n",
    "    c[i] = c[i].replace(\"\\n\",\"\")"
   ]
  },
  {
   "cell_type": "markdown",
   "metadata": {},
   "source": [
    "Nota que el proceso de lectura y reemplazo de caracteres sigue siendo el mismo."
   ]
  },
  {
   "cell_type": "code",
   "execution_count": 28,
   "metadata": {},
   "outputs": [
    {
     "data": {
      "text/plain": [
       "{'carne': 30000.0,\n",
       " 'champú': 18000.0,\n",
       " 'detergente': 12000.0,\n",
       " 'jamón espalda': 15000.0}"
      ]
     },
     "execution_count": 28,
     "metadata": {},
     "output_type": "execute_result"
    }
   ],
   "source": [
    "# separando nombres de precios (lista de listas)\n",
    "prod = [p.split(\",\") for p in c]\n",
    "\n",
    "# eliminando las listas sin contenido (vacías)\n",
    "for i in range(len(prod)):\n",
    "    if len(prod[i]) == 0: prod.pop(i)\n",
    "\n",
    "# creando el diccionario\n",
    "productos2 = {i[0]:float(i[1]) for i in prod}\n",
    "\n",
    "productos2"
   ]
  },
  {
   "cell_type": "markdown",
   "metadata": {},
   "source": [
    "La única diferencia importante reside en el uso de la función **split**. Dado que sabemos que el archivo está separdo por comas, utilizamos el caracter **\",\"** para hacer la división con ```p.split(\",\")``` en la primera línea de código."
   ]
  },
  {
   "cell_type": "markdown",
   "metadata": {},
   "source": [
    "Ahora queremos guardar este código como un *script* para usarlo cuando nos interese. Lo guardamos como un archivo de texto con extensión **.py**. Nuestro archivo lo llamamos **\"leerproductos.py\"**. Luego, para ejecutarlo sólo escribimos dentro del shell de python:"
   ]
  },
  {
   "cell_type": "code",
   "execution_count": 29,
   "metadata": {
    "collapsed": true
   },
   "outputs": [],
   "source": [
    "exec(open(\"leerproductos.py\").read())"
   ]
  },
  {
   "cell_type": "markdown",
   "metadata": {},
   "source": [
    "Esta instrucción tiene varios pasos que pueden escribirse separadamente para que notes con claridad el proceso:\n",
    "```python\n",
    "    f = open(\"leerproductos.py\")     # primero abrimos la conexión al archivo\n",
    "    c = f.read()              # luego leemos el contenido\n",
    "    exec(c)                   # y finalmente ejecutamos el código\n",
    "```\n",
    "\n",
    "Después de ejecutar los comandos de nuestro *script* podemos acceder a las variables que se crean internamente, por ejemplo \"productos2\":"
   ]
  },
  {
   "cell_type": "code",
   "execution_count": 30,
   "metadata": {},
   "outputs": [
    {
     "data": {
      "text/plain": [
       "{'carne': 30000.0,\n",
       " 'champú': 18000.0,\n",
       " 'detergente': 12000.0,\n",
       " 'jamón espalda': 15000.0}"
      ]
     },
     "execution_count": 30,
     "metadata": {},
     "output_type": "execute_result"
    }
   ],
   "source": [
    "productos2"
   ]
  },
  {
   "cell_type": "markdown",
   "metadata": {},
   "source": [
    "También podemos usar nuestras funciones desde *scripts* por medio de la sentencia **import**. La función resumen que hemos creado anteriormente la guardamos en un archivo llamado **mi_script.py**."
   ]
  },
  {
   "cell_type": "code",
   "execution_count": 31,
   "metadata": {
    "collapsed": true
   },
   "outputs": [],
   "source": [
    "def resumen(productos):  #recibe un diccionario de pares producto:precio\n",
    "    promedio =  sum(productos.values()) / len(productos)\n",
    "    maximo = max(productos.values())\n",
    "    return promedio, maximo     # devuelve dos valores en forma de tupla"
   ]
  },
  {
   "cell_type": "markdown",
   "metadata": {},
   "source": [
    "Ahora importamos nuestra función y la usamos con el diccionario \"productos2\":"
   ]
  },
  {
   "cell_type": "code",
   "execution_count": 32,
   "metadata": {},
   "outputs": [
    {
     "data": {
      "text/plain": [
       "(18750.0, 30000.0)"
      ]
     },
     "execution_count": 32,
     "metadata": {},
     "output_type": "execute_result"
    }
   ],
   "source": [
    "from mi_script import resumen    # importa la función resumen, del archivo mi_script.py\n",
    "resumen(productos2)               # ejecuta la funciónanalizar"
   ]
  },
  {
   "cell_type": "markdown",
   "metadata": {},
   "source": [
    "Si quieres cambiarle el nombre a tu script, usa la función **rename**. El primer argumento es una cadena con el nombre actual incluyendo la extensión del archivo, y la segunda es el nuevo nombre:\n",
    "\n",
    "```python\n",
    "import os\n",
    "os.rename(\"nombreviejo.txt\", \"nombrenuevo.txt\")\n",
    "```"
   ]
  },
  {
   "cell_type": "markdown",
   "metadata": {},
   "source": [
    "Desde el mismo shell de python puedes eliminar también cualquier archivo con la instrucción:\n",
    "```python\n",
    "import os\n",
    "os.remove(\"nombredelarchivo.txt\")\n",
    "```"
   ]
  },
  {
   "cell_type": "markdown",
   "metadata": {},
   "source": [
    "### Lectura de archivos desde la web\n",
    "***\n",
    "\n",
    "Es típico que se quieran extraer y analizar datos que están alojados en la web como archivos, o directamente en el código html de las páginas. El módulo **urllib** de Python permite manipular direcciones web para cargar datos."
   ]
  },
  {
   "cell_type": "code",
   "execution_count": 33,
   "metadata": {},
   "outputs": [
    {
     "ename": "SyntaxError",
     "evalue": "Missing parentheses in call to 'print' (<ipython-input-33-609af12f8297>, line 7)",
     "output_type": "error",
     "traceback": [
      "\u001b[0;36m  File \u001b[0;32m\"<ipython-input-33-609af12f8297>\"\u001b[0;36m, line \u001b[0;32m7\u001b[0m\n\u001b[0;31m    print myfile\u001b[0m\n\u001b[0m               ^\u001b[0m\n\u001b[0;31mSyntaxError\u001b[0m\u001b[0;31m:\u001b[0m Missing parentheses in call to 'print'\n"
     ]
    }
   ],
   "source": [
    "## lectura de archivos desde la web con urllib\n",
    "import urllib\n",
    "\n",
    "link = \"https://drive.google.com/open?id=0B6DckqJcFRC3ekt0UjZxMDhsVjg\"\n",
    "f = urllib.urlopen(link)\n",
    "myfile = f.read()\n",
    "print myfile"
   ]
  },
  {
   "cell_type": "markdown",
   "metadata": {},
   "source": [
    "También con el módulo [**requests**](http://docs.python-requests.org/en/latest/) podemos acceder a este tipo de datos:"
   ]
  },
  {
   "cell_type": "code",
   "execution_count": null,
   "metadata": {
    "collapsed": true
   },
   "outputs": [],
   "source": [
    "import requests\n",
    "link = \"http://www.somesite.com/details.pl?urn=2344\"\n",
    "f = requests.get(link)\n",
    "\n",
    "print f.text"
   ]
  },
  {
   "cell_type": "code",
   "execution_count": null,
   "metadata": {
    "collapsed": true
   },
   "outputs": [],
   "source": [
    "## lectura de html, xml con librerias xmlparser xml.etree.elementTree\n",
    "## lectura de json files\n"
   ]
  },
  {
   "cell_type": "markdown",
   "metadata": {
    "collapsed": true
   },
   "source": [
    "lectura de archivos, parte para agregar\n",
    "\n",
    "despues de hacer la limpieza con el csv separado por comas.. etc\n",
    "\n",
    "La única diferencia importante reside en el uso de la función **split**. Dado que sabemos que el archivo está separdo por comas, utilizamos el caracter **\",\"** para hacer la división con ```p.split(\",\")``` en la primera línea de código.\n",
    "\n",
    "\n",
    "Como los archivos en formatos csv son de los más usados actualmente, Python contiene un módulo para manejar especificamente este formato.\n",
    "\n",
    "import csv\n",
    "\n",
    "Abrimos la conexion al archivo como siempre y luego usamos las funciones especificas para manejar csv:\n",
    "\n",
    "with open(\"archivo.csv\") as f:\n",
    "\tlector = csv.reader(f)\n",
    "\tcabecera = reader.next()\n",
    "\tdatos = [row for row in lector]\n",
    "\n",
    "La funcion **reader** crea un objeto por medio del cual podemos manipular cada línea del archivo csv.\n",
    "Algunos archivos csv contienen en sus primeras lineas información sobre el mismo, nombre, autores, y demás. Con la función **next**, accedemos a la siguiente línea en la iteración, y como es nuestra primera lectura, en este caso es la primera.\n",
    "\n",
    "La variable datos, es la lista con cada una de las líneas del archivo.\n",
    "Podemos ver su contenido imprimiendo cada una de ellas de la forma usual:\n",
    "\n",
    "print(cabecera)\n",
    "for linea in datos: print(linea)\n",
    "\n",
    "\n",
    "Además de csv, python tambien cuenta con tros modulos para leer hojas de excel:\n",
    "\n",
    "import xlrd\n",
    "\n",
    "libro = xlrd.open_workbook(filename=file) \n",
    "\n",
    "Esta instrucción abre el libro de excel y nos da una manera de manipularlo.\n",
    "\n",
    "luego podemos escoger una hoja en particular usando el nombre, con la función sheet_by_name. Tambíen podemos acceder según el número de la hoja con sheet_by_index.\n",
    "En este caso accedemos por nombre:\n",
    "\n",
    "hoja = wb.sheet_by_name(\"Hoja1')      # abre la hoja del libro\n",
    "\n",
    "Ahora que tenemos el contenido de la hoja, vamos a leer cada línea y columna que encontremos:\n",
    "\n",
    "dataset = []  # lista vacia para colocar el contenido\n",
    "for r in range(hoja.nrows):   # nrows indica el numero de lineas que tiene la hoja\n",
    "\tcol = []     \n",
    "\tfor c in range(hoja.ncols):  # el numero de columnas detectada\n",
    "\t\tcol.append(hoja.cell(r, c).value)  # cell accede a las celdas individuales del archivo\n",
    "\tdataset.append(col)   # guarda cada valor en la lista\n",
    "\n",
    "Vemos el contenido del nuevo conjunto de datos que acabamos de crear:\n",
    "\n",
    "print(dataset)\n",
    "\n",
    "\n",
    "Archivos JSON\n",
    "Este es un formato de archivos ampliamente usado en aplicaciones y sistemas. Contiene una estructura del tipo etiqueta: valor, como esta:\n",
    "\n",
    "mostrar imagen.\n",
    "\n",
    "Generalmente estos archivos están alojados en la web, aunque puedes tenerlos en una ubicacion local en tu pc. Para extraer datos de este tipo, podemos usar el módulo request de esta forma:\n",
    "\n",
    "import requests\n",
    "\n",
    "Esta es la dirección web donde se encuentra el archivo JSON\n",
    "\n",
    "url = 'https://api.github.com/users/justglowing'\n",
    "\n",
    "Luego con la función **get** del modulo **requests** accedemos a la direccion web:\n",
    "r = requests.get(url)\n",
    "\n",
    "Y con la función json le extraemos el contenido estructurado dentro de la dirección web:\n",
    "\n",
    "json_obj = r.json()\n",
    "\n",
    "Esto nos da un diccionario con todos los pares de etiquetas y valores, a los que podemos acceder como siempre:\n",
    "\n",
    "print(json_obj)\n",
    "json_obj['id']\n",
    "\n",
    "A partir de aquí ya podemos utilizar los datos para hacer análisis, graficar, organizarlos o guardarlos con otros formatos."
   ]
  },
  {
   "cell_type": "code",
   "execution_count": null,
   "metadata": {
    "collapsed": true
   },
   "outputs": [],
   "source": []
  },
  {
   "cell_type": "markdown",
   "metadata": {},
   "source": [
    "***\n",
    "| [Atrás](Módulo II - 02 - Estructuras de datos y de control.ipynb) | [Inicio](Introducción - Contenido.ipynb) | [Siguiente](Módulo III - 02 - Introducción al Control de Versiones con Git.ipynb)"
   ]
  }
 ],
 "metadata": {
  "kernelspec": {
   "display_name": "Python 3",
   "language": "python",
   "name": "python3"
  },
  "language_info": {
   "codemirror_mode": {
    "name": "ipython",
    "version": 3
   },
   "file_extension": ".py",
   "mimetype": "text/x-python",
   "name": "python",
   "nbconvert_exporter": "python",
   "pygments_lexer": "ipython3",
   "version": "3.6.1"
  }
 },
 "nbformat": 4,
 "nbformat_minor": 2
}
