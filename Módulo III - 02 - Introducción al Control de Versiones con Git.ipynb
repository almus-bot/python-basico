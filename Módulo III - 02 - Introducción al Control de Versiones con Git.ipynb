{
 "cells": [
  {
   "cell_type": "markdown",
   "metadata": {},
   "source": [
    "# Control de versiones con Git\n",
    "***\n",
    "\n",
    "Ahora tenemos varios archivos en nuestra carpeta de proyecto. Es importante tener una forma de controlar los cambios que hagamos y respaldar los datos y *scripts*. Podemos usar herramientas de **control de versiones** para mantener organizado nuestro trabajo.\n",
    "\n",
    "El **control de versiones** permite hacer segumiento de los cambios sobre nuestro código, nuestro datos y demás archivos que usemos. Es un concepto que puede ser utilizado no sólo por programadores sino para cualquier proyecto en general que quieras mantener controlado.\n",
    "\n",
    "Una de las herramientas más populares para control de versiones es **Git**. Con Git podemos crear distintos \"repositorios\", que básicamente son directorios donde colocarás tus archivos y proyectos.\n",
    "\n",
    "## Instalación desde Windows\n",
    "***\n",
    "Para usarlo desde nuestra pc debemos instalar el programa. Si usas Windows, descarga el programa desde [aquí](https://git-for-windows.github.io/) o [aquí](https://github.com/git-for-windows/git/releases/tag/v2.14.1.windows.1). Elige la version de 32 o 64 bits según tu sistema.\n",
    "\n",
    "![Descarga para Windows](images/014-descargagit.png)\n",
    "\n",
    "Ejecuta el archivo **.exe**, sigue las instrucciones hasta finalizar el proceso de instalación. Luego puedes abrir un terminal de windows (busca en tu menú de inicio \"cmd\"); o puedes abrir *Git Bash*, que debe haber sido instalado junto con Git.\n",
    "\n",
    "## Instalación desde Linux\n",
    "***\n",
    "En linux, puedes instalarlo por línea de comandos. En un terminal escribe:\n",
    "\n",
    "```\n",
    "sudo apt-get update\n",
    "sudo apt-get install git\n",
    "```\n",
    "Verifica que se haya instalado correctamente con el comando siguiente en tu terminal, el cual deberá mostrarte la versión instalada del programa:\n",
    "\n",
    "```\n",
    "git --version\n",
    "```"
   ]
  },
  {
   "cell_type": "markdown",
   "metadata": {},
   "source": [
    "## Configuración y creación de repositorios\n",
    "***\n",
    "Inmediatamente puedes empezar a usar git. En primer lugar debes configurar tu nombre de usuario y correo electrónico, con los siguientes comandos (en el terminal o en Git bash en Windows):\n",
    "\n",
    "```\n",
    "git config --global user.name \"tu nombre\"\n",
    "git config --global user.email \"tu_email@email.com\"\n",
    "```\n"
   ]
  },
  {
   "cell_type": "markdown",
   "metadata": {},
   "source": [
    "Ahora que tenemos **Git** configurado, podemos crear un repositorio para nuestro proyecto. En el terminal, debemos estar ubicados en el directorio donde están nuestros archivos. En el terminal de linux usa el comando **pwd** para ver la ruta del directorio actual, y **ls** para ver una lista de los archivos que contiene.\n",
    "\n",
    "```\n",
    "pwd\n",
    "ls\n",
    "```\n",
    "\n",
    "Para cambiar de directorio o carpeta, usa el comando **cd** seguido de la ruta del directorio al que quieras entrar. Por ejemplo:\n",
    "\n",
    "```\n",
    "cd /home/user/Documentos/\n",
    "```\n",
    "\n",
    "Si escribes: **`cd ..`** , te ubicarás en el directorio inmediatamente anterior a dónde te encuentras actualmente:\n",
    "\n",
    "```\n",
    "cd ..\n",
    "pwd\n",
    "```"
   ]
  },
  {
   "cell_type": "markdown",
   "metadata": {},
   "source": [
    "Ahora en el directorio correcto, creamos un nuevo repositorio de Git con el comando:\n",
    "```\n",
    "git init\n",
    "```\n",
    "Con estos comandos, agregas los archivos que indicas en la lista de seguimiento del repositorio. Usando el **'.'** agregas todos los que aun estén sin seguimientos.\n",
    "```\n",
    "git add <nombre-del-archivo>\n",
    "git add .\n",
    "```\n",
    "Puedes ver el estado de tus archivos con:\n",
    "```\n",
    "git status\n",
    "```\n",
    "Luego para \"guardar\" los cambios que has hecho sobre los archivos, usamos la instrucción:\n",
    "```\n",
    "git commit -m \"mensaje\"\n",
    "```\n",
    "Donde \"mensaje\" es cualquier mensaje personalizado que describa brevemente los cambios que has hecho sobre el archivo.\n",
    "\n",
    "Todo este proceso está sucediendo en tu repositorio local, es decir en las carpetas de tu pc. Para tener el respaldo online, puedes usar alguno de los servicios de hosting preparados para control de versiones. En nuestro caso usaremos [Github](https://github.com)."
   ]
  },
  {
   "cell_type": "markdown",
   "metadata": {},
   "source": [
    "## Creación de cuenta y repo en Github\n",
    "***\n",
    "\n",
    "Para registrarte en Github, sólo necesitas elegir tu nombre de usuario, dar tu correo y crear una contraseña:\n",
    "\n",
    "![Registro en Github](images/013-registrogit.png)\n",
    "\n",
    "Ahora vamos a crear un repositorio vació para almacenar nuestro proyecto local. Dentro de Github, en la esquina superior derecha encontrarás un símbolo \"+\". Elige la opción \"Nuevo repositorio\", o \"New repository\".\n",
    "\n",
    "![Crear repositorio](images/015-nuevorepo.png)\n",
    "\n",
    "En la siguiente página, elige un nombre para tu repositorio. Dejamos la opción **Pública** por defecto. (para usar la versión privada debe pagarse una suscripción). En este caso, asegúrate de NO elegir la opción *\"Iniciar este repositorio con un README\"*. \n",
    "\n",
    "![Crear repositorio sin README](images/016-nuevorepo2.png)\n",
    "\n",
    "En la siguiente página encontrarás instrucciones para conectar tu proyecto local con tu recién creado repositorio en Github.\n",
    "\n",
    "![Dirección del repo](images/017-nuevorepo3.png)\n",
    "\n",
    "\n",
    "Copia la dirección del repositorio y ejecuta en tu terminal los siguientes comandos:\n",
    "\n",
    "```\n",
    "git remote add origin \"<direccion-de-tu-repo-en-github>\"\n",
    "git push -u origin master       # sube los archivos a github\n",
    "```\n",
    "Te pedirá los datos de *login* de tu cuenta de Github, y luego se encargará de subir los archivos, que ya estarán en tu repositorio online!\n",
    "\n",
    "La siguiente imagen muestra la estructura de este curso dentro de un repo en Github, que ha sido creado siguiendo estos pasos:\n",
    "\n",
    "![Repo del curso](images/018-repocurso.png)\n",
    "\n",
    "\n",
    "Si ya tienes un repo en Github y quieres descargar los archivos para empezar a trabajar en local entonces usa el comando:\n",
    "\n",
    "```\n",
    "git clone \"<direccion-de-tu-repo-en-github>\"\n",
    "```\n",
    "\n",
    "Esto creará una copia completa del proyecto en tu computadora, desde la que podrás modificar y llevar el control de versiones. En este caso, para hacer el *push* (subir cambios en los archivos), **NO** es necesario especificar el *origen remoto* como antes (`git remote add origin`).\n",
    "\n",
    "Ahora puedes mantener tus proyectos sincronizados, compartir y colaborar fácilmente con la comunidad de Github. Para usos más avanzados de git, creación de ramas (*branches*), ejecutar *merges*, *pull request* y otros,  puedes revisar [material](https://guides.github.com/activities/hello-world/) y [tutoriales](https://try.github.io/levels/1/challenges/1) disponibles en la web."
   ]
  },
  {
   "cell_type": "markdown",
   "metadata": {},
   "source": [
    "***\n",
    "| [Atrás](Módulo III - 01 - Funciones, lectura y escritura de archivosl.ipynb) | [Inicio](00 - Contenido.ipynb) | [Siguiente](Módulo IV - 01 - Introducción a la Ciencia de Datos.ipynb)"
   ]
  }
 ],
 "metadata": {
  "kernelspec": {
   "display_name": "Python 3",
   "language": "python",
   "name": "python3"
  },
  "language_info": {
   "codemirror_mode": {
    "name": "ipython",
    "version": 3
   },
   "file_extension": ".py",
   "mimetype": "text/x-python",
   "name": "python",
   "nbconvert_exporter": "python",
   "pygments_lexer": "ipython3",
   "version": "3.6.1"
  }
 },
 "nbformat": 4,
 "nbformat_minor": 2
}
