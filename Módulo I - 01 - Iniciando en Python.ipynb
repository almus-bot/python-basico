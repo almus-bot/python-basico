{
 "cells": [
  {
   "cell_type": "markdown",
   "metadata": {},
   "source": [
    "# Módulo I - 01 - Iniciando en Python\n",
    "***"
   ]
  },
  {
   "cell_type": "markdown",
   "metadata": {},
   "source": [
    "## Introducción a Python\n",
    "***\n",
    "   \n",
    "Python es un lenguaje de programación interpretado creado en 1991. Con interpretado se quiere decir que no es necesario procesar el código con un compilador previo a su ejecución, como se hace con otros lenguajes tales como C++ o Java. La versión de python mas reciente actualmente es la 3, la cual contiene algunas diferencias importantes respecto a la versión 2.\n",
    "\n",
    "Python se caracteriza por ser un lenguaje con una sintaxis limpia e intuitiva, lo que hace el código más ordenado y más fácil de interpretar.\n",
    "\n",
    "Para usar python en nuestras computadoras sólo tenemos que instalar el software necesario como cualquier otro programa. En este caso contamos con la plataforma Anaconda, creada por [Anaconda Inc.](https://www.anaconda.com/) (antes Continuum), que contiene las herramientas necesarias para trabajar con python. Anaconda incluye herramientas adicionales necesarias para explotar el potencial de python para cálculos numéricos, visualizaciones y en general, ciencia de datos. Miniconda es una versión reducida de esta plataforma.\n",
    "\n",
    "Instala Anaconda en tu pc independientemente de tu sistema operativo (Windows, Linux, MAC), descargándolo desde la pagina oficial de Continuum [aquí](https://www.anaconda.com/download).\n",
    "\n",
    "## Prompt de Python\n",
    "***\n",
    "\n",
    "Una vez instalado Anaconda, el código Python puede ser ejecutado directamente desde el interprete de python, que podrás usar desde una terminal de comandos. O a través de scripts. En una terminal de linux o mac, si escribimos\n",
    "\n",
    "![Consola de linux](images/001-consola.png)\n",
    "\n",
    "Se mostrará el simbolo **`>>>`** (prompt de python), que significa que está todo preparado para recibir instrucciones. En principio se muestra la información de versión de python y algunos comandos útiles de ayuda.\n",
    "\n",
    "![Inicio de Python en la consola](images/002-pythonprompt.png)\n",
    "\n",
    "Para \"limpiar\" esta ventana puedes usar el comando **`Ctrl + L`**. Empecemos por probar lo sencillo de las intrucciones de python con el clásico **`\"¡Hola mundo!\"`**. En el intérprete escribimos:\n",
    "\n",
    "``` python\n",
    ">>> print(\"¡Hola mundo!\")\n",
    "```\n",
    "\n",
    "Presionamos enter y automáticamente el comando debe ser ejecutado, produciendo una salida en la ventana. En este caso, solo mostrará la frase \"Hola mundo!\", en conjunto, tu terminal debera mostrar algo como esto:\n",
    "\n",
    "![\"¡Hola mundo!\" en Python](images/003-holamundo.png)\n",
    "\n",
    "Si queremos ejecutar el mismo código mediante un *script*, sólo tenemos que escribir las mismas instrucciones en una archivo de texto plano, y guardarlo con la extensión **\".py\"**. Luego, en el terminal de tu sistema operativo, escribe:\n",
    "\n",
    "``` python\n",
    "~ $ python <nombre-del-archivo.py>\n",
    "```\n",
    "Y de la misma forma nos mostrará el resultado. Probando con nuestro **\"hola mundo\"**:\n",
    "\n",
    "![Desde un script](images/005-scripthola.png)\n",
    "\n",
    "Existen muchos editores de texto que puedes usar para crear tus scripts. Spyder es un IDE que incluye un editor para python, y viene incluido dentro de Anaconda. Desde el panel principal de *Anaconda-navigator* podemos instalar software adicional o usar la interfaz gráfica para trabajar en nuestros proyectos.\n",
    "\n",
    "![Anaconda Navigator](images/007-anaconda.png)\n",
    "\n",
    "<!--source ~/anaconda/bin/activate-->\n",
    "\n",
    "En linux, escribe en tu terminal *`anaconda-navigator`*.\n",
    "\n",
    "![Comando para abrir Anaconda Navigator desde el terminal](images/006-anaconda-comando.png)\n",
    "\n",
    "En Windows, *`inicio -> Todos los programas -> Anaconda -> Anaconda Navigator`*.\n",
    "\n",
    "## Sintaxis\n",
    "\n",
    "***\n",
    "\n",
    "Otros editores son Pycharm, Sublime y Atom. Ciertamente puedes usar cualquier editor de texto plano (sin formatos enriquecidos). La ventaja de los editores especializados es que puedes controlar el orden y funcionamiento de tu código de manera más eficiente, con ayuda del coloreado de sintaxis, tabulaciones, depuración, búsqueda y reemplazo automático de instrucciones, entre otras.\n",
    "\n",
    "![Editor con coloreado de sintaxis](images/008-sintaxis.png)\n",
    "\n",
    "¿Por qué es importante el editor en python? El código en python suele tener un aspecto bastante limpio y ordenado, esto se debe en gran medida a las reglas de sintaxis que posee. Una en particular importante es que tu código no se ejecutará (o te dará resultados erróneos) si no cumple con una indentación consistente.\n",
    "\n",
    "![Indentación en Python](images/009-indentacion.png)\n",
    "\n",
    "La indentación se refiere a los espacios o tabulaciones al principio de cada línea con que estructuramos el código. En la imagen anterior podemos observar 3 niveles de indentación, sumamente importante para la correcta ejecución del código.\n",
    "\n",
    "Pueden colocarse varias instrucciones en una sóla línea, separándolas con puntos y coma (;):"
   ]
  },
  {
   "cell_type": "code",
   "execution_count": null,
   "metadata": {
    "collapsed": true
   },
   "outputs": [],
   "source": [
    "a = 3; b = 4"
   ]
  },
  {
   "cell_type": "markdown",
   "metadata": {},
   "source": [
    "La cantidad de espacios en una instrucción completa no afecta el resultado, pero no es una práctica recomendada:"
   ]
  },
  {
   "cell_type": "code",
   "execution_count": null,
   "metadata": {
    "collapsed": true
   },
   "outputs": [],
   "source": [
    "c= a*b   +  b    - a"
   ]
  },
  {
   "cell_type": "markdown",
   "metadata": {},
   "source": [
    "Se debe escribir de manera más limpia y ordenada:"
   ]
  },
  {
   "cell_type": "code",
   "execution_count": null,
   "metadata": {
    "collapsed": true
   },
   "outputs": [],
   "source": [
    "c = a * b - a"
   ]
  },
  {
   "cell_type": "markdown",
   "metadata": {},
   "source": [
    "Además, la filosofía de la comunidad de Python gira en torno a la simpleza y las instrucciones claras y explicítas, un código limpio y ordenado aumenta la probabilidad de comprensión y asegura una mejor manera de compartir tu código. Esto es particularmente importante en el mundo de los investigadores y desarrolladores actualmente. Por estas razones y más, se creó el Pep8, que es una guía de estilo para el código de python, donde se recopilan las recomendaciones para escribir el código, desde los espacios, indentaciones, comentarios, mayúsculas y minúsculas, \"imports\", nombres de funciones, entre otros, como veremos a lo largo del curso.\n",
    "\n",
    "Puedes revisar el Pep8 desde [aquí](https://www.python.org/dev/peps/pep-0008/).\n",
    "\n",
    "<!--<<revisar herramientas de anaconda>>-->\n"
   ]
  },
  {
   "cell_type": "markdown",
   "metadata": {},
   "source": [
    "***\n",
    "| [Inicio](00 - Contenido.ipynb) | [Siguiente](Módulo I - 02 - Iniciando en Python.ipynb) "
   ]
  }
 ],
 "metadata": {
  "kernelspec": {
   "display_name": "Python 3",
   "language": "python",
   "name": "python3"
  },
  "language_info": {
   "codemirror_mode": {
    "name": "ipython",
    "version": 3
   },
   "file_extension": ".py",
   "mimetype": "text/x-python",
   "name": "python",
   "nbconvert_exporter": "python",
   "pygments_lexer": "ipython3",
   "version": "3.6.2"
  }
 },
 "nbformat": 4,
 "nbformat_minor": 2
}
