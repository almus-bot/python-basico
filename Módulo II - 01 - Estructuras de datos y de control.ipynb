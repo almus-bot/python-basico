{
 "cells": [
  {
   "cell_type": "markdown",
   "metadata": {},
   "source": [
    "# Estructuras de datos\n",
    "***\n",
    "Hasta ahora sólo hemos guardado la información de pocos productos. Queremos almacenar otros, y es lógico que queramos hacerlo con orden, en un mismo lugar. En Python, podemos hacer uso de distintas estructuras de datos para ello. Por ejemplo, habíamos definido:"
   ]
  },
  {
   "cell_type": "code",
   "execution_count": 3,
   "metadata": {
    "collapsed": true
   },
   "outputs": [],
   "source": [
    "azucar = 9850.5\n",
    "arroz = 9000.0"
   ]
  },
  {
   "cell_type": "markdown",
   "metadata": {},
   "source": [
    "Pero podemos mantener ambos valores en una sola variable:"
   ]
  },
  {
   "cell_type": "code",
   "execution_count": 4,
   "metadata": {},
   "outputs": [
    {
     "data": {
      "text/plain": [
       "[9850.5, 9000.0]"
      ]
     },
     "execution_count": 4,
     "metadata": {},
     "output_type": "execute_result"
    }
   ],
   "source": [
    "precios = [9850.50, 9000.0]\n",
    "precios"
   ]
  },
  {
   "cell_type": "markdown",
   "metadata": {},
   "source": [
    "## Listas \n",
    "***\n",
    "A diferencia de los tipos de datos que hemos visto anteriormente, este es un dato compuesto, formado por una estructura conocida como **lista**. Literalmente almacena una lista de datos, que pueden ser de cualquier tipo (incluyendo a otras listas!). En este caso, es una lista de numeros flotantes, pero podemos tener también:"
   ]
  },
  {
   "cell_type": "code",
   "execution_count": 5,
   "metadata": {},
   "outputs": [
    {
     "data": {
      "text/plain": [
       "[25, 'andrés', 300.21, [1, 2, 3]]"
      ]
     },
     "execution_count": 5,
     "metadata": {},
     "output_type": "execute_result"
    }
   ],
   "source": [
    "lista = [25, \"andrés\", 300.21, [1,2,3]]\n",
    "lista"
   ]
  },
  {
   "cell_type": "markdown",
   "metadata": {},
   "source": [
    "Podemos almacenar otros productos dentro de listas, esta vez limitado sólo a los nombres. Además ya conocemos el precio de los dos primeros, e incluimos precios del resto, así que creamos una lista de precios:"
   ]
  },
  {
   "cell_type": "code",
   "execution_count": 6,
   "metadata": {
    "collapsed": true
   },
   "outputs": [],
   "source": [
    "nombres = [\"arroz\",\"azucar\",\"harina\", \"aceite\"]  # nombres de cada producto\n",
    "precios = [arroz, azucar, 12000, 18000]          # precios correspondientes a cada producto"
   ]
  },
  {
   "cell_type": "markdown",
   "metadata": {},
   "source": [
    "Observa que podemos construir la lista **\"precios\"** usando otras variables definidas anteriormente (en este caso los precios de arroz y azucar, las colocamos directamente dentro de los corchetes).\n",
    "\n",
    "***\n",
    "> *Construye una lista que contenga tus datos personales como nombres, cedula, edad y cualquier otro:*\n",
    "\n",
    "***\n"
   ]
  },
  {
   "cell_type": "code",
   "execution_count": 7,
   "metadata": {
    "collapsed": true
   },
   "outputs": [],
   "source": [
    "datos = [\"Mariangely\", 25, 19527052, \"Carúpano, Sucre\", 346.80]"
   ]
  },
  {
   "cell_type": "markdown",
   "metadata": {},
   "source": [
    "\n",
    "#### Tamaño de la lista\n",
    "¿Cuántos elementos tiene la lista? Podemos usar la función **len()**, que nos informa el número de elemento o \"longitud\" del objeto lista."
   ]
  },
  {
   "cell_type": "code",
   "execution_count": 5,
   "metadata": {},
   "outputs": [
    {
     "data": {
      "text/plain": [
       "4"
      ]
     },
     "execution_count": 5,
     "metadata": {},
     "output_type": "execute_result"
    }
   ],
   "source": [
    "len(nombres)"
   ]
  },
  {
   "cell_type": "code",
   "execution_count": 6,
   "metadata": {
    "scrolled": true
   },
   "outputs": [
    {
     "data": {
      "text/plain": [
       "4"
      ]
     },
     "execution_count": 6,
     "metadata": {},
     "output_type": "execute_result"
    }
   ],
   "source": [
    "len(precios)"
   ]
  },
  {
   "cell_type": "markdown",
   "metadata": {},
   "source": [
    "***\n",
    "> *Calcula cuántos elementos tiene la lista con tus datos personales! Guarda la variable y haz cualquier operación aritmética con ella.*\n",
    "\n",
    "***"
   ]
  },
  {
   "cell_type": "code",
   "execution_count": 9,
   "metadata": {},
   "outputs": [
    {
     "data": {
      "text/plain": [
       "18"
      ]
     },
     "execution_count": 9,
     "metadata": {},
     "output_type": "execute_result"
    }
   ],
   "source": [
    "size = len(datos)\n",
    "size*4 - 2"
   ]
  },
  {
   "cell_type": "markdown",
   "metadata": {},
   "source": [
    "### Agregar más elementos\n",
    "\n",
    "Supón que queremos agregar el precio de otro producto. Dentro del manejo de listas, fácilmente podemos anexar un nuevo elemento haciendo:"
   ]
  },
  {
   "cell_type": "code",
   "execution_count": 7,
   "metadata": {},
   "outputs": [
    {
     "data": {
      "text/plain": [
       "['azucar', 'arroz', 'harina', 'aceite', 'pasta']"
      ]
     },
     "execution_count": 7,
     "metadata": {},
     "output_type": "execute_result"
    }
   ],
   "source": [
    "nombres.append(\"pasta\")    # agregamos al final el producto \"pasta\"\n",
    "nombres"
   ]
  },
  {
   "cell_type": "code",
   "execution_count": 8,
   "metadata": {},
   "outputs": [
    {
     "data": {
      "text/plain": [
       "[9000.0, 9850.5, 12000, 18000, 11000]"
      ]
     },
     "execution_count": 8,
     "metadata": {},
     "output_type": "execute_result"
    }
   ],
   "source": [
    "precios.append(11000)      # agregamos al final el precio 11000\n",
    "precios"
   ]
  },
  {
   "cell_type": "markdown",
   "metadata": {},
   "source": [
    "La función **append()**, usada después del punto, colocará el nuevo elemento al final de la lista. \n",
    "***\n",
    "> *Agrega otros datos en tu lista personal y muéstralos en pantalla:*\n",
    "\n",
    "***"
   ]
  },
  {
   "cell_type": "code",
   "execution_count": null,
   "metadata": {
    "collapsed": true
   },
   "outputs": [],
   "source": []
  },
  {
   "cell_type": "markdown",
   "metadata": {},
   "source": [
    "En la consola de Pyhton, podemos presionar la tecla **\"tab\"** o tabulador despues del punto al final del nombre de variable, en este caso *lista*, esto nos dará las opciones de funciones que podemos aplicar sobre el objeto. En el terminal de Python en linux, las opciones se desplegan como muestra la imagen siguiente.\n",
    "\n",
    "![Autocompletado en el terminal](images/011-listatab.png)\n",
    "\n",
    "En los cuadernos de Jupyter se puede hacer uso de la misma funcionalidad:\n",
    "\n",
    "![Autocompletado en el terminal](images/010-listajupyter.png)\n"
   ]
  },
  {
   "cell_type": "markdown",
   "metadata": {},
   "source": [
    "Ahora que ya conocemos las listas, aprovechemos de guardar más información relevante de nuestros productos. Para cada uno tenemos la tienda donde lo compramos, la dirección de la tienda y dos variables para indicar si hay estacionamiento y si el lugar tiene punto de venta. \n",
    "\n",
    "***\n",
    "> *Puedes crear cualquier otra que creas que haga falta.*\n",
    "\n",
    "***"
   ]
  },
  {
   "cell_type": "code",
   "execution_count": 9,
   "metadata": {},
   "outputs": [
    {
     "data": {
      "text/plain": [
       "['los chinos de la esquina',\n",
       " 'supermercado MUNDO',\n",
       " 'Abasto el rey',\n",
       " 'la bodega de Juan']"
      ]
     },
     "execution_count": 9,
     "metadata": {},
     "output_type": "execute_result"
    }
   ],
   "source": [
    "# ahora construimos la lista con todos los nombres de las tiendas\n",
    "tienda1 = \"los chinos de la esquina\"\n",
    "tienda2 = \"supermercado MUNDO\"\n",
    "tienda3 = \"Abasto el rey\"\n",
    "tienda4 = \"la bodega de Juan\"\n",
    "\n",
    "tiendas = [tienda1, tienda2, tienda3, tienda4]\n",
    "tiendas"
   ]
  },
  {
   "cell_type": "code",
   "execution_count": 10,
   "metadata": {
    "collapsed": true
   },
   "outputs": [],
   "source": [
    "# construimos directamente la lista con las direcciones. En este caso, es una lista de cadenas.\n",
    "direcciones = [\"Avenida 5 CALLe 10\", \"av 4 calle 25 edif c\", \n",
    "               \"AV LORA CALLE 23\", \"av Don tulio edif Uno calle 32\"]\n",
    "\n",
    "# variables lógicas que indican False o True dependiendo \n",
    "# si hay o no estacionamiento o punto de venta en cada lugar.\n",
    "estacionamientos = [True, True, False, False]\n",
    "puntos = [True, False, True, False]"
   ]
  },
  {
   "cell_type": "markdown",
   "metadata": {},
   "source": [
    "***\n",
    "> *¿Se pueden arreglar las direcciones para que esten escritas de manera estándar? Prueba a usar las funciones de cadenas que vimos antes!*\n",
    "\n",
    "***"
   ]
  },
  {
   "cell_type": "code",
   "execution_count": null,
   "metadata": {
    "collapsed": true
   },
   "outputs": [],
   "source": []
  },
  {
   "cell_type": "markdown",
   "metadata": {},
   "source": [
    "### Ordenar la lista\n",
    "\n",
    "Una tarea frecuente sobre una lista es ordenar sus elementos. La funcion **sort** los ordena, siempre y cuando sea posible. En la variable \"numeros\" almacenamos algunos elementos enteros y aplicamos la función:"
   ]
  },
  {
   "cell_type": "code",
   "execution_count": 10,
   "metadata": {},
   "outputs": [
    {
     "data": {
      "text/plain": [
       "[1, 2, 3, 4, 5]"
      ]
     },
     "execution_count": 10,
     "metadata": {},
     "output_type": "execute_result"
    }
   ],
   "source": [
    "numeros = [4,3,1,5,2]\n",
    "numeros.sort()\n",
    "numeros"
   ]
  },
  {
   "cell_type": "markdown",
   "metadata": {},
   "source": [
    "La función **sort** actúa directamente sobre el mismo objeto, es decir, no hay necesidad de asignar el resultado a otra nueva variable, por eso podemos continuar usando \"numeros\", que ahora estará ordenado. Por defecto se ordena de menor a mayor.\n",
    "\n",
    "***\n",
    "> *Ordena nuestra lista de precios:*\n",
    "\n",
    "***"
   ]
  },
  {
   "cell_type": "code",
   "execution_count": 12,
   "metadata": {},
   "outputs": [
    {
     "data": {
      "text/plain": [
       "[9000.0, 9850.5, 11000, 12000, 18000]"
      ]
     },
     "execution_count": 12,
     "metadata": {},
     "output_type": "execute_result"
    }
   ],
   "source": [
    "precios.sort()\n",
    "precios"
   ]
  },
  {
   "cell_type": "markdown",
   "metadata": {},
   "source": [
    "Para ordenarlos de mayor a menor, podemos hacer uso de la opción *reverse* de la función. Si configuramos esta opcíon con *True*, obtendremos el orden descendente de los elementos.\n",
    "\n",
    "``` python\n",
    "precios.sort(reverse = True)\n",
    "```"
   ]
  },
  {
   "cell_type": "markdown",
   "metadata": {},
   "source": [
    "### Otras operaciones\n",
    "Podemos realizar otro tipo de operaciones con las listas. ¿Qué crees que resulte de la siguiente?:"
   ]
  },
  {
   "cell_type": "code",
   "execution_count": 11,
   "metadata": {},
   "outputs": [
    {
     "data": {
      "text/plain": [
       "[25, 'andrés', 300.21, [1, 2, 3], 1, 2, 3, 4, 5]"
      ]
     },
     "execution_count": 11,
     "metadata": {},
     "output_type": "execute_result"
    }
   ],
   "source": [
    "lista + numeros"
   ]
  },
  {
   "cell_type": "markdown",
   "metadata": {},
   "source": [
    "El operador '+' permite en este caso concatenar o \"pegar\" los elementos de ambas listas en una sola, **no suma aritméticamente los elementos**.\n",
    "\n",
    "***\n",
    "> *\"Suma\" las listas anteriores en orden inverso. Prueba a concatenar tus datos personales con otra lista:*\n",
    "\n",
    "***"
   ]
  },
  {
   "cell_type": "code",
   "execution_count": null,
   "metadata": {
    "collapsed": true
   },
   "outputs": [],
   "source": []
  },
  {
   "cell_type": "markdown",
   "metadata": {},
   "source": [
    "Ya hemos visto que para acceder a elementos de la lista, usamos los corchetes y el índice que indica la posición del elemento."
   ]
  },
  {
   "cell_type": "code",
   "execution_count": 14,
   "metadata": {},
   "outputs": [
    {
     "data": {
      "text/plain": [
       "(11000, 'harina')"
      ]
     },
     "execution_count": 14,
     "metadata": {},
     "output_type": "execute_result"
    }
   ],
   "source": [
    "precios[2] , nombres[2]"
   ]
  },
  {
   "cell_type": "markdown",
   "metadata": {},
   "source": [
    "***\n",
    "> *Accede a tu nombre o edad en tu lista personal. Modifica el valor de alguno de los elementos:*\n",
    "\n",
    "***"
   ]
  },
  {
   "cell_type": "code",
   "execution_count": null,
   "metadata": {
    "collapsed": true
   },
   "outputs": [],
   "source": []
  },
  {
   "cell_type": "markdown",
   "metadata": {},
   "source": [
    "Un detalle útil es que los índices negativos permiten acceder desde el último elemento de la lista. De manera que -1 indica \"la primera posición desde el final\", -2 indica el penúltimo, y así sucesivamente."
   ]
  },
  {
   "cell_type": "code",
   "execution_count": 15,
   "metadata": {
    "scrolled": true
   },
   "outputs": [
    {
     "data": {
      "text/plain": [
       "(18000, 'pasta')"
      ]
     },
     "execution_count": 15,
     "metadata": {},
     "output_type": "execute_result"
    }
   ],
   "source": [
    "precios[-1], nombres[-1]"
   ]
  },
  {
   "cell_type": "markdown",
   "metadata": {},
   "source": [
    "***\n",
    "> *Accede al antepenúltimo elemento de la lista de precios:*\n",
    "\n",
    "***"
   ]
  },
  {
   "cell_type": "code",
   "execution_count": null,
   "metadata": {
    "collapsed": true
   },
   "outputs": [],
   "source": []
  },
  {
   "cell_type": "markdown",
   "metadata": {},
   "source": [
    "### Subselección de listas\n",
    "\n",
    "Si queremos acceder a una subsección de los datos, podemos acceder a ellos de la misma manera en que accedíamos al texto de cadenas de caracteres:"
   ]
  },
  {
   "cell_type": "code",
   "execution_count": 16,
   "metadata": {
    "scrolled": true
   },
   "outputs": [
    {
     "name": "stdout",
     "output_type": "stream",
     "text": [
      "[9850.5, 11000]\n",
      "[11000, 12000]\n",
      "[9000.0, 9850.5, 11000, 12000]\n",
      "[12000, 18000]\n"
     ]
    }
   ],
   "source": [
    "print(precios[1:3])  # desde la posición 1 hasta la 3 (es decir desde el segundo elemento hasta el cuarto)\n",
    "print(precios[2:4])  \n",
    "print(precios[:4])   # desde la posición inicial hasta la posición 4\n",
    "print(precios[3:])   # desde la posición 3 hasta la posición final"
   ]
  },
  {
   "cell_type": "markdown",
   "metadata": {},
   "source": [
    "***\n",
    "> *Selecciona la primera mitad de los valores en tu lista personal:*\n",
    "\n",
    "***"
   ]
  },
  {
   "cell_type": "code",
   "execution_count": null,
   "metadata": {
    "collapsed": true
   },
   "outputs": [],
   "source": []
  },
  {
   "cell_type": "markdown",
   "metadata": {},
   "source": [
    "Podemos acceder de manera más específica, haciendo uso de un índice adicional:"
   ]
  },
  {
   "cell_type": "code",
   "execution_count": 12,
   "metadata": {},
   "outputs": [
    {
     "data": {
      "text/plain": [
       "[3, 5, 7, 9, 11, 13, 15, 17, 19]"
      ]
     },
     "execution_count": 12,
     "metadata": {},
     "output_type": "execute_result"
    }
   ],
   "source": [
    "items = list(range(20))    # lista de elementos del 0 al 19\n",
    "items[3:len(items):2]      # subsección de la lista, desde la posición 3 hasta el final de la lista"
   ]
  },
  {
   "cell_type": "markdown",
   "metadata": {},
   "source": [
    "![Pasos de subselección de lista](images/041-pasoslista.png)\n",
    "\n",
    "El primer y segundo índice indican el inicio y el final de la subsección que queremos extraer (en este caso usamos la longitud completa de la lista). El último índice indica \"el paso\", es decir: cada cuántas posiciones del recorrido se escogerán los elementos, que en este caso es de dos en dos.\n",
    "***\n",
    "> *Haz una subselección de los precios y de tus datos personales con distintos pasos sobre los elementos:*\n",
    "\n",
    "***"
   ]
  },
  {
   "cell_type": "code",
   "execution_count": null,
   "metadata": {
    "collapsed": true
   },
   "outputs": [],
   "source": []
  },
  {
   "cell_type": "markdown",
   "metadata": {},
   "source": [
    "## Tuplas \n",
    "***\n",
    "Agrupemos ahora algunos otros elementos:"
   ]
  },
  {
   "cell_type": "code",
   "execution_count": 18,
   "metadata": {},
   "outputs": [
    {
     "data": {
      "text/plain": [
       "(1, 2, 4, 5)"
      ]
     },
     "execution_count": 18,
     "metadata": {},
     "output_type": "execute_result"
    }
   ],
   "source": [
    "t = (1, 2, 4, 5)\n",
    "t"
   ]
  },
  {
   "cell_type": "code",
   "execution_count": 19,
   "metadata": {},
   "outputs": [
    {
     "data": {
      "text/plain": [
       "{6, 7, 8, 9}"
      ]
     },
     "execution_count": 19,
     "metadata": {},
     "output_type": "execute_result"
    }
   ],
   "source": [
    "s = {6, 7, 8, 9}\n",
    "s"
   ]
  },
  {
   "cell_type": "markdown",
   "metadata": {},
   "source": [
    "\n",
    "Además de las listas, tenemos estos conjuntos de datos. ¿Cuál es la diferencia entre ellos?\n",
    "\n",
    "La sucesión de números en **t** la creamos usando paréntesis, lo que indica una estructura de datos llamada **tupla**. Mientras que las llaves en la variable **s**, definen un **conjunto (set)**.\n",
    "\n",
    "El acceso a los elementos de una **tupla** es similar al de las listas, la diferencia importante entre las tuplas y las listas está en que las primeras son inmutables, es decir una vez creadas, no se puede cambiar ni sus elementos ni su tamaño. También pueden crearse sin necesidad de usar los paréntesis:"
   ]
  },
  {
   "cell_type": "code",
   "execution_count": 20,
   "metadata": {},
   "outputs": [
    {
     "data": {
      "text/plain": [
       "4"
      ]
     },
     "execution_count": 20,
     "metadata": {},
     "output_type": "execute_result"
    }
   ],
   "source": [
    "t1 = 1, 2, 3, 4    # tupla creada sin paréntesis\n",
    "len(t1)     # podemos aplicar funciones sobre ella"
   ]
  },
  {
   "cell_type": "code",
   "execution_count": 21,
   "metadata": {},
   "outputs": [
    {
     "data": {
      "text/plain": [
       "1"
      ]
     },
     "execution_count": 21,
     "metadata": {},
     "output_type": "execute_result"
    }
   ],
   "source": [
    "t1[0]     # y acceder a sus elementos mediante índices, al igual que las listas"
   ]
  },
  {
   "cell_type": "code",
   "execution_count": 22,
   "metadata": {},
   "outputs": [
    {
     "ename": "TypeError",
     "evalue": "'tuple' object does not support item assignment",
     "output_type": "error",
     "traceback": [
      "\u001b[0;31m---------------------------------------------------------------------------\u001b[0m",
      "\u001b[0;31mTypeError\u001b[0m                                 Traceback (most recent call last)",
      "\u001b[0;32m<ipython-input-22-91915e4a0e3e>\u001b[0m in \u001b[0;36m<module>\u001b[0;34m()\u001b[0m\n\u001b[0;32m----> 1\u001b[0;31m \u001b[0mt1\u001b[0m\u001b[0;34m[\u001b[0m\u001b[0;36m2\u001b[0m\u001b[0;34m]\u001b[0m \u001b[0;34m=\u001b[0m \u001b[0;36m5\u001b[0m    \u001b[0;31m# la sobreescritura o modificación de elementos no está definida para las tuplas\u001b[0m\u001b[0;34m\u001b[0m\u001b[0m\n\u001b[0m",
      "\u001b[0;31mTypeError\u001b[0m: 'tuple' object does not support item assignment"
     ]
    }
   ],
   "source": [
    "t1[2] = 5    # la sobreescritura o modificación de elementos no está definida para las tuplas"
   ]
  },
  {
   "cell_type": "markdown",
   "metadata": {},
   "source": [
    "Al intentar asignarle un nuevo valor a la posición 2 de la tupla, se genera un error informándonos que no puede aceptar asignación de nuevos elementos, por el tipo de estructura definida.\n",
    "\n",
    "## Conjuntos (sets)\n",
    "***\n",
    "\n",
    "La variable **s**, al igual que las tuplas y listas, almacena elementos, pero en este caso elementos **sin orden** y **únicos**. Tal como el concepto matemático de conjuntos (set).\n"
   ]
  },
  {
   "cell_type": "code",
   "execution_count": 23,
   "metadata": {},
   "outputs": [
    {
     "data": {
      "text/plain": [
       "{1, 2, 3, 4}"
      ]
     },
     "execution_count": 23,
     "metadata": {},
     "output_type": "execute_result"
    }
   ],
   "source": [
    "s = {1,2,3,4,4}     # creación de un conjunto, con llaves\n",
    "s"
   ]
  },
  {
   "cell_type": "markdown",
   "metadata": {},
   "source": [
    "Nota que a pesar de que repetimos el número 4 al crear el set, automáticamente toma **sólo una vez** el elemento. Las operaciones matemáticas definidas sobre conjuntos también se pueden aplicar dentro de Python, con las funciones de unión, intersección, diferencia, entre otras.\n",
    "\n",
    "***\n",
    "> *¿Para qué tipos de datos crees que serviría usar un *set*? *\n",
    "\n",
    "***\n",
    "\n",
    "Supón que compraste ciertos artículos, y tu amigo compró algunos otros. Cuando comparamos ambas compras, podemos unirlas, o ver qué cosas distintas compraron:"
   ]
  },
  {
   "cell_type": "code",
   "execution_count": 24,
   "metadata": {},
   "outputs": [
    {
     "data": {
      "text/plain": [
       "{'aceite', 'arroz', 'azucar', 'harina', 'papas', 'zanahorias'}"
      ]
     },
     "execution_count": 24,
     "metadata": {},
     "output_type": "execute_result"
    }
   ],
   "source": [
    "mi_compra = {\"arroz\", \"harina\", \"azucar\", \"papas\"}    \n",
    "su_compra = {\"papas\", \"zanahorias\", \"harina\", \"aceite\"}\n",
    "mi_compra.union(su_compra)    # todos los artículos tuyos y de tu amigo (sin repetición)"
   ]
  },
  {
   "cell_type": "code",
   "execution_count": 25,
   "metadata": {},
   "outputs": [
    {
     "data": {
      "text/plain": [
       "{'harina', 'papas'}"
      ]
     },
     "execution_count": 25,
     "metadata": {},
     "output_type": "execute_result"
    }
   ],
   "source": [
    "mi_compra.intersection(su_compra)  # cosas que compraron en común"
   ]
  },
  {
   "cell_type": "markdown",
   "metadata": {},
   "source": [
    "También se pueden utilizar estas funciones por medio de los operadores **&** y **|**, para intersección y unión, respectivamente, obteniendo el mismo resultado:"
   ]
  },
  {
   "cell_type": "code",
   "execution_count": 26,
   "metadata": {},
   "outputs": [
    {
     "data": {
      "text/plain": [
       "{'aceite', 'arroz', 'azucar', 'harina', 'papas', 'zanahorias'}"
      ]
     },
     "execution_count": 26,
     "metadata": {},
     "output_type": "execute_result"
    }
   ],
   "source": [
    "mi_compra | su_compra   # unión con el operador |"
   ]
  },
  {
   "cell_type": "code",
   "execution_count": 27,
   "metadata": {},
   "outputs": [
    {
     "data": {
      "text/plain": [
       "{'harina', 'papas'}"
      ]
     },
     "execution_count": 27,
     "metadata": {},
     "output_type": "execute_result"
    }
   ],
   "source": [
    "mi_compra & su_compra   # intersección con el operador &"
   ]
  },
  {
   "cell_type": "markdown",
   "metadata": {},
   "source": [
    "Podemos averiguar cuáles artículos están en tu compra y obviar los que tienes en común con tu amigo. Es decir, qué artículos tuyos son diferentes de los de tu amigo. Para ello calculamos la diferencia de conjuntos:"
   ]
  },
  {
   "cell_type": "code",
   "execution_count": 28,
   "metadata": {},
   "outputs": [
    {
     "data": {
      "text/plain": [
       "{'arroz', 'azucar'}"
      ]
     },
     "execution_count": 28,
     "metadata": {},
     "output_type": "execute_result"
    }
   ],
   "source": [
    "# Diferencias o restas de conjuntos\n",
    "mi_compra - su_compra     # uso del operador - "
   ]
  },
  {
   "cell_type": "code",
   "execution_count": 29,
   "metadata": {},
   "outputs": [
    {
     "data": {
      "text/plain": [
       "{'aceite', 'zanahorias'}"
      ]
     },
     "execution_count": 29,
     "metadata": {},
     "output_type": "execute_result"
    }
   ],
   "source": [
    "su_compra - mi_compra"
   ]
  },
  {
   "cell_type": "markdown",
   "metadata": {},
   "source": [
    "Nota que en este caso la \"resta\" o diferencia no es conmutativa, es decir, $a-b \\neq b-a$. Observa el resultado de las diferencias entre las compras tuyas y de tu amigo para comprobar. Esta operación también tiene una función explícita equivalente: **difference()**."
   ]
  },
  {
   "cell_type": "code",
   "execution_count": 30,
   "metadata": {},
   "outputs": [
    {
     "data": {
      "text/plain": [
       "{'arroz', 'azucar'}"
      ]
     },
     "execution_count": 30,
     "metadata": {},
     "output_type": "execute_result"
    }
   ],
   "source": [
    "mi_compra.difference(su_compra)   # uso de función explícita"
   ]
  },
  {
   "cell_type": "markdown",
   "metadata": {},
   "source": [
    "Para averiguar cuáles son los artículos de ambos mercados sin tomar en cuenta los que están repetidos, hacemos una diferencia simétrica de conjuntos. En Python se puede usar el operador **^** o la función **symetric_difference()**."
   ]
  },
  {
   "cell_type": "code",
   "execution_count": 31,
   "metadata": {},
   "outputs": [
    {
     "data": {
      "text/plain": [
       "{'aceite', 'arroz', 'azucar', 'zanahorias'}"
      ]
     },
     "execution_count": 31,
     "metadata": {},
     "output_type": "execute_result"
    }
   ],
   "source": [
    "# Diferencia simétrica\n",
    "mi_compra ^ su_compra"
   ]
  },
  {
   "cell_type": "code",
   "execution_count": 32,
   "metadata": {},
   "outputs": [
    {
     "data": {
      "text/plain": [
       "{'aceite', 'arroz', 'azucar', 'zanahorias'}"
      ]
     },
     "execution_count": 32,
     "metadata": {},
     "output_type": "execute_result"
    }
   ],
   "source": [
    "mi_compra.symmetric_difference(su_compra)"
   ]
  },
  {
   "cell_type": "code",
   "execution_count": 33,
   "metadata": {},
   "outputs": [
    {
     "data": {
      "text/plain": [
       "{'aceite', 'arroz', 'azucar', 'zanahorias'}"
      ]
     },
     "execution_count": 33,
     "metadata": {},
     "output_type": "execute_result"
    }
   ],
   "source": [
    "su_compra ^ mi_compra    # como es una operación simétrica, el orden de los factores no interesa"
   ]
  },
  {
   "cell_type": "markdown",
   "metadata": {},
   "source": [
    "***\n",
    "> \n",
    "\n",
    "***"
   ]
  },
  {
   "cell_type": "markdown",
   "metadata": {},
   "source": [
    "## Diccionarios\n",
    "***\n",
    "Volviendo a la lista de precios de nuestros productos, construimos un contenedor con los datos que tenemos:"
   ]
  },
  {
   "cell_type": "code",
   "execution_count": 34,
   "metadata": {},
   "outputs": [
    {
     "data": {
      "text/plain": [
       "{'aceite': 12000,\n",
       " 'arroz': 9850.5,\n",
       " 'azucar': 9000.0,\n",
       " 'harina': 11000,\n",
       " 'pasta': 18000}"
      ]
     },
     "execution_count": 34,
     "metadata": {},
     "output_type": "execute_result"
    }
   ],
   "source": [
    "productos = {'azucar':9000.0, 'arroz':9850.5, 'harina':11000, 'aceite':12000, 'pasta':18000}\n",
    "productos"
   ]
  },
  {
   "cell_type": "markdown",
   "metadata": {},
   "source": [
    "Esta conveniente estructura de datos es llamada \"diccionario\" y almacena valores con sus respectivos nombres o \"claves\". Se crean como un **set o conjunto**, con pares **clave-valor** separados por comas. Los dos puntos separan la clave de su valor, respectivamente.\n",
    "\n",
    "***\n",
    "> *Construye un diccionario con tus datos personales, con pares **clave:valor** como  **'nombre': 'Andrés'**. *\n",
    "\n",
    "***\n"
   ]
  },
  {
   "cell_type": "code",
   "execution_count": null,
   "metadata": {
    "collapsed": true
   },
   "outputs": [],
   "source": []
  },
  {
   "cell_type": "markdown",
   "metadata": {},
   "source": [
    "La extracción o acceso a los valores se logra a través de las claves de cada elemento, entonces si queremos saber cuál es el precio del azúcar, escribimos:"
   ]
  },
  {
   "cell_type": "code",
   "execution_count": 35,
   "metadata": {},
   "outputs": [
    {
     "data": {
      "text/plain": [
       "9000.0"
      ]
     },
     "execution_count": 35,
     "metadata": {},
     "output_type": "execute_result"
    }
   ],
   "source": [
    "productos[\"azucar\"]"
   ]
  },
  {
   "cell_type": "markdown",
   "metadata": {},
   "source": [
    "***\n",
    "> *Accede a algún valor de tu diccionario personal por medio de la clave.*\n",
    "\n",
    "***"
   ]
  },
  {
   "cell_type": "markdown",
   "metadata": {},
   "source": [
    "De la misma manera podemos cambiar los valores, y agregar nuevos pares **clave-valor**. "
   ]
  },
  {
   "cell_type": "code",
   "execution_count": 36,
   "metadata": {
    "collapsed": true
   },
   "outputs": [],
   "source": [
    "productos['azucar'] = 9500   # modifica el valor existente de \"azucar\"\n",
    "productos['caraotas'] = 8000  # agrega un nuevo elemento clave:valor"
   ]
  },
  {
   "cell_type": "markdown",
   "metadata": {},
   "source": [
    "Nota que también podemos usar comillas simples para el texto y funciona igualmente. En la última línea acabamos de incluir un nuevo producto junto con su precio:"
   ]
  },
  {
   "cell_type": "code",
   "execution_count": 37,
   "metadata": {},
   "outputs": [
    {
     "data": {
      "text/plain": [
       "{'aceite': 12000,\n",
       " 'arroz': 9850.5,\n",
       " 'azucar': 9500,\n",
       " 'caraotas': 8000,\n",
       " 'harina': 11000,\n",
       " 'pasta': 18000}"
      ]
     },
     "execution_count": 37,
     "metadata": {},
     "output_type": "execute_result"
    }
   ],
   "source": [
    "productos"
   ]
  },
  {
   "cell_type": "markdown",
   "metadata": {},
   "source": [
    "Esta estructura no toma en cuenta el orden de los elementos, lo que aumenta la eficiencia para manipular y realizar búsquedas dentro del diccionario. Si queremos verificar que uno producto está o no en nuestra compra, podemos utilizar el operador **in**. ¿Está azucar \"en\" (**in**) el diccionario \"productos\"?\n"
   ]
  },
  {
   "cell_type": "code",
   "execution_count": 38,
   "metadata": {},
   "outputs": [
    {
     "data": {
      "text/plain": [
       "True"
      ]
     },
     "execution_count": 38,
     "metadata": {},
     "output_type": "execute_result"
    }
   ],
   "source": [
    "\"azucar\" in productos"
   ]
  },
  {
   "cell_type": "markdown",
   "metadata": {},
   "source": [
    "¿Has comprado aceite?"
   ]
  },
  {
   "cell_type": "code",
   "execution_count": 39,
   "metadata": {},
   "outputs": [
    {
     "data": {
      "text/plain": [
       "True"
      ]
     },
     "execution_count": 39,
     "metadata": {},
     "output_type": "execute_result"
    }
   ],
   "source": [
    "\"aceite\" in productos"
   ]
  },
  {
   "cell_type": "markdown",
   "metadata": {},
   "source": [
    "Análogamente se puede usar el operador **```not in```**:"
   ]
  },
  {
   "cell_type": "code",
   "execution_count": 40,
   "metadata": {
    "scrolled": true
   },
   "outputs": [
    {
     "data": {
      "text/plain": [
       "True"
      ]
     },
     "execution_count": 40,
     "metadata": {},
     "output_type": "execute_result"
    }
   ],
   "source": [
    "\"pan\" not in productos   # resulta en True porque pan no está en la lista"
   ]
  },
  {
   "cell_type": "markdown",
   "metadata": {},
   "source": [
    "***\n",
    "> *Verifica la existencia de datos dentro de tu diccionario personal.*\n",
    "\n",
    "***"
   ]
  },
  {
   "cell_type": "code",
   "execution_count": null,
   "metadata": {
    "collapsed": true
   },
   "outputs": [],
   "source": []
  },
  {
   "cell_type": "markdown",
   "metadata": {},
   "source": [
    "***\n",
    "| [Atrás](Módulo I - 02 - Iniciando en Python.ipynb) | [Inicio](00 - Contenido.ipynb) | [Siguiente](Módulo II - 02 - Estructuras de datos y de control.ipynb)"
   ]
  }
 ],
 "metadata": {
  "kernelspec": {
   "display_name": "Python 3",
   "language": "python",
   "name": "python3"
  },
  "language_info": {
   "codemirror_mode": {
    "name": "ipython",
    "version": 3
   },
   "file_extension": ".py",
   "mimetype": "text/x-python",
   "name": "python",
   "nbconvert_exporter": "python",
   "pygments_lexer": "ipython3",
   "version": "3.6.1"
  }
 },
 "nbformat": 4,
 "nbformat_minor": 2
}
