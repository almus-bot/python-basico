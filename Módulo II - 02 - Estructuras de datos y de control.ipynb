{
 "cells": [
  {
   "cell_type": "markdown",
   "metadata": {},
   "source": [
    "# Estructuras de control\n",
    "***\n",
    "\n",
    "## Condicionales if-else  (Si-Entonces)\n",
    "***\n",
    "Las instrucciones condicionales ayudan a construir secciones de código dependiente de valores y estados de otras variables. De esta manera puede tenerse más control de flujo de ejecución de los programas. La estructura más básica y conocida permite verificar una condición y actuar de acuerdo al resultado, con instrucciones del tipo:\n",
    "\n",
    "```\n",
    "    Si el azucar cuesta más de 9000bs, \n",
    "        decir que es cara,\n",
    "    Si no, si el azucar cuesta menos de 9000bs pero más de 7000bs, \n",
    "        decir que está bien,\n",
    "    Si no, si el azucar cuesta menos de 7000, \n",
    "        decir que está muy barata.\n",
    "```\n",
    "Lo que se traduce en código de python como:\n",
    "\n",
    "``` python\n",
    "if azucar > 9000:\n",
    "    print(\"Es cara!\")\n",
    "elif azucar >= 9000:\n",
    "    print(\"Está bien...\")\n",
    "else:\n",
    "    print(\"Está muy barata!\")\n",
    "```"
   ]
  },
  {
   "cell_type": "markdown",
   "metadata": {},
   "source": [
    "Dentro de estas condiciones también podemos modificar valores de otras variables, crear otras nuevas, e incluir cualquier otro tipo de instrucción que se quiera ejecutar. Hay que tener siempre presente que cada bloque de código para cada **if**, debe empezar después de los dos puntos (:).\n",
    "\n",
    "La sentencia **elif** es una contracción de la instrucción **else if** que es común en otros lenguajes de programación, y equivale al condicional \"si no\". La sentencia **else** es utilizada opcionalmente, usualmente al final del bloque, para tomar en cuenta el resto de las opciones que no cubren los *elif* previos.\n",
    "\n",
    "Si queremos tomar la decisión de volver o no al sitio donde compramos los productos, podemos verificar ciertas condiciones en nuestro programa. Supongamos que nuestro regreso depende de la disponibilidad de estacionamiento y del punto de venta:"
   ]
  },
  {
   "cell_type": "code",
   "execution_count": 1,
   "metadata": {},
   "outputs": [
    {
     "name": "stdout",
     "output_type": "stream",
     "text": [
      "Bien..\n"
     ]
    }
   ],
   "source": [
    "est = False              # False si no tiene estacionamiento, True si tiene.\n",
    "pto = True               # False si no tiene punto de venta, True si tiene.\n",
    "\n",
    "if est & pto:          # Si tiene estacionamiento y punto (ambos)\n",
    "    print(\"Excelente!\")\n",
    "elif not(est) & pto:   # Si no tiene estacionamiento y si tiene punto\n",
    "    print(\"Bien..\")\n",
    "elif est & ~pto:       # Si tiene estacionamiento y no punto\n",
    "    print(\"Ehh bueno\")\n",
    "else:                  # La ultima opción posible: no tiene estacionamiento ni punto\n",
    "    print (\"No!\")"
   ]
  },
  {
   "cell_type": "markdown",
   "metadata": {},
   "source": [
    "Aquí volvemos a hacer uso del operador lógico **&**. Además usamos el operador unitario **~** que significa la negación del elemento al que precede, igual que el uso de **not**. Combinando distintas sentencias condicionales como estás podemos construir bloques de código que controlen la ejecución de nuestros programas."
   ]
  },
  {
   "cell_type": "markdown",
   "metadata": {},
   "source": [
    "## Bucles *for*\n",
    "***\n",
    "Los bucles **for** son una forma de automatizar tareas repetitivas dentro del código. Por ejemplo, si quieres listar todos los productos que has comprado, podrías escribir secuencialmente:"
   ]
  },
  {
   "cell_type": "code",
   "execution_count": 2,
   "metadata": {},
   "outputs": [
    {
     "name": "stdout",
     "output_type": "stream",
     "text": [
      "9000.0\n",
      "9850.5\n",
      "11000\n"
     ]
    }
   ],
   "source": [
    "productos = {'azucar':9000.0, 'arroz':9850.5, 'harina':11000, 'aceite':12000, 'pasta':18000}\n",
    "\n",
    "print(productos[\"azucar\"])\n",
    "print(productos[\"arroz\"])\n",
    "print(productos[\"harina\"])"
   ]
  },
  {
   "cell_type": "markdown",
   "metadata": {},
   "source": [
    "¿Pero qué pasa si son 10, 20, 100 o más productos? Mas aun, ¿si no sabes exactamente cuántos son y no recuerdas todos los nombres? Con un bucle **for** puedes automatizar este proceso:"
   ]
  },
  {
   "cell_type": "code",
   "execution_count": 3,
   "metadata": {},
   "outputs": [
    {
     "name": "stdout",
     "output_type": "stream",
     "text": [
      "Lista de precios  [9000.0, 9850.5, 11000, 12000, 18000]\n",
      "9000.0\n",
      "9850.5\n",
      "11000\n",
      "12000\n",
      "18000\n"
     ]
    }
   ],
   "source": [
    "nombres = [\"azucar\",\"arroz\",\"harina\", \"aceite\", \"pasta\"]\n",
    "precios = [9000.0, 9850.5, 11000, 12000, 18000]\n",
    "\n",
    "# Recorriendo una lista\n",
    "print(\"Lista de precios \", precios)\n",
    "# Para cada item \"i\" en la variable \"precios\", imprimir el item.\n",
    "for i in precios:\n",
    "    print(i)"
   ]
  },
  {
   "cell_type": "code",
   "execution_count": 4,
   "metadata": {},
   "outputs": [
    {
     "name": "stdout",
     "output_type": "stream",
     "text": [
      "azucar\n",
      "arroz\n",
      "harina\n",
      "aceite\n",
      "pasta\n"
     ]
    }
   ],
   "source": [
    "# Recorriendo elementos de un diccionario\n",
    "# Para cada item \"i\" en la variable \"productos\", imprimir el item.\n",
    "for i in productos:\n",
    "    print(i)"
   ]
  },
  {
   "cell_type": "code",
   "execution_count": 5,
   "metadata": {},
   "outputs": [
    {
     "name": "stdout",
     "output_type": "stream",
     "text": [
      "9000.0\n",
      "9850.5\n",
      "11000\n",
      "12000\n",
      "18000\n"
     ]
    }
   ],
   "source": [
    "# Recorriendo valores de una lista\n",
    "# Para cada item \"i\" en la los valores del diccionario \"productos\", imprimir el item.\n",
    "for i in productos.values():\n",
    "    print(i)"
   ]
  },
  {
   "cell_type": "markdown",
   "metadata": {},
   "source": [
    "La variable **i** recorre los elementos en *productos*, que puede ser una lista o un iterador de Python. La sintaxis simple de Python permite poder leer explicitamente la instrucción, incluso en lenguaje natural podriamos decir:  \n",
    "\n",
    "    Para cada elemento \"i\" en la variable \"productos\":\n",
    "       imprimir(i)\n",
    "\n",
    "Debe usarse con cuidado, asegurándose que el bucle no se ejecute en un tiempo o un número de iteraciones infinitas, afectando el rendimiento del código o agotando los recursos de tu computadora.\n",
    "\n",
    "Los objetos iterables en Python pueden ser desde una lista, hasta un diccionario, como en nuestro ejemplo. Pero también hay herramientas especiales como el objeto **range** (rango). Estos iteradores son utilizados frecuentemente en la construcción de bucles **for**."
   ]
  },
  {
   "cell_type": "code",
   "execution_count": 6,
   "metadata": {},
   "outputs": [
    {
     "data": {
      "text/plain": [
       "range(0, 10)"
      ]
     },
     "execution_count": 6,
     "metadata": {},
     "output_type": "execute_result"
    }
   ],
   "source": [
    "range(10)"
   ]
  },
  {
   "cell_type": "markdown",
   "metadata": {},
   "source": [
    "Esta instrucción genera un objeto iterador que va de 0 hasta 9 (10 iteraciones). En python 2, produce una lista con los elementos a iterar, mientras que en Python 3 produce un objeto iterable."
   ]
  },
  {
   "cell_type": "code",
   "execution_count": 7,
   "metadata": {},
   "outputs": [
    {
     "data": {
      "text/plain": [
       "range(5, 20)"
      ]
     },
     "execution_count": 7,
     "metadata": {},
     "output_type": "execute_result"
    }
   ],
   "source": [
    "range(5, 20)"
   ]
  },
  {
   "cell_type": "code",
   "execution_count": 8,
   "metadata": {
    "scrolled": true
   },
   "outputs": [
    {
     "data": {
      "text/plain": [
       "[5, 6, 7, 8, 9, 10, 11, 12, 13, 14, 15, 16, 17, 18, 19]"
      ]
     },
     "execution_count": 8,
     "metadata": {},
     "output_type": "execute_result"
    }
   ],
   "source": [
    "list(range(5,20))    # De esta forma podemos ver la lista que genera el iterador"
   ]
  },
  {
   "cell_type": "markdown",
   "metadata": {},
   "source": [
    "El siguiente bloque de código indica si cada número entre 0 y 9 es par o impar, recorriendo cada elemento del rango."
   ]
  },
  {
   "cell_type": "code",
   "execution_count": 9,
   "metadata": {},
   "outputs": [
    {
     "name": "stdout",
     "output_type": "stream",
     "text": [
      "0 es par\n",
      "1 es impar\n",
      "2 es par\n",
      "3 es impar\n",
      "4 es par\n",
      "5 es impar\n",
      "6 es par\n",
      "7 es impar\n",
      "8 es par\n",
      "9 es impar\n"
     ]
    }
   ],
   "source": [
    "for x in range(10):    # para cada x del rango 0-9\n",
    "    if x % 2 == 0:     # si el resto de la división x/2  es 0\n",
    "        print(x, \"es par\")\n",
    "    else:              # si no es 0\n",
    "        print(x, \"es impar\")"
   ]
  },
  {
   "cell_type": "markdown",
   "metadata": {},
   "source": [
    "## Bucles *while*\n",
    "***\n",
    "El bucle **while** actúa de forma similar al **for**. La diferencia principal es que se ejecuta hasta que cierta condición lógica sea cumplida."
   ]
  },
  {
   "cell_type": "code",
   "execution_count": 10,
   "metadata": {},
   "outputs": [
    {
     "name": "stdout",
     "output_type": "stream",
     "text": [
      "0 es par\n",
      "1 es impar\n",
      "2 es par\n",
      "3 es impar\n",
      "4 es par\n",
      "5 es impar\n",
      "6 es par\n",
      "7 es impar\n",
      "8 es par\n",
      "9 es impar\n"
     ]
    }
   ],
   "source": [
    "x = 0              # establecemos un valor inicial a la variable que usaremos para iterar\n",
    "while x < 10:      # el bucle se ejecutará siempre y cuando x sea menor que 10\n",
    "    if x % 2 == 0:\n",
    "        print(x, \"es par\")\n",
    "    else:\n",
    "        print(x, \"es impar\")\n",
    "    x += 1         # incrementamos manualmente el valor de x para continuar con la ejecución"
   ]
  },
  {
   "cell_type": "markdown",
   "metadata": {},
   "source": [
    "### Instrucciones *break, continue* y *finally*\n",
    "***\n",
    "Los bucles que hemos visto pueden mejorarse usando estas instrucciones para ganar mas control sobre el flujo de ejecución.\n",
    "\n",
    "+ La instrucción **break** permite detener la ejecución de los bucles **for** y **while**.\n",
    "+ La instrucción **continue** permite saltar la ejecución restante del bucle actual y continuar a la siguiente.\n"
   ]
  },
  {
   "cell_type": "code",
   "execution_count": 11,
   "metadata": {},
   "outputs": [
    {
     "name": "stdout",
     "output_type": "stream",
     "text": [
      "1\n",
      "3\n",
      "5\n",
      "7\n",
      "9\n",
      "11\n",
      "13\n",
      "15\n",
      "17\n",
      "19\n"
     ]
    }
   ],
   "source": [
    "for n in range(20): # para cada n del rango 0-19\n",
    "    if n % 2 == 0:  # si n es par\n",
    "        continue    # no ejecuta el resto de las instrucciones a partir de aquí. Continúa la proixma iteración\n",
    "    print(n)"
   ]
  },
  {
   "cell_type": "markdown",
   "metadata": {},
   "source": [
    "En este trozo de código, cuando **n** es un número par, entonces se salta el resto de las instrucciones, en este caso **print(n)**, y ejecuta la siguiente iteración, dando como resultado que sólo se impriman los números impares.\n",
    "\n",
    "Por ejemplo, si de nuestra lista de productos queremos listar solamente los que cuesten menos de 9000bs, podemos adaptar el código anterior:"
   ]
  },
  {
   "cell_type": "code",
   "execution_count": 12,
   "metadata": {
    "collapsed": true
   },
   "outputs": [],
   "source": [
    "for i in productos:    # recorre todos los elementos del diccionario \"productos\"\n",
    "    if productos[i] >= 9000:  # si el valor del elemento \"i\" es mayor o igual que 9000\n",
    "        continue              # interrumpe el bucle y continua a la siguiente iteración (no imprime)\n",
    "    print(i)"
   ]
  },
  {
   "cell_type": "markdown",
   "metadata": {},
   "source": [
    "El código siguiente imprime una sucesión de [fibonnacci](https://es.wikipedia.org/wiki/Sucesión_de_Fibonacci). Es importante ver que el bucle **while**, dada la condición que especificamos (*True*), se ejecutará infinitamente a menos que le coloquemos la instrucción **break** dentro del bloque."
   ]
  },
  {
   "cell_type": "code",
   "execution_count": 13,
   "metadata": {},
   "outputs": [
    {
     "name": "stdout",
     "output_type": "stream",
     "text": [
      "[1, 1, 2, 3, 5, 8, 13, 21, 34, 55, 89]\n"
     ]
    }
   ],
   "source": [
    "a, b = 0,1     # primeros dos valores de la secuencia\n",
    "maximo = 100   # el tope que queremos para el fibonacci\n",
    "lista = []     # lista vacía para almacenar los elementos\n",
    "\n",
    "while True:    # se ejecutará infinitamente a menos que interrumpamos el bucle internamente\n",
    "    (a, b) = (b, a+b) \n",
    "    if a > maximo:    # se interrumpe cuando el número llega al tope que especificamos\n",
    "        break\n",
    "    lista.append(a)   # inserta cada elemento en la lista\n",
    "\n",
    "print(lista)"
   ]
  },
  {
   "cell_type": "markdown",
   "metadata": {},
   "source": [
    "## Comprensión de listas, tuplas y diccionarios\n",
    "***\n",
    "\n",
    "Existe una manera de comprimir los bucles para construir o hacer operaciones sobre objetos como listas. Supón que quieres generar una secuencia de números y guardarlos en una lista. Pensarías de inmediato en usar un bucle como:"
   ]
  },
  {
   "cell_type": "code",
   "execution_count": 14,
   "metadata": {},
   "outputs": [
    {
     "name": "stdout",
     "output_type": "stream",
     "text": [
      "[0, 1, 2, 3, 4, 5, 6, 7, 8, 9, 10, 11]\n"
     ]
    }
   ],
   "source": [
    "lista = []  # lista vacia\n",
    "for i in range(12):  # para i desde 0 hasta 11\n",
    "    lista.append(i)\n",
    "print(lista)"
   ]
  },
  {
   "cell_type": "markdown",
   "metadata": {},
   "source": [
    "Con la instrucción siguiente reducimos a una sóla línea nuestro código:"
   ]
  },
  {
   "cell_type": "code",
   "execution_count": 15,
   "metadata": {},
   "outputs": [
    {
     "data": {
      "text/plain": [
       "[0, 1, 2, 3, 4, 5, 6, 7, 8, 9, 10, 11]"
      ]
     },
     "execution_count": 15,
     "metadata": {},
     "output_type": "execute_result"
    }
   ],
   "source": [
    "[i for i in range(12)]"
   ]
  },
  {
   "cell_type": "markdown",
   "metadata": {},
   "source": [
    "Esta construcción es llamada **comprensión de listas**, y genera el mismo resultado que nuestro código anterior. La instrucción está contenida entre corchetes [,], lo que indica que generaremos una lista. Cada elemento de la lista tendrá el contenido de la variable **i** según la iteración. Este valor esta enlazado con el bucle **for** que le sigue, como un *for* usual.\n",
    "```\n",
    "[toma el elemento i de cada i en el rango 0-11]\n",
    "```\n",
    "En una comprensión de listas podemos tener múltiples bucles, además de instrucciones condicionales. Pero debemos tener criterio para no sacrificar la simpleza o entendimiento del código. Presta atención a la siguiente instrucción:"
   ]
  },
  {
   "cell_type": "code",
   "execution_count": 16,
   "metadata": {},
   "outputs": [
    {
     "data": {
      "text/plain": [
       "[(0, 0),\n",
       " (0, 1),\n",
       " (0, 2),\n",
       " (0, 3),\n",
       " (1, 0),\n",
       " (1, 1),\n",
       " (1, 2),\n",
       " (1, 3),\n",
       " (2, 0),\n",
       " (2, 1),\n",
       " (2, 2),\n",
       " (2, 3)]"
      ]
     },
     "execution_count": 16,
     "metadata": {},
     "output_type": "execute_result"
    }
   ],
   "source": [
    "[(x, y) for x in range(3) for y in range(4)]"
   ]
  },
  {
   "cell_type": "markdown",
   "metadata": {},
   "source": [
    "En esta única línea, hacemos uso de dos bucles **for**, uno para la variable **x** y otro para **y**, a partir de ellos formamos tuplas **(x,y)**, almacenándolas en una lista.\n",
    "\n",
    "> ¿Cuál es el código equivalente sin usar comprensión de listas? Intenta escribirlo!"
   ]
  },
  {
   "cell_type": "code",
   "execution_count": 17,
   "metadata": {},
   "outputs": [
    {
     "name": "stdout",
     "output_type": "stream",
     "text": [
      "[(0, 0), (0, 1), (0, 2), (0, 3), (1, 0), (1, 1), (1, 2), (1, 3), (2, 0), (2, 1), (2, 2), (2, 3)]\n"
     ]
    }
   ],
   "source": [
    "l = []   # lista vacía preparada para almacenar elementos\n",
    "for x in range(3):  # bucle para la variable x, desde 0 hasta 2\n",
    "    for y in range(4):  # bucle para la variable y, desde 0 hasta 3\n",
    "        l.append((x,y))  # llenamos la lista con las tuplas (x,y)\n",
    "print(l)      # vemos el resultado"
   ]
  },
  {
   "cell_type": "markdown",
   "metadata": {},
   "source": [
    "Podemos hacer operaciones dentro de la misma instrucción. En el ejemplo anterior podemos usar los valores *x*, *y*, para obtener una lista de sus productos."
   ]
  },
  {
   "cell_type": "code",
   "execution_count": 18,
   "metadata": {},
   "outputs": [
    {
     "data": {
      "text/plain": [
       "[0, 0, 0, 0, 0, 1, 2, 3, 0, 2, 4, 6]"
      ]
     },
     "execution_count": 18,
     "metadata": {},
     "output_type": "execute_result"
    }
   ],
   "source": [
    "[x*y for x in range(3) for y in range(4)]"
   ]
  },
  {
   "cell_type": "markdown",
   "metadata": {},
   "source": [
    "La utilidad de esta instrucción comprimida se extiende a **sets, tuplas e incluso diccionarios**."
   ]
  },
  {
   "cell_type": "code",
   "execution_count": 19,
   "metadata": {},
   "outputs": [
    {
     "data": {
      "text/plain": [
       "{0, 1, 2, 3, 4, 5, 6, 7, 8, 9}"
      ]
     },
     "execution_count": 19,
     "metadata": {},
     "output_type": "execute_result"
    }
   ],
   "source": [
    "{i for i in range(10)}    # set con elementos del 0 al 9"
   ]
  },
  {
   "cell_type": "code",
   "execution_count": 20,
   "metadata": {},
   "outputs": [
    {
     "data": {
      "text/plain": [
       "{0, 1, 2, 3}"
      ]
     },
     "execution_count": 20,
     "metadata": {},
     "output_type": "execute_result"
    }
   ],
   "source": [
    "{a % 4 for a in range(100)} # set con los restos posibles de la división entre 4, de los números del 0 al 99."
   ]
  },
  {
   "cell_type": "markdown",
   "metadata": {},
   "source": [
    "Como estamos tratando con conjuntos, sólo se toman valores únicos sin repetición, a pesar de que hay 100 elementos en el rango, la operacion **a % 4** arroja resultados iguales para distintos números (se descartan los repetidos).\n",
    "\n",
    "Para crear una comprensión de diccionario, solo agregamos los dos puntos necesarios para separar las claves de los valores al inicio:"
   ]
  },
  {
   "cell_type": "code",
   "execution_count": 21,
   "metadata": {
    "scrolled": true
   },
   "outputs": [
    {
     "data": {
      "text/plain": [
       "{0: 0,\n",
       " 1: 1000,\n",
       " 2: 2000,\n",
       " 3: 3000,\n",
       " 4: 4000,\n",
       " 5: 5000,\n",
       " 6: 6000,\n",
       " 7: 7000,\n",
       " 8: 8000,\n",
       " 9: 9000}"
      ]
     },
     "execution_count": 21,
     "metadata": {},
     "output_type": "execute_result"
    }
   ],
   "source": [
    "{n:n*1000 for n in range(10)}  # Crea los pares clave:valor con n:n*1000 tomando n del rango 0-9"
   ]
  },
  {
   "cell_type": "markdown",
   "metadata": {},
   "source": [
    "Como ya tenemos la lista de precios y la lista de nombres de nuestros productos, podemos usar la comprensión de diccionario para crearlo de forma más directa:"
   ]
  },
  {
   "cell_type": "code",
   "execution_count": 22,
   "metadata": {},
   "outputs": [
    {
     "data": {
      "text/plain": [
       "{'aceite': 12000,\n",
       " 'arroz': 9850.5,\n",
       " 'azucar': 9000.0,\n",
       " 'harina': 11000,\n",
       " 'pasta': 18000}"
      ]
     },
     "execution_count": 22,
     "metadata": {},
     "output_type": "execute_result"
    }
   ],
   "source": [
    "{n: p for n, p in zip(nombres,precios)}"
   ]
  },
  {
   "cell_type": "markdown",
   "metadata": {},
   "source": [
    "En la instrucción anterior, usamos la función **zip** para indicar que queremos tomar valores simultáneos por pares, en este caso de *n* y *p*. De esta manera construimos el diccionario con los productos y sus respectivos precios.\n",
    "\n",
    "Dentro de la comprensión de listas, podemos incluso usar instrucciones condicionales para construir nuestros valores. Una instrucción de la forma:"
   ]
  },
  {
   "cell_type": "code",
   "execution_count": 23,
   "metadata": {},
   "outputs": [
    {
     "data": {
      "text/plain": [
       "[1, 2, 4, 5, 7, 8, 10, 11, 13, 14, 16, 17, 19, 20, 22, 23, 25, 26, 28, 29]"
      ]
     },
     "execution_count": 23,
     "metadata": {},
     "output_type": "execute_result"
    }
   ],
   "source": [
    "l = []\n",
    "for i in range(30):\n",
    "    if i % 3:          # descarta los múltiplos de 3 \n",
    "        l.append(i)\n",
    "l"
   ]
  },
  {
   "cell_type": "markdown",
   "metadata": {
    "collapsed": true
   },
   "source": [
    "Puede comprimirse en la instrucción:"
   ]
  },
  {
   "cell_type": "code",
   "execution_count": 24,
   "metadata": {},
   "outputs": [
    {
     "data": {
      "text/plain": [
       "[1, 2, 4, 5, 7, 8, 10, 11, 13, 14, 16, 17, 19, 20, 22, 23, 25, 26, 28, 29]"
      ]
     },
     "execution_count": 24,
     "metadata": {},
     "output_type": "execute_result"
    }
   ],
   "source": [
    "[i for i in range(30) if  i % 3]  # la condición para el *for* se coloca después de éste, \n",
    "                                  # tal como un bucle usual."
   ]
  },
  {
   "cell_type": "markdown",
   "metadata": {},
   "source": [
    "Podemos construir comprensiones de listas más complejas como la siguiente:"
   ]
  },
  {
   "cell_type": "code",
   "execution_count": 25,
   "metadata": {},
   "outputs": [
    {
     "data": {
      "text/plain": [
       "[1, -2, -4, 5, 7, -8, -10, 11, 13, -14, -16, 17, 19]"
      ]
     },
     "execution_count": 25,
     "metadata": {},
     "output_type": "execute_result"
    }
   ],
   "source": [
    "[i if i % 2 else -i\n",
    "    for i in range(20) if i % 3]"
   ]
  },
  {
   "cell_type": "markdown",
   "metadata": {},
   "source": [
    "Esta instrucción usa condicionales tanto dentro del bucle como en la construcción de la variable **i**. En la parte inicial se coloca **i** en la lista si es par, si no es par, se coloca **i** negativo.\n",
    "```\n",
    "   [i if i % 2 else -i ....\n",
    "```\n",
    "Se puede escribir como:\n",
    "\n",
    "```python\n",
    "    if i % 2:\n",
    "        i\n",
    "    else:\n",
    "        -i\n",
    "```\n",
    "En la segunda parte, **i** se selecciona del rango 0-19 sólo si es divisible entre 3 (la última condición en la instrucción). \n",
    "\n",
    "``` python\n",
    "    for i in range(20):\n",
    "        if i % 3:\n",
    "            i\n",
    "```\n",
    "\n",
    "El elemento **i** que devuelve esta condición dentro del **for** es el que es utilizado luego por las instrucciones condicionales anteriores. Finalmente la lista es una secuencia de números divisibles por 3, de los cuales se niegan los que sean divisibles por 2.\n",
    "\n",
    "La siguiente instrucción aplica la misma idea de comprensión de listas, pero esta vez a los diccionarios:"
   ]
  },
  {
   "cell_type": "code",
   "execution_count": 26,
   "metadata": {},
   "outputs": [
    {
     "data": {
      "text/plain": [
       "{'azucar': 9000.0}"
      ]
     },
     "execution_count": 26,
     "metadata": {},
     "output_type": "execute_result"
    }
   ],
   "source": [
    "{n: p for n, p in zip(nombres,precios) if p <= 9000}"
   ]
  },
  {
   "cell_type": "markdown",
   "metadata": {},
   "source": [
    "Aqui creamos el diccionario con los pares **` nombre:precio `**, pero filtrando sólo los productos que cuesten 9000bs o menos. Suponiendo que realmente tengamos una lista inmensa de las compras de varios meses o un año, este tipo de filtrado condicional resulta obviamente útil. Si consideramos la instrucción por partes podemos comprender mejor su funcionamiento:\n",
    "\n",
    "``` python\n",
    "{nombre: precio                  # crea el par clave:valor\n",
    " for nombre, precio in zip(n,p)  # para los valores \"nombre y precio\" que están en las listas n y p.\n",
    " if precio <= 9000}              # pero sólo si el precio 9mil o menos.\n",
    "```"
   ]
  },
  {
   "cell_type": "markdown",
   "metadata": {},
   "source": [
    "***\n",
    "| [Atrás](Módulo II - 01 - Estructuras de datos y de control.ipynb) | [Inicio](00 - Contenido.ipynb) | [Siguiente](Módulo III - 01 - Funciones, lectura y escritura de archivos.ipynb)"
   ]
  }
 ],
 "metadata": {
  "kernelspec": {
   "display_name": "Python 3",
   "language": "python",
   "name": "python3"
  },
  "language_info": {
   "codemirror_mode": {
    "name": "ipython",
    "version": 3
   },
   "file_extension": ".py",
   "mimetype": "text/x-python",
   "name": "python",
   "nbconvert_exporter": "python",
   "pygments_lexer": "ipython3",
   "version": "3.6.1"
  }
 },
 "nbformat": 4,
 "nbformat_minor": 2
}
