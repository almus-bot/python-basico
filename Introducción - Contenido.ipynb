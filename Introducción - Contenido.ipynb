{
 "cells": [
  {
   "cell_type": "markdown",
   "metadata": {
    "collapsed": true
   },
   "source": [
    "## Introducción\n",
    "***\n",
    "\n",
    "Es un curso para entusiastas de la ciencia de datos con conocimientos de\n",
    "computación, que deseen adquirir destrezas básicas de programación con Python. Las clases están centradas en los conceptos básicos del lenguaje, como la manipulación de listas y cadenas, estructuras de control, funciones y paquetes basicos de manipulacion de datos. Aprenderán a transformar datos (obtenidos de la web u otros agentes externos, o propios), y prepararlos para el análisis. \n",
    "\n",
    "Nota: Durante todo el curso se puede trabajar con una pequeña aplicación de control de gastos y presupuesto (uso de todos los tipos de datos, estructuras de control, herramientas y funciones).\n",
    "\n",
    "### El curso tiene una duración de 24 horas: 6 horas para cada uno de los módulos, que están divididos en 2 sesiones de 3 horas, con receso intermedio."
   ]
  },
  {
   "cell_type": "markdown",
   "metadata": {},
   "source": [
    "## [Módulo I - Iniciando en Python](Módulo I - Introducción a Python.ipynb)\n",
    "* Sesión a:\n",
    "     + Introducción a Python. \n",
    "     + Shell o prompt de Python.\n",
    "     + Sintaxis de Python. \n",
    "* Sesión b:  \n",
    "     + Tipos de variables.\n",
    "     + Operadores ariméticos, de comparación, de asignación y booleanos."
   ]
  },
  {
   "cell_type": "markdown",
   "metadata": {},
   "source": [
    "## [Módulo II: Cadenas, estructuras de datos y de control](Módulo II - Cadenas, estructuras de datos y de control.ipynb)\n",
    "\n",
    "* Sesión a:  \n",
    "     + Manipulación de cadenas (y expresiones regulares*).\n",
    "     + Estructuras de datos: listas, tuplas, diccionarios, conjuntos.\n",
    "* Sesión b:  \n",
    "     + Estructuras de control.\n",
    "     + Comprensión de listas, tuplas y diccionarios.\n",
    "     + Paquetes y módulos."
   ]
  },
  {
   "cell_type": "markdown",
   "metadata": {},
   "source": [
    "## [Módulo III: Funciones, lectura y escritura de archivos](Módulo III - Funciones, lectura y escritura de archivos.ipynb)\n",
    "* Sesión a:  \n",
    "     + Funciones en python.\n",
    "     + Introducción a las clases / objetos **.\n",
    "* Sesión b:  \n",
    "     + Lectura y escritura de archivos.  \n",
    "     + Control de versiones con Git.\n",
    "     "
   ]
  },
  {
   "cell_type": "markdown",
   "metadata": {},
   "source": [
    "## [Módulo IV: Introducción a la Ciencia de Datos](Módulo IV - Introducción a la Ciencia de Datos.ipynb)\n",
    "    \n",
    "* Sesión a:\n",
    "     + Introducción a *Pandas*, *Numpy*, *Matplolib*.\n",
    "* Sesión b:  \n",
    "     + Introducción a *Jupyter notebook* y *IPython*."
   ]
  },
  {
   "cell_type": "markdown",
   "metadata": {},
   "source": [
    "[Continuar](Módulo I - Introducción a Python.ipynb)"
   ]
  }
 ],
 "metadata": {
  "kernelspec": {
   "display_name": "Python 3",
   "language": "python",
   "name": "python3"
  },
  "language_info": {
   "codemirror_mode": {
    "name": "ipython",
    "version": 3
   },
   "file_extension": ".py",
   "mimetype": "text/x-python",
   "name": "python",
   "nbconvert_exporter": "python",
   "pygments_lexer": "ipython3",
   "version": "3.6.1"
  }
 },
 "nbformat": 4,
 "nbformat_minor": 2
}
