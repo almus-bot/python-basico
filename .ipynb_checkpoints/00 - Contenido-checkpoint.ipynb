{
 "cells": [
  {
   "cell_type": "markdown",
   "metadata": {
    "collapsed": true
   },
   "source": [
    "## Introducción\n",
    "***\n",
    "\n",
    "Es un curso para entusiastas de la ciencia de datos con conocimientos de\n",
    "computación, que deseen adquirir destrezas básicas de programación con Python. Las clases están centradas en los conceptos básicos del lenguaje, como la manipulación de listas y cadenas, estructuras de control, funciones y paquetes basicos de manipulacion de datos. Aprenderán a transformar datos (obtenidos de la web u otros agentes externos, o propios), y prepararlos para el análisis. \n",
    "\n",
    "Nota: Durante todo el curso se puede trabajar con una pequeña aplicación de control de gastos y presupuesto (uso de todos los tipos de datos, estructuras de control, herramientas y funciones).\n",
    "\n",
    "### El curso tiene una duración de 24 horas: 6 horas para cada uno de los módulos, que están divididos en 2 sesiones de 3 horas, con receso intermedio."
   ]
  },
  {
   "cell_type": "markdown",
   "metadata": {},
   "source": [
    "## [Módulo I - Iniciando en Python](Módulo I - 01 - Iniciando en Python.ipynb)\n",
    "* [Sesión a](Módulo I - 01 - Iniciando en Python.ipynb)\n",
    "     + Introducción a Python. \n",
    "     + Shell o prompt de Python.\n",
    "     + Sintaxis de Python. \n",
    "* [Sesión b](Módulo I - 02 - Iniciando en Python.ipynb)\n",
    "     + Variables. Manipulación de cadenas.\n",
    "     + Operadores ariméticos, de comparación, de asignación y booleanos."
   ]
  },
  {
   "cell_type": "markdown",
   "metadata": {},
   "source": [
    "## [Módulo II: Cadenas, estructuras de datos y de control](Módulo II - 01 - Estructuras de datos y de control.ipynb)\n",
    "\n",
    "* [Sesión a](Módulo II - 01 - Estructuras de datos y de control.ipynb)     \n",
    "     + Estructuras de datos: listas, tuplas, diccionarios, conjuntos.\n",
    "* [Sesión b](Módulo II - 02 - Estructuras de datos y de control.ipynb)  \n",
    "     + Estructuras de control.\n",
    "     + Comprensión de listas, tuplas y diccionarios.     "
   ]
  },
  {
   "cell_type": "markdown",
   "metadata": {},
   "source": [
    "## [Módulo III: Funciones, lectura y escritura de archivos](Módulo III - 01 - Funciones, lectura y escritura de archivos.ipynb)\n",
    "* [Sesión a](Módulo III - 01 - Funciones, lectura y escritura de archivos.ipynb)\n",
    "     + Funciones en python.\n",
    "     + Paquetes y módulos.\n",
    "     + Lectura y escritura de archivos.\n",
    "* [Sesión b](Módulo III - 02 - Introducción al Control de Versiones con Git.ipynb)\n",
    "     + Control de versiones con Git.     "
   ]
  },
  {
   "cell_type": "markdown",
   "metadata": {},
   "source": [
    "## [Módulo IV: Introducción a la Ciencia de Datos](Módulo IV - 01 - Introducción a la Ciencia de Datos.ipynb)\n",
    "    \n",
    "* [Sesión a](Módulo IV - 01 - Introducción a la Ciencia de Datos.ipynb)\n",
    "     + Introducción a *Pandas*, *Numpy*, *Matplolib*.\n",
    "* [Sesión b](Módulo IV - 02 - Introducción a Jupyter Notebook.ipynb) \n",
    "     + Introducción a *Jupyter notebook* y *IPython*."
   ]
  },
  {
   "cell_type": "markdown",
   "metadata": {},
   "source": [
    "[Continuar](Módulo I - 01 - Iniciando en Python.ipynb)"
   ]
  }
 ],
 "metadata": {
  "kernelspec": {
   "display_name": "Python 3",
   "language": "python",
   "name": "python3"
  },
  "language_info": {
   "codemirror_mode": {
    "name": "ipython",
    "version": 3
   },
   "file_extension": ".py",
   "mimetype": "text/x-python",
   "name": "python",
   "nbconvert_exporter": "python",
   "pygments_lexer": "ipython3",
   "version": "3.6.1"
  }
 },
 "nbformat": 4,
 "nbformat_minor": 2
}
