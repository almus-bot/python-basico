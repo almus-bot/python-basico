{
   "cell_type": "markdown",
   "metadata": {},
   "source": [
    "## Sesión b\n"
   ]
  },
  {
   "cell_type": "markdown",
   "metadata": {},
   "source": [
    "### Lectura y escritura de archivos\n",
    "***\n",
    "\n",
    "Hasta los momentos hemos estado trabajando con datos que introducimos manualmente en variables. Con seguridad, \n",
    "lo mas frecuente es tener información almacenada en archivos de texto, como hojas de excel o texto simple, o que los datos estén alojados en la web, en distintos formatos como HTML y JSON. \n",
    "\n",
    "Python incluye librerías para manipular distintos tipos de archivos y extrar datos para usarlos dentro de nuestros programas. Para leer un archivo usamos la instrucción:"
   ]
  },
  {
   "cell_type": "code",
   "execution_count": 11,
   "metadata": {
    "collapsed": true
   },
   "outputs": [],
   "source": [
    "# Abriendo la conexión al archivo en modo \"lectura\"\n",
    "f = open('compras.txt', 'r')"
   ]
  },
  {
   "cell_type": "markdown",
   "metadata": {},
   "source": [
    "La función **open()** crea una conexión para manipular el archivo *\"compras.txt\"*. El argumento **'r'** indica que podemos acceder a él sólo en modo lectura."
   ]
  },
  {
   "cell_type": "code",
   "execution_count": 12,
   "metadata": {},
   "outputs": [
    {
     "data": {
      "text/plain": [
       "['carne 30000\\n',\n",
       " 'jamón 15000\\n',\n",
       " 'detergente 12000\\n',\n",
       " 'champú 18000\\n',\n",
       " 'refresco 8000\\n',\n",
       " 'leche 6000\\n']"
      ]
     },
     "execution_count": 12,
     "metadata": {},
     "output_type": "execute_result"
    }
   ],
   "source": [
    "# leyendo el contenido del archivo (cada línea)\n",
    "contenido = f.readlines()\n",
    "contenido"
   ]
  },
  {
   "cell_type": "markdown",
   "metadata": {},
   "source": [
    "Usando el manejador del archivo, que llamamos **f**, podemos aplicar variadas funciones. En este caso leemos todas las líneas que contiene el archivo, con la funcion **readlines()**, y las guardamos en una nueva variable.\n",
    "\n",
    "Otras funciones para leer el contenido del archivo son:\n",
    "\n",
    "+ **readline()** que sólo lee una línea a la vez.\n",
    "+ **read()** que lee ....."
   ]
  },
  {
   "cell_type": "markdown",
   "metadata": {},
   "source": [
    "El archivo contiene una lista de productos con sus respectivos precios. Podemos manipular estas cadenas de texto y crear variables para realizar operaciones sobre los datos. Primero eliminaremos el caracter \"\\n\", que representa un salto de línea o \"enter\" dentro del texto."
   ]
  },
  {
   "cell_type": "code",
   "execution_count": 13,
   "metadata": {
    "collapsed": true
   },
   "outputs": [],
   "source": [
    "# eliminando el caracter \\n  (nueva línea o enter)\n",
    "for i in range(len(contenido)):\n",
    "    contenido[i] = contenido[i].replace(\"\\n\",\"\")"
   ]
  },
  {
   "cell_type": "markdown",
   "metadata": {},
   "source": [
    "Ya hemos visto anteriormente el uso de la función **replace** dentro de las cadenas de texto. Ahora que tenemos el texto sin saltos de líneas, podemos separar los nombres de los productos y los precios:"
   ]
  },
  {
   "cell_type": "code",
   "execution_count": 14,
   "metadata": {
    "collapsed": true
   },
   "outputs": [],
   "source": [
    "# separando nombres de precios (lista de listas)\n",
    "prod = [p.split() for p in contenido]"
   ]
  },
  {
   "cell_type": "markdown",
   "metadata": {},
   "source": [
    "La lista contiene tuplas con el nombre y el precio de cada producto. En algunos casos obtendremos elementos no deseados como listas o tuplas vacías que no son de interés:"
   ]
  },
  {
   "cell_type": "code",
   "execution_count": 15,
   "metadata": {},
   "outputs": [
    {
     "data": {
      "text/plain": [
       "[['carne', '30000'],\n",
       " ['jamón', '15000'],\n",
       " ['detergente', '12000'],\n",
       " ['champú', '18000'],\n",
       " ['refresco', '8000'],\n",
       " ['leche', '6000']]"
      ]
     },
     "execution_count": 15,
     "metadata": {},
     "output_type": "execute_result"
    }
   ],
   "source": [
    "# eliminando las listas sin contenido (vacías)\n",
    "for i in range(len(prod)):\n",
    "    if len(prod[i]) == 0: prod.pop(i)\n",
    "prod"
   ]
  },
  {
   "cell_type": "markdown",
   "metadata": {},
   "source": [
    "Fácilmente podemos obtener el diccionario de productos como el que hemos trabajado antes:"
   ]
  },
  {
   "cell_type": "code",
   "execution_count": 16,
   "metadata": {},
   "outputs": [
    {
     "data": {
      "text/plain": [
       "{'carne': 30000.0,\n",
       " 'champú': 18000.0,\n",
       " 'detergente': 12000.0,\n",
       " 'jamón': 15000.0,\n",
       " 'leche': 6000.0,\n",
       " 'refresco': 8000.0}"
      ]
     },
     "execution_count": 16,
     "metadata": {},
     "output_type": "execute_result"
    }
   ],
   "source": [
    "# creando el diccionario\n",
    "productos2 = {i[0]:float(i[1]) for i in prod}\n",
    "productos2"
   ]
  },
  {
   "cell_type": "markdown",
   "metadata": {},
   "source": [
    "Ahora tenemos otro diccionario con productos adicionales. ¿Cómo combinamos esta nueva lista con los productos que ya teníamos? La función **update()** permite modificar los valores de un diccionario y agregar nuevos elementos:"
   ]
  },
  {
   "cell_type": "code",
   "execution_count": 18,
   "metadata": {
    "scrolled": true
   },
   "outputs": [
    {
     "data": {
      "text/plain": [
       "{'aceite': 12000,\n",
       " 'arroz': 9850.5,\n",
       " 'azucar': 9000.0,\n",
       " 'carne': 30000.0,\n",
       " 'champú': 18000.0,\n",
       " 'detergente': 12000.0,\n",
       " 'harina': 11000,\n",
       " 'jamón': 15000.0,\n",
       " 'leche': 6000.0,\n",
       " 'pasta': 18000,\n",
       " 'refresco': 8000.0}"
      ]
     },
     "execution_count": 18,
     "metadata": {},
     "output_type": "execute_result"
    }
   ],
   "source": [
    "# los productos que ya teníamos\n",
    "productos = {'azucar':9000.0, 'arroz':9850.5, 'harina':11000, 'aceite':12000, 'pasta':18000}\n",
    "\n",
    "# ¿cómo combinamos los dos?\n",
    "productos.update(productos2)\n",
    "productos"
   ]
  },
  {
   "cell_type": "markdown",
   "metadata": {},
   "source": [
    "Es importante que una vez que terminemos de trabajar con el archivo, cerremos la conexión del mismo. La función **close()** hace el trabajo:"
   ]
  },
  {
   "cell_type": "code",
   "execution_count": 19,
   "metadata": {
    "collapsed": true
   },
   "outputs": [],
   "source": [
    "# cerramos la conexion al archivo\n",
    "f.close()"
   ]
  },
  {
   "cell_type": "markdown",
   "metadata": {},
   "source": [
    "Para agregar más productos a nuestra lista, pero dentro del archivo de texto, usamos la función **write()**, sobre el manejador de archivos **f**. En este caso usamos la sentencia **with**, que permite usar **f** sin necesidad de cerrar la conexión explícitamente al terminar de utilizarlo:"
   ]
  },
  {
   "cell_type": "code",
   "execution_count": 20,
   "metadata": {
    "collapsed": true
   },
   "outputs": [],
   "source": [
    "# abriendo la conexión al archivo en modo \"append\" para anexar datos al final\n",
    "with open('compras.txt', 'a') as f:\n",
    "    f.write(\"leche 6000\\n\")    # escribe la nueva línea al final del archivo"
   ]
  },
  {
   "cell_type": "markdown",
   "metadata": {},
   "source": [
    "En la función **open**, usamos el parámetro **'a'**, para indicar que el archivo esté preparado sólo para anexar líneas al final del mismo.\n",
    "\n",
    "La función **write** permite escribir cualquier cadena de caracteres al archivo de texto. Nota que la línea **\"leche 6000\\n\"** incluye el caracter de nueva línea al finalizar. Ahora comprobemos que realmente agregamos la nueva información a nuestro archivo, leyendo nuevamente:"
   ]
  },
  {
   "cell_type": "code",
   "execution_count": 21,
   "metadata": {},
   "outputs": [
    {
     "name": "stdout",
     "output_type": "stream",
     "text": [
      "['carne 30000\\n', 'jamón 15000\\n', 'detergente 12000\\n', 'champú 18000\\n', 'refresco 8000\\n', 'leche 6000\\n', 'leche 6000\\n']\n"
     ]
    }
   ],
   "source": [
    "with open('compras.txt', 'r') as f:   # abre el archivo en modo lectura\n",
    "    c = f.readlines()                 # lee el contenido completo\n",
    "\n",
    "print(c)"
   ]
  },
  {
   "cell_type": "markdown",
   "metadata": {},
   "source": [
    "Como puedes ver, el nuevo producto está realmente listado al final del archivo.\n",
    "\n",
    "Uno de los formatos más usados en archivos de datos es el **.CSV**, conocido como \"valores separados por comas\". Las hojas de cálculo actualmente permiten guardar archivos con este formato. Podemos manipular de manera similar estos archivos:"
   ]
  },
  {
   "cell_type": "code",
   "execution_count": 22,
   "metadata": {
    "collapsed": true
   },
   "outputs": [],
   "source": [
    "# lo mismo pero con comas de separador:\n",
    "with open('compras.csv', 'r') as f:\n",
    "    c = f.readlines()\n",
    "\n",
    "# eliminando el caracter \\n  (nueva línea o enter)\n",
    "for i in range(len(c)):\n",
    "    c[i] = c[i].replace(\"\\n\",\"\")"
   ]
  },
  {
   "cell_type": "markdown",
   "metadata": {},
   "source": [
    "Nota que el proceso de lectura y reemplazo de caracteres sigue siendo el mismo."
   ]
  },
  {
   "cell_type": "code",
   "execution_count": 24,
   "metadata": {},
   "outputs": [
    {
     "data": {
      "text/plain": [
       "{'carne': 30000.0,\n",
       " 'champú': 18000.0,\n",
       " 'detergente': 12000.0,\n",
       " 'jamón espalda': 15000.0}"
      ]
     },
     "execution_count": 24,
     "metadata": {},
     "output_type": "execute_result"
    }
   ],
   "source": [
    "# separando nombres de precios (lista de listas)\n",
    "prod = [p.split(\",\") for p in c]\n",
    "\n",
    "# eliminando las listas sin contenido (vacías)\n",
    "for i in range(len(prod)):\n",
    "    if len(prod[i]) == 0: prod.pop(i)\n",
    "\n",
    "# creando el diccionario\n",
    "productos2 = {i[0]:float(i[1]) for i in prod}\n",
    "\n",
    "productos2"
   ]
  },
  {
   "cell_type": "markdown",
   "metadata": {},
   "source": [
    "La única diferencia importante reside en el uso de la función **split**. Dado que sabemos que el archivo está separdo por comas, utilizamos el caracter **\",\"** para hacer la división con ```p.split(\",\")``` en la primera línea de código."
   ]
  },
  {
   "cell_type": "markdown",
   "metadata": {},
   "source": [
    "Ahora queremos guardar este código como un *script* para usarlo cuando nos interese. Lo guardamos como un archivo de texto con extensión **.py**. Nuestro archivo lo llamamos **\"leerproductos.py\"**. Luego, para ejecutarlo sólo escribimos dentro del shell de python:"
   ]
  },
  {
   "cell_type": "code",
   "execution_count": 25,
   "metadata": {
    "collapsed": true
   },
   "outputs": [],
   "source": [
    "exec(open(\"leerproductos.py\").read())"
   ]
  },
  {
   "cell_type": "markdown",
   "metadata": {},
   "source": [
    "Esta instrucción tiene varios pasos que pueden escribirse separadamente para que notes con claridad el proceso:\n",
    "```python\n",
    "    f = open(\"leerproductos.py\")     # primero abrimos la conexión al archivo\n",
    "    c = f.read()              # luego leemos el contenido\n",
    "    exec(c)                   # y finalmente ejecutamos el código\n",
    "```\n",
    "\n",
    "Después de ejecutar los comandos de nuestro *script* podemos acceder a las variables que se crean internamente, por ejemplo \"productos2\":"
   ]
  },
  {
   "cell_type": "code",
   "execution_count": 26,
   "metadata": {},
   "outputs": [
    {
     "data": {
      "text/plain": [
       "{'carne': 30000.0,\n",
       " 'champú': 18000.0,\n",
       " 'detergente': 12000.0,\n",
       " 'jamón espalda': 15000.0}"
      ]
     },
     "execution_count": 26,
     "metadata": {},
     "output_type": "execute_result"
    }
   ],
   "source": [
    "productos2"
   ]
  },
  {
   "cell_type": "markdown",
   "metadata": {},
   "source": [
    "También podemos usar nuestras funciones desde *scripts* por medio de la sentencia **import**. La función resumen que hemos creado anteriormente la guardamos en un archivo llamado **mi_script.py**."
   ]
  },
  {
   "cell_type": "code",
   "execution_count": 27,
   "metadata": {
    "collapsed": true
   },
   "outputs": [],
   "source": [
    "def resumen(productos):  #recibe un diccionario de pares producto:precio\n",
    "    promedio =  sum(productos.values()) / len(productos)\n",
    "    maximo = max(productos.values())\n",
    "    return promedio, maximo     # devuelve dos valores en forma de tupla"
   ]
  },
  {
   "cell_type": "markdown",
   "metadata": {},
   "source": [
    "Ahora importamos nuestra función y la usamos con el diccionario \"productos2\":"
   ]
  },
  {
   "cell_type": "code",
   "execution_count": 29,
   "metadata": {},
   "outputs": [
    {
     "data": {
      "text/plain": [
       "(18750.0, 30000.0)"
      ]
     },
     "execution_count": 29,
     "metadata": {},
     "output_type": "execute_result"
    }
   ],
   "source": [
    "from mi_script import resumen    # importa la función resumen, del archivo mi_script.py\n",
    "resumen(productos2)               # ejecuta la funciónanalizar"
   ]
  },
  {
   "cell_type": "markdown",
   "metadata": {},
   "source": [
    "Si quieres cambiarle el nombre a tu script, usa la función **rename**. El primer argumento es una cadena con el nombre actual incluyendo la extensión del archivo, y la segunda es el nuevo nombre:\n",
    "\n",
    "```python\n",
    "import os\n",
    "os.rename(\"nombreviejo.txt\", \"nombrenuevo.txt\")\n",
    "```"
   ]
  },
  {
   "cell_type": "markdown",
   "metadata": {},
   "source": [
    "Desde el mismo shell de python puedes eliminar también cualquier archivo con la instrucción:\n",
    "```python\n",
    "import os\n",
    "os.remove(\"nombredelarchivo.txt\")\n",
    "```"
   ]
  },
  {
   "cell_type": "markdown",
   "metadata": {},
   "source": [
    "#### Lectura de archivos desde la web\n",
    "***\n",
    "\n",
    "Es típico que se quieran extraer y analizar datos que están alojados en la web como archivos, o directamente en el código html de las páginas. El módulo **urllib** de Python permite manipular direcciones web para cargar datos."
   ]
  },
  {
   "cell_type": "code",
   "execution_count": null,
   "metadata": {
    "collapsed": true
   },
   "outputs": [],
   "source": [
    "## lectura de archivos desde la web con urllib\n",
    "import urllib\n",
    "\n",
    "link = \"https://drive.google.com/open?id=0B6DckqJcFRC3ekt0UjZxMDhsVjg\"\n",
    "f = urllib.urlopen(link)\n",
    "myfile = f.read()\n",
    "print myfile"
   ]
  },
  {
   "cell_type": "markdown",
   "metadata": {},
   "source": [
    "También con el módulo [**requests**](http://docs.python-requests.org/en/latest/) podemos acceder a este tipo de datos:"
   ]
  },
  {
   "cell_type": "code",
   "execution_count": null,
   "metadata": {
    "collapsed": true
   },
   "outputs": [],
   "source": [
    "import requests\n",
    "link = \"http://www.somesite.com/details.pl?urn=2344\"\n",
    "f = requests.get(link)\n",
    "\n",
    "print f.text"
   ]
  },
  {
   "cell_type": "code",
   "execution_count": null,
   "metadata": {
    "collapsed": true
   },
   "outputs": [],
   "source": [
    "## lectura de html, xml con librerias xmlparser xml.etree.elementTree\n",
    "## lectura de json files\n"
   ]
  },
  {
   "cell_type": "code",
   "execution_count": null,
   "metadata": {
    "collapsed": true
   },
   "outputs": [],
   "source": []
  },
  {
   "cell_type": "code",
   "execution_count": null,
   "metadata": {
    "collapsed": true
   },
   "outputs": [],
   "source": []
  },
  {
   "cell_type": "markdown",
   "metadata": {},
   "source": [
    "***\n",
    "| [Atrás](Módulo II - Cadenas, estructuras de datos y de control.ipynb) | [Inicio](Introducción - Contenido.ipynb) | [Siguiente](Módulo IV - Introducción a la Ciencia de Datos.ipynb)"
   ]
  }
 ],
 "metadata": {
  "kernelspec": {
   "display_name": "Python 3",
   "language": "python",
   "name": "python3"
  },
  "language_info": {
   "codemirror_mode": {
    "name": "ipython",
    "version": 3
   },
   "file_extension": ".py",
   "mimetype": "text/x-python",
   "name": "python",
   "nbconvert_exporter": "python",
   "pygments_lexer": "ipython3",
   "version": "3.6.1"
  }
 },
 "nbformat": 4,
 "nbformat_minor": 2
}
