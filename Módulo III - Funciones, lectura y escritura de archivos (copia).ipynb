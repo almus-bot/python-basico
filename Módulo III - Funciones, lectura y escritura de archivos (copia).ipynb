{
 "cells": [
  {
   "cell_type": "markdown",
   "metadata": {},
   "source": [
    "# Módulo III: Funciones, lectura y escritura de archivos\n",
    "***\n"
   ]
  },
  {
   "cell_type": "markdown",
   "metadata": {},
   "source": [
    "## Sesión a"
   ]
  },
  {
   "cell_type": "markdown",
   "metadata": {},
   "source": [
    "### Funciones en Python\n",
    "***\n",
    "Le llamamos función a bloques de código que agrupamos y definimos mediante un nombre, y que podemos usar \"llamándola\" luego en nuestros *script* cuando queramos. Estos bloques ayudan a tener organizado nuestro código, encapsulando tareas que usamos repetitivamente sobre distintos objetos sin necesidad de replicar todas las instrucciones cada vez.\n",
    "\n",
    "Cuando escribimos **print()** o **len()** estamos haciendo uso de funciones nativas de Python. Nota que la \"llamada\" se hace con el uso de paréntesis."
   ]
  },
  {
   "cell_type": "code",
   "execution_count": 1,
   "metadata": {},
   "outputs": [
    {
     "name": "stdout",
     "output_type": "stream",
     "text": [
      "hello\n"
     ]
    },
    {
     "data": {
      "text/plain": [
       "4"
      ]
     },
     "execution_count": 1,
     "metadata": {},
     "output_type": "execute_result"
    }
   ],
   "source": [
    "print(\"hello\")\n",
    "L = [1,2,3,4]\n",
    "len(L)"
   ]
  },
  {
   "cell_type": "markdown",
   "metadata": {},
   "source": [
    "Las funciones reciben los objetos que procesarán dentro de los paréntesis, a estos se les llama **argumentos** de la función. En Python, al contrario de otros lenguajes, no es necesario especificar con antelación qué tipo de variables necesita como argumentos de entrada, ni el tipo de variable de salida que tendrá la función."
   ]
  },
  {
   "cell_type": "code",
   "execution_count": 2,
   "metadata": {},
   "outputs": [
    {
     "name": "stdout",
     "output_type": "stream",
     "text": [
      "hello-1-world\n"
     ]
    }
   ],
   "source": [
    "print (\"hello\", 1, \"world\", sep =\"-\")"
   ]
  },
  {
   "cell_type": "markdown",
   "metadata": {},
   "source": [
    "Podemos definir nuestras propias funciones con la sentencia **def**:\n",
    "\n",
    "```python\n",
    "def mi_funcion(n):\n",
    "```\n",
    "Aquí, **mi_funcion** es el nombre de la función que crearemos, y es el mismo nombre a través del cuál haremos uso de ella. Definimos un argumento **n** que debe recibir la función para procesar dentro del código. Podemos definir cuantos argumentos necesitemos. Antes de comenzar con el bloque de código, debemos colocar los dos puntos al final de la definición. \n",
    "\n",
    "Por ejemplo, podemos encapsular en una función el código que utlizamos para imprimir todos los productos en nuestra lista de compras:"
   ]
  },
  {
   "cell_type": "code",
   "execution_count": 1,
   "metadata": {
    "collapsed": true
   },
   "outputs": [],
   "source": [
    "def listar_productos(productos):\n",
    "    print(\"Producto = Precio\")\n",
    "    for i in productos:\n",
    "        print(i,\" = \", productos[i])"
   ]
  },
  {
   "cell_type": "markdown",
   "metadata": {},
   "source": [
    "El bloque de código dentro de la función debe estar indentado, es decir, se debe comenzar el bloque con el espaciado correspondiente. Ahora podemos hacer uso de la función que definimos:"
   ]
  },
  {
   "cell_type": "code",
   "execution_count": 2,
   "metadata": {},
   "outputs": [
    {
     "name": "stdout",
     "output_type": "stream",
     "text": [
      "Producto = Precio\n",
      "azucar  =  9000.0\n",
      "arroz  =  9850.5\n",
      "harina  =  11000\n",
      "aceite  =  12000\n",
      "pasta  =  18000\n"
     ]
    }
   ],
   "source": [
    "productos = {'azucar':9000.0, 'arroz':9850.5, 'harina':11000, 'aceite':12000, 'pasta':18000}\n",
    "listar_productos(productos)"
   ]
  },
  {
   "cell_type": "markdown",
   "metadata": {},
   "source": [
    "Vamos a calcular el precio promedio de todos los productos que hemos comprado hasta ahora. Creamos una función para ello:"
   ]
  },
  {
   "cell_type": "code",
   "execution_count": 6,
   "metadata": {
    "collapsed": true
   },
   "outputs": [],
   "source": [
    "def promedio(productos):\n",
    "    promedio =  sum(productos.values()) / len(productos)\n",
    "    return promedio"
   ]
  },
  {
   "cell_type": "markdown",
   "metadata": {},
   "source": [
    "La sentencia **return** indica cuál es la variable que nos va a entregar nuestra función como resultado. Si no especificamos esto, la función nos dará una variable del tipo *None* de forma predeterminada."
   ]
  },
  {
   "cell_type": "code",
   "execution_count": 7,
   "metadata": {},
   "outputs": [
    {
     "data": {
      "text/plain": [
       "11970.1"
      ]
     },
     "execution_count": 7,
     "metadata": {},
     "output_type": "execute_result"
    }
   ],
   "source": [
    "promedio(productos)"
   ]
  },
  {
   "cell_type": "markdown",
   "metadata": {},
   "source": [
    "Nota que el nombre de la variable que le estamos pasando a la función no necesariamente tiene que ser igual que el nombre del argumento definido."
   ]
  },
  {
   "cell_type": "code",
   "execution_count": 8,
   "metadata": {},
   "outputs": [
    {
     "name": "stdout",
     "output_type": "stream",
     "text": [
      "{0: 0, 1: 1, 2: 2, 3: 3, 4: 4}\n"
     ]
    },
    {
     "data": {
      "text/plain": [
       "2.0"
      ]
     },
     "execution_count": 8,
     "metadata": {},
     "output_type": "execute_result"
    }
   ],
   "source": [
    "otro_dict = {i:i for i in range (5)}\n",
    "print(otro_dict)\n",
    "resultado = promedio(otro_dict)\n",
    "resultado"
   ]
  },
  {
   "cell_type": "markdown",
   "metadata": {},
   "source": [
    "Si necesitamos que nuestra función nos regrese varios valores, podemos usar alguna estructura de datos como tuplas."
   ]
  },
  {
   "cell_type": "code",
   "execution_count": 9,
   "metadata": {
    "collapsed": true
   },
   "outputs": [],
   "source": [
    "def resumen(productos):\n",
    "    promedio =  sum(productos.values()) / len(productos)\n",
    "    maximo = max(productos.values())\n",
    "    return promedio, maximo     # devuelve dos valores en forma de tupla"
   ]
  },
  {
   "cell_type": "markdown",
   "metadata": {},
   "source": [
    "Ahora podemos hacer uso de esta función modificada. Almacenamos los resultados en dos variables distintas (formada como una tupla)."
   ]
  },
  {
   "cell_type": "code",
   "execution_count": 10,
   "metadata": {},
   "outputs": [
    {
     "name": "stdout",
     "output_type": "stream",
     "text": [
      "11970.1\n",
      "18000\n"
     ]
    }
   ],
   "source": [
    "precio_promedio , precio_maximo = resumen(productos)  # almacenamos simultáneamente los resultados\n",
    "print(precio_promedio)\n",
    "print(precio_maximo)"
   ]
  }
  