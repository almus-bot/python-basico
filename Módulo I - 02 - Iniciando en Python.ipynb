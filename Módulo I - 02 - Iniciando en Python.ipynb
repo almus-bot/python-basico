{
 "cells": [
  {
   "cell_type": "markdown",
   "metadata": {},
   "source": [
    "## Variables y Operaciones\n",
    "***\n",
    "\n",
    "Para poder aplicar operaciones sobre datos debemos saber primero cómo manipularlos dentro de python. Supón que quieres guardar el precio de un producto. Por ejemplo, el azúcar en 9000 bs. En python escribimos:"
   ]
  },
  {
   "cell_type": "code",
   "execution_count": 1,
   "metadata": {
    "collapsed": true
   },
   "outputs": [],
   "source": [
    "azucar = 9000.00   # asignamos el valor 9000 a la variable con nombre \"azucar\""
   ]
  },
  {
   "cell_type": "markdown",
   "metadata": {},
   "source": [
    "Aquí el nombre **\"azucar\"** se llama **variable**, y es un contenedor que en este caso almacena valores de tipo \"flotante\" (números reales). Para acceder al valor que acabamos de crear, sólo escribimos el nombre de la variable:"
   ]
  },
  {
   "cell_type": "code",
   "execution_count": 2,
   "metadata": {},
   "outputs": [
    {
     "data": {
      "text/plain": [
       "9000.0"
      ]
     },
     "execution_count": 2,
     "metadata": {},
     "output_type": "execute_result"
    }
   ],
   "source": [
    "azucar   # accedemos al contenido de la variable recién creada"
   ]
  },
  {
   "cell_type": "markdown",
   "metadata": {},
   "source": [
    "Podemos guardar otro producto de la misma manera, por ejemplo:"
   ]
  },
  {
   "cell_type": "code",
   "execution_count": 4,
   "metadata": {
    "scrolled": true
   },
   "outputs": [
    {
     "data": {
      "text/plain": [
       "10000.0"
      ]
     },
     "execution_count": 4,
     "metadata": {},
     "output_type": "execute_result"
    }
   ],
   "source": [
    "arroz = 10000.0   # asignamos el valor de 10000.0 a la variable arroz\n",
    "arroz"
   ]
  },
  {
   "cell_type": "markdown",
   "metadata": {},
   "source": [
    "Nota que es indiferente el espaciado entre la misma línea o \"instrucción\" que le damos a Python. Sin embargo, es recomendable seguir las mejores prácticas para el código según el [pep8](https://www.python.org/dev/peps/pep-0008/).\n",
    "Para calcular el total de ambos productos, escribimos:"
   ]
  },
  {
   "cell_type": "code",
   "execution_count": 5,
   "metadata": {},
   "outputs": [
    {
     "data": {
      "text/plain": [
       "19000.0"
      ]
     },
     "execution_count": 5,
     "metadata": {},
     "output_type": "execute_result"
    }
   ],
   "source": [
    "arroz + azucar"
   ]
  },
  {
   "cell_type": "markdown",
   "metadata": {},
   "source": [
    "Nota que en este caso sólo estamos obteniendo el valor directamente en el intérprete, **sin guardarlo en otra variable**.\n",
    "\n",
    "***\n",
    "> *Intenta guardar el resultado de la resta de ambos precios en una variable nueva. Elige el nombre que quieras:*\n",
    "\n",
    "***"
   ]
  },
  {
   "cell_type": "code",
   "execution_count": null,
   "metadata": {
    "collapsed": true
   },
   "outputs": [],
   "source": []
  },
  {
   "cell_type": "markdown",
   "metadata": {},
   "source": [
    "Las demás operaciones ariméticas que conocemos se realizan de la misma manera. En la tabla siguiente se muestran los símbolos utilizados para cada una de ellas."
   ]
  },
  {
   "cell_type": "markdown",
   "metadata": {},
   "source": [
    "| Instrucción     | Operación         | Detalle                                            |\n",
    "|--------------|----------------|--------------------------------------------------------|\n",
    "| ``a + b``    | Suma       | Suma de ``a`` y ``b``                                 |\n",
    "| ``a - b``    | Resta    | Resta de ``a`` y ``b``                          |\n",
    "| ``a * b``    | Multiplicación | Producto de ``a`` por ``b``                             |\n",
    "| ``a / b``    | División normal | Cociente o división de ``a`` y ``b``                            |\n",
    "| ``a // b``   | División entera | Parte entera de la división de ``a`` y ``b``|\n",
    "| ``a % b``    | Módulo o resto  | Resto de la división entre ``a`` y ``b``     |\n",
    "| ``a ** b``   | Exponente | ``a`` elevado a la potencia de ``b``                     |\n",
    "| ``-a``       | Negación       | Valor negativo de ``a``                                  |\n",
    "| ``+a``       | Incremento     | ``a`` sin cambios                          |\n"
   ]
  },
  {
   "cell_type": "markdown",
   "metadata": {},
   "source": [
    "El operador **```//```** realiza una división entera, es decir, nos devuelve sólo la parte entera del resultado en caso de que sea un número flotante (real). En la primera línea imprimimos en el terminal la división entera y luego la división \"normal\", donde puedes ver la diferencia."
   ]
  },
  {
   "cell_type": "code",
   "execution_count": 5,
   "metadata": {},
   "outputs": [
    {
     "name": "stdout",
     "output_type": "stream",
     "text": [
      "1\n",
      "1.4\n"
     ]
    }
   ],
   "source": [
    "print(7 // 5)    # división entera\n",
    "print(7 / 5)     # división \"normal\""
   ]
  },
  {
   "cell_type": "markdown",
   "metadata": {},
   "source": [
    "Ahora almacenamos el número de productos que tenemos hasta ahora (2), y observamos el tipo de variable:"
   ]
  },
  {
   "cell_type": "code",
   "execution_count": 6,
   "metadata": {},
   "outputs": [
    {
     "data": {
      "text/plain": [
       "int"
      ]
     },
     "execution_count": 6,
     "metadata": {},
     "output_type": "execute_result"
    }
   ],
   "source": [
    "cantidad = 2    # los productos que tenemos hasta ahora\n",
    "type(cantidad)  # la función type nos indica el tipo de variable "
   ]
  },
  {
   "cell_type": "markdown",
   "metadata": {},
   "source": [
    "Python reconoce el tipo de valores que estamos introduciendo. En este caso es un número entero. Si queremos forzar a que el valor sea guardado como flotante, podemos escribir:"
   ]
  },
  {
   "cell_type": "code",
   "execution_count": 7,
   "metadata": {},
   "outputs": [
    {
     "data": {
      "text/plain": [
       "2.0"
      ]
     },
     "execution_count": 7,
     "metadata": {},
     "output_type": "execute_result"
    }
   ],
   "source": [
    "float(cantidad)"
   ]
  },
  {
   "cell_type": "markdown",
   "metadata": {},
   "source": [
    "Vemos que ahora el número tiene un formato distinto, con un decimal por defecto.\n",
    "\n",
    "***\n",
    "> *¿Cómo cambiarías el tipo de dato de las variables `azucar` y `arroz`? *\n",
    "\n",
    "***"
   ]
  },
  {
   "cell_type": "code",
   "execution_count": null,
   "metadata": {
    "collapsed": true
   },
   "outputs": [],
   "source": []
  },
  {
   "cell_type": "markdown",
   "metadata": {},
   "source": [
    "Ahora supón que no quieres olvidar el lugar donde encontraste los productos, entonces guardamos el nombre del sitio donde compramos:"
   ]
  },
  {
   "cell_type": "code",
   "execution_count": 8,
   "metadata": {},
   "outputs": [
    {
     "ename": "SyntaxError",
     "evalue": "invalid syntax (<ipython-input-8-2c1daee8d733>, line 1)",
     "output_type": "error",
     "traceback": [
      "\u001b[0;36m  File \u001b[0;32m\"<ipython-input-8-2c1daee8d733>\"\u001b[0;36m, line \u001b[0;32m1\u001b[0m\n\u001b[0;31m    sitio = los chinos de la esquina\u001b[0m\n\u001b[0m                     ^\u001b[0m\n\u001b[0;31mSyntaxError\u001b[0m\u001b[0;31m:\u001b[0m invalid syntax\n"
     ]
    }
   ],
   "source": [
    "sitio = los chinos de la esquina"
   ]
  },
  {
   "cell_type": "markdown",
   "metadata": {},
   "source": [
    "En este caso, no podemos crear una variable que contenga una frase o texto sin encerrarlas en comillas simples, dobles o triples. Por eso Python nos notifica un error. Intentamos nuevamente:"
   ]
  },
  {
   "cell_type": "code",
   "execution_count": 9,
   "metadata": {
    "collapsed": true
   },
   "outputs": [],
   "source": [
    "sitio = \"los chinos de la esquina\""
   ]
  },
  {
   "cell_type": "markdown",
   "metadata": {},
   "source": [
    "Esta es una variable de tipo **\"string\"** o cadena de caracteres. De esta manera podemos almacenar cualquier texto que necesitemos. Más adelante veremos más operaciones sobre este tipo de variable.\n",
    "\n",
    "***\n",
    "> *¿Qué otras cosas puedes guardar en variables **string**? Prueba a crear algunas más:*\n",
    "\n",
    "***"
   ]
  },
  {
   "cell_type": "code",
   "execution_count": null,
   "metadata": {
    "collapsed": true
   },
   "outputs": [],
   "source": [
    "\n"
   ]
  },
  {
   "cell_type": "markdown",
   "metadata": {},
   "source": [
    "***\n",
    "> *Presta atención a las siguientes operaciones. ¿Puedes suponer de qué se trata cada una?*\n",
    "\n",
    "***"
   ]
  },
  {
   "cell_type": "code",
   "execution_count": 6,
   "metadata": {
    "collapsed": true
   },
   "outputs": [],
   "source": [
    "estacionamiento = True\n",
    "punto = False\n",
    "iva = 12\n",
    "total = (azucar + arroz) * iva / 100"
   ]
  },
  {
   "cell_type": "markdown",
   "metadata": {},
   "source": [
    "La variable **`estacionamiento`** es de tipo \"lógico\" o booleano, y en este caso nos indica si el sitio tiene o no estacionamiento disponible. Actualmente tiene el valor de \"True\" o cierto. Los valores que pueden tomar un \"booleano\" son **True** y **False**. Es importante notar que la primera letra debe ser estrictamente mayúscula, mientras que el resto, minúsculas.\n",
    "\n",
    "La nueva variable **`iva`** almacena el porcentaje de impuesto que debe aplicarse al precio total de nuestros productos. En la tercera línea calculamos el total haciendo **uso de paréntesis** para agrupar y ordenar la operación. Podemos acceder a la variable **`total`** para ver su contenido:"
   ]
  },
  {
   "cell_type": "code",
   "execution_count": 7,
   "metadata": {},
   "outputs": [
    {
     "data": {
      "text/plain": [
       "2280.0"
      ]
     },
     "execution_count": 7,
     "metadata": {},
     "output_type": "execute_result"
    }
   ],
   "source": [
    "total"
   ]
  },
  {
   "cell_type": "markdown",
   "metadata": {},
   "source": [
    "***\n",
    "> *Supón que ganaste un descuento del 10%, calcula entonces el precio final que deberás pagar:*\n",
    "\n",
    "***"
   ]
  },
  {
   "cell_type": "code",
   "execution_count": 12,
   "metadata": {},
   "outputs": [
    {
     "data": {
      "text/plain": [
       "2143.8432000000003"
      ]
     },
     "execution_count": 12,
     "metadata": {},
     "output_type": "execute_result"
    }
   ],
   "source": [
    "descuento = 10\n",
    "final = total - total * descuento / 100\n",
    "final"
   ]
  },
  {
   "cell_type": "markdown",
   "metadata": {},
   "source": [
    "También puedes decidir que volverías sólo si el sitio tiene tanto estacionamiento como punto:"
   ]
  },
  {
   "cell_type": "code",
   "execution_count": 13,
   "metadata": {},
   "outputs": [
    {
     "data": {
      "text/plain": [
       "False"
      ]
     },
     "execution_count": 13,
     "metadata": {},
     "output_type": "execute_result"
    }
   ],
   "source": [
    "estacionamiento and punto   # estacionamiento Y punto (ambos a la vez)"
   ]
  },
  {
   "cell_type": "markdown",
   "metadata": {},
   "source": [
    "O le das un poco de flexibilidad y decides que volverias si tiene estacionamiento, o punto, alguno de los dos:"
   ]
  },
  {
   "cell_type": "code",
   "execution_count": 14,
   "metadata": {
    "scrolled": true
   },
   "outputs": [
    {
     "data": {
      "text/plain": [
       "True"
      ]
     },
     "execution_count": 14,
     "metadata": {},
     "output_type": "execute_result"
    }
   ],
   "source": [
    "estacionamiento or punto   # estacionamiento O punto (alguno de los dos o ambos)"
   ]
  },
  {
   "cell_type": "markdown",
   "metadata": {},
   "source": [
    "La siguiente tabla contiene los operadores que se pueden aplicar a pares de variables lógicas o booleanas:\n",
    "\n",
    "| Instrucción  | Operación           | Detalle                                |\n",
    "|--------------|-----------------|---------------------------------------------|\n",
    "| ``a and b``    | Comparación 'Y' (and)     |**True** si ``a`` y ``b`` son ambos True. **False** en caso contrario.      |\n",
    "| ``a or b``| Comparación 'O' (or)      | **True** si alguno o ambos entre ``a`` y ``b`` son True.    |\n",
    "| ``a != b``    | Equivalente al 'O' exclusivo (xor)     | **True** si ``a`` o ``b`` es True, pero no ambos. |\n",
    "| ``not a``       |Negación (not)     | **True** si ``a`` es **False**. Viceversa.                       |"
   ]
  },
  {
   "cell_type": "markdown",
   "metadata": {},
   "source": [
    "***\n",
    "> *Ahora puede que te llegue la noticia de que aumentó el precio del azucar en 1000bs. ¿Cómo modificas la variable azucar?:*\n",
    "\n",
    "***"
   ]
  },
  {
   "cell_type": "code",
   "execution_count": 15,
   "metadata": {
    "collapsed": true
   },
   "outputs": [],
   "source": [
    "azucar = azucar + 1000"
   ]
  },
  {
   "cell_type": "markdown",
   "metadata": {},
   "source": [
    "Una forma mas compacta de hacer esto es:"
   ]
  },
  {
   "cell_type": "code",
   "execution_count": 16,
   "metadata": {},
   "outputs": [
    {
     "data": {
      "text/plain": [
       "11850.4"
      ]
     },
     "execution_count": 16,
     "metadata": {},
     "output_type": "execute_result"
    }
   ],
   "source": [
    "azucar += 1000\n",
    "azucar"
   ]
  },
  {
   "cell_type": "markdown",
   "metadata": {},
   "source": [
    "Este tipo de **operadores de asignación** funcionan como abreviación de las instrucciones y se pueden aplicar a los siguiente operadores:\n",
    "\n",
    "|||||\n",
    "|-|-|\n",
    "|``a += b``| ``a -= b``|``a *= b``| ``a /= b``|\n",
    "|``a //= b``| ``a %= b``|``a **= b``|``a &= b``|\n",
    "|<code>a &#124;= b</code>| ``a ^= b``|``a <<= b``| ``a >>= b``|\n",
    "\n",
    "***\n",
    "> *Prueba algunos otros operadores de asignación abreviados!*\n",
    "\n",
    "***"
   ]
  },
  {
   "cell_type": "code",
   "execution_count": null,
   "metadata": {
    "collapsed": true
   },
   "outputs": [],
   "source": []
  },
  {
   "cell_type": "markdown",
   "metadata": {},
   "source": [
    "Finalmente, si quieres saber el precio promedio de los productos puedes usar la media como medida, es decir:\n",
    "\n",
    "             media de precios = suma total de los precios / número total de precios \n",
    "\n",
    "***\n",
    "> *Crear una variable con el promedio calculado:*\n",
    "\n",
    "***"
   ]
  },
  {
   "cell_type": "code",
   "execution_count": 17,
   "metadata": {
    "scrolled": true
   },
   "outputs": [
    {
     "data": {
      "text/plain": [
       "1191.0240000000001"
      ]
     },
     "execution_count": 17,
     "metadata": {},
     "output_type": "execute_result"
    }
   ],
   "source": [
    "promedio = total / 2\n",
    "promedio"
   ]
  },
  {
   "cell_type": "markdown",
   "metadata": {},
   "source": [
    "## Más sobre cadenas\n",
    "***\n",
    "Continuando con la compra de productos anterior, vamos guardar la dirección del sitio donde los encontramos:"
   ]
  },
  {
   "cell_type": "code",
   "execution_count": 9,
   "metadata": {
    "collapsed": true
   },
   "outputs": [],
   "source": [
    "direccion1 = \"Avenida 4 calle 10\""
   ]
  },
  {
   "cell_type": "markdown",
   "metadata": {},
   "source": [
    "Es común que en algún punto queramos extraer información de un pedazo de texto. Si tenemos una cadena de texto, podemos acceder a sus valores:\n"
   ]
  },
  {
   "cell_type": "code",
   "execution_count": 19,
   "metadata": {},
   "outputs": [
    {
     "data": {
      "text/plain": [
       "'A'"
      ]
     },
     "execution_count": 19,
     "metadata": {},
     "output_type": "execute_result"
    }
   ],
   "source": [
    "direccion1[0]"
   ]
  },
  {
   "cell_type": "markdown",
   "metadata": {},
   "source": [
    "Los **corchetes** nos ayudan a extraer valores de la variable cadena. Dentro de los corchetes usamos un número que indica la posición del caracter que queremos obtener. Hay que recordar que **la numeración de índices de acceso en Python inicia en '0'**. Es decir, si tenemos 10 elementos, entonces el primer elemento tendrá la posición '0' y el último, la posición '9'. En la imagen puedes ver una guía de las posiciones para cada caracter de la cadena:\n",
    "\n",
    "![Indices en python](images/023-indicespython.png)\n",
    "\n",
    "Usamos **dos puntos** para extraer secciones del texto. Desde el índice de la izquierda, hasta el índice que indiquemos a la derecha:"
   ]
  },
  {
   "cell_type": "code",
   "execution_count": 20,
   "metadata": {},
   "outputs": [
    {
     "data": {
      "text/plain": [
       "'ven'"
      ]
     },
     "execution_count": 20,
     "metadata": {},
     "output_type": "execute_result"
    }
   ],
   "source": [
    "direccion1[1:4]"
   ]
  },
  {
   "cell_type": "markdown",
   "metadata": {},
   "source": [
    "Si dejamos en blanco el primer índice, por defecto se tomará la primera posición como inicio de la subsección."
   ]
  },
  {
   "cell_type": "code",
   "execution_count": 21,
   "metadata": {},
   "outputs": [
    {
     "data": {
      "text/plain": [
       "'Aveni'"
      ]
     },
     "execution_count": 21,
     "metadata": {},
     "output_type": "execute_result"
    }
   ],
   "source": [
    "direccion1[:5]"
   ]
  },
  {
   "cell_type": "markdown",
   "metadata": {},
   "source": [
    "Análogamente, si dejamos en blanco el segundo índice, se tomará el resto del texto a partir del primer índice."
   ]
  },
  {
   "cell_type": "code",
   "execution_count": 22,
   "metadata": {},
   "outputs": [
    {
     "data": {
      "text/plain": [
       "'calle 10'"
      ]
     },
     "execution_count": 22,
     "metadata": {},
     "output_type": "execute_result"
    }
   ],
   "source": [
    "direccion1[10:]"
   ]
  },
  {
   "cell_type": "markdown",
   "metadata": {},
   "source": [
    "***\n",
    "> *Extrae la palabra \"calle\", el número 4 y la palabra Avenida de la cadena de texto:*\n",
    "\n",
    "***"
   ]
  },
  {
   "cell_type": "code",
   "execution_count": null,
   "metadata": {
    "collapsed": true
   },
   "outputs": [],
   "source": []
  },
  {
   "cell_type": "markdown",
   "metadata": {},
   "source": [
    "Las cadenas también pueden ser definidas con comillas simples. Si usamos comillas triples, podemos construir textos de varias líneas."
   ]
  },
  {
   "cell_type": "code",
   "execution_count": 23,
   "metadata": {
    "scrolled": false
   },
   "outputs": [
    {
     "name": "stdout",
     "output_type": "stream",
     "text": [
      "Avenida 4    \n",
      "calle 10\n",
      "edificio A\n",
      "\n"
     ]
    }
   ],
   "source": [
    "# cadena construida con comillas simples\n",
    "cadena = 'Avenida 4'  \n",
    "\n",
    "# cadena de varias líneas, con comillas triples\n",
    "direccion2 = \"\"\"Avenida 4    \n",
    "calle 10\n",
    "edificio A\n",
    "\"\"\"\n",
    "\n",
    "print(direccion2)"
   ]
  },
  {
   "cell_type": "markdown",
   "metadata": {},
   "source": [
    "Como compramos varios productos en distintos lugares, queremos almacenar esta información para futuras referencias. \n",
    "\n",
    "***\n",
    "> *Guarda los nombres de las tiendas donde compraste cada producto!*\n",
    "\n",
    "***"
   ]
  },
  {
   "cell_type": "code",
   "execution_count": 24,
   "metadata": {
    "collapsed": true
   },
   "outputs": [],
   "source": [
    "tienda1 = \"los chinos de la esquina\"\n",
    "tienda2 = \"supermercado MUNDO\"\n",
    "tienda3 = \"Abasto el rey\"\n",
    "tienda4 = \"la bodega de Juan\""
   ]
  },
  {
   "cell_type": "markdown",
   "metadata": {},
   "source": [
    "Python incluye herramientas para manipular cadenas de caracteres como éstas. Por ejemplo, existen funciones bastante útiles para modificar las mayúsculas y minúsculas de una cadena."
   ]
  },
  {
   "cell_type": "code",
   "execution_count": 25,
   "metadata": {},
   "outputs": [
    {
     "data": {
      "text/plain": [
       "'AVENIDA 4 CALLE 10'"
      ]
     },
     "execution_count": 25,
     "metadata": {},
     "output_type": "execute_result"
    }
   ],
   "source": [
    "direccion1.upper()"
   ]
  },
  {
   "cell_type": "code",
   "execution_count": 26,
   "metadata": {},
   "outputs": [
    {
     "data": {
      "text/plain": [
       "'avenida 4 calle 10'"
      ]
     },
     "execution_count": 26,
     "metadata": {},
     "output_type": "execute_result"
    }
   ],
   "source": [
    "direccion1.lower()"
   ]
  },
  {
   "cell_type": "markdown",
   "metadata": {},
   "source": [
    "La función **upper** convierte todas las letras a mayúsculas, mientras que **lower** las convierte a minúsculas. Este tipo de transformaciones son importantes cuando tenemos que mantener datos y textos limpios y consistentes. Por ejemplo, los nombres de nuestras tiendas no tienen mucha consistencia.\n",
    "\n",
    "***\n",
    ">*Coloca los nombres de las tiendas en mayúsculas o minúsculas*:\n",
    "\n",
    "***"
   ]
  },
  {
   "cell_type": "code",
   "execution_count": null,
   "metadata": {
    "collapsed": true
   },
   "outputs": [],
   "source": []
  },
  {
   "cell_type": "markdown",
   "metadata": {},
   "source": [
    "Probemos algunas otras transformaciones: La función **title()**, lleva a mayúsculas la primera letra de cada palabra dentro de la cadena, y coloca el resto en minúsculas. Por otro lado, la función **capitalize()** transforma sólo la primera letra de la cadena a mayúscula, mientras las demás a minúsculas."
   ]
  },
  {
   "cell_type": "code",
   "execution_count": 28,
   "metadata": {},
   "outputs": [
    {
     "data": {
      "text/plain": [
       "'Los Chinos De La Esquina'"
      ]
     },
     "execution_count": 28,
     "metadata": {},
     "output_type": "execute_result"
    }
   ],
   "source": [
    "tienda1.title()"
   ]
  },
  {
   "cell_type": "code",
   "execution_count": 29,
   "metadata": {},
   "outputs": [
    {
     "data": {
      "text/plain": [
       "'Supermercado mundo'"
      ]
     },
     "execution_count": 29,
     "metadata": {},
     "output_type": "execute_result"
    }
   ],
   "source": [
    "tienda2.capitalize()"
   ]
  },
  {
   "cell_type": "code",
   "execution_count": 30,
   "metadata": {},
   "outputs": [
    {
     "data": {
      "text/plain": [
       "'Abasto el rey'"
      ]
     },
     "execution_count": 30,
     "metadata": {},
     "output_type": "execute_result"
    }
   ],
   "source": [
    "tienda3.capitalize()"
   ]
  },
  {
   "cell_type": "code",
   "execution_count": 31,
   "metadata": {},
   "outputs": [
    {
     "data": {
      "text/plain": [
       "'La bodega de juan'"
      ]
     },
     "execution_count": 31,
     "metadata": {},
     "output_type": "execute_result"
    }
   ],
   "source": [
    "tienda4.capitalize()"
   ]
  },
  {
   "cell_type": "markdown",
   "metadata": {},
   "source": [
    "***\n",
    "> *Coloca la dirección que guardamos como una cadena tipo título o capital!*:\n",
    "\n",
    "***"
   ]
  },
  {
   "cell_type": "markdown",
   "metadata": {},
   "source": [
    "Otra función útil es **swapcase()**, que permite cambiar los caracteres que estén en minúsculas a mayúsculas, y viceversa:"
   ]
  },
  {
   "cell_type": "code",
   "execution_count": 32,
   "metadata": {},
   "outputs": [
    {
     "data": {
      "text/plain": [
       "'SUPERMERCADO mundo'"
      ]
     },
     "execution_count": 32,
     "metadata": {},
     "output_type": "execute_result"
    }
   ],
   "source": [
    "tienda2.swapcase()"
   ]
  },
  {
   "cell_type": "markdown",
   "metadata": {},
   "source": [
    "Una de las tareas más comunes al tratar con textos es buscar ocurrencias de ciertas palabras o caracteres que nos interesen. En Python podemos usar las funciones **find, index, rfind, endswith, startwith**, y también podemos reemplazar ocurrencias con **replace**.\n",
    "\n",
    "```python\n",
    "direccion.find()\n",
    "direccion.index()\n",
    "direccion.rfind()\n",
    "direccion.endswith\n",
    "direccion.startwith\n",
    "```\n"
   ]
  },
  {
   "cell_type": "markdown",
   "metadata": {},
   "source": [
    "Queremos saber si en la dirección de la tienda está especificada la \"calle\". La función **find** nos indica la posición de la cadena donde empieza la palabra que buscamos, en caso de que la encuentre. En caso contrario, devuelve **-1**."
   ]
  },
  {
   "cell_type": "code",
   "execution_count": 33,
   "metadata": {},
   "outputs": [
    {
     "data": {
      "text/plain": [
       "10"
      ]
     },
     "execution_count": 33,
     "metadata": {},
     "output_type": "execute_result"
    }
   ],
   "source": [
    "direccion1.find(\"calle\")   # entre paréntesis la palabra que buscamos, entre comillas"
   ]
  },
  {
   "cell_type": "markdown",
   "metadata": {},
   "source": [
    "***\n",
    "> *Busca si en la dirección está especificado el edificio donde está la tienda:*\n",
    "\n",
    "***"
   ]
  },
  {
   "cell_type": "code",
   "execution_count": 34,
   "metadata": {},
   "outputs": [
    {
     "data": {
      "text/plain": [
       "-1"
      ]
     },
     "execution_count": 34,
     "metadata": {},
     "output_type": "execute_result"
    }
   ],
   "source": [
    "direccion1.find(\"edif\")"
   ]
  },
  {
   "cell_type": "markdown",
   "metadata": {},
   "source": [
    "En este caso la dirección no contiene ninguna sub-cadena **\"edif\"**. La función **index()** opera de forma similar, pero en caso de no encontrar la cadena, devuelve un error de valor:"
   ]
  },
  {
   "cell_type": "code",
   "execution_count": 35,
   "metadata": {},
   "outputs": [
    {
     "ename": "ValueError",
     "evalue": "substring not found",
     "output_type": "error",
     "traceback": [
      "\u001b[0;31m---------------------------------------------------------------------------\u001b[0m",
      "\u001b[0;31mValueError\u001b[0m                                Traceback (most recent call last)",
      "\u001b[0;32m<ipython-input-35-b7469e7bb92f>\u001b[0m in \u001b[0;36m<module>\u001b[0;34m()\u001b[0m\n\u001b[0;32m----> 1\u001b[0;31m \u001b[0mdireccion1\u001b[0m\u001b[0;34m.\u001b[0m\u001b[0mindex\u001b[0m\u001b[0;34m(\u001b[0m\u001b[0;34m\"edif\"\u001b[0m\u001b[0;34m)\u001b[0m\u001b[0;34m\u001b[0m\u001b[0m\n\u001b[0m",
      "\u001b[0;31mValueError\u001b[0m: substring not found"
     ]
    }
   ],
   "source": [
    "direccion1.index(\"edif\")"
   ]
  },
  {
   "cell_type": "markdown",
   "metadata": {},
   "source": [
    "La función **rfind** es similar a **find**, con la diferencia de que realiza la búsqueda desde la derecha de la cadena, devolviendo la posición de la primera ocurrencia. Por ejemplo:"
   ]
  },
  {
   "cell_type": "code",
   "execution_count": 36,
   "metadata": {},
   "outputs": [
    {
     "data": {
      "text/plain": [
       "10"
      ]
     },
     "execution_count": 36,
     "metadata": {},
     "output_type": "execute_result"
    }
   ],
   "source": [
    "tienda4.rfind(\"de\")"
   ]
  },
  {
   "cell_type": "markdown",
   "metadata": {},
   "source": [
    "Recordemos que **`tienda4 = \"la bodega de Juan\"`**. La posición 10 corresponde al segundo **\"de\"** que aparece en la frase. **`rfind`** empieza la búsqueda desde el final, por lo que la primera ocurrencia está en 10, y no en 5 (el **\"de\"** en la palabra \"bodega\"). Con **find** podemos encontrar la primera ocurrencia desde el inicio de la cadena:"
   ]
  },
  {
   "cell_type": "code",
   "execution_count": 37,
   "metadata": {},
   "outputs": [
    {
     "data": {
      "text/plain": [
       "5"
      ]
     },
     "execution_count": 37,
     "metadata": {},
     "output_type": "execute_result"
    }
   ],
   "source": [
    "tienda4.find(\"de\")"
   ]
  },
  {
   "cell_type": "markdown",
   "metadata": {},
   "source": [
    "Para verificar si una frase empieza o termina con algún caracter o palabra en particular, usamos las funciones **endswith()** y **startswith()**:"
   ]
  },
  {
   "cell_type": "code",
   "execution_count": 38,
   "metadata": {},
   "outputs": [
    {
     "data": {
      "text/plain": [
       "False"
      ]
     },
     "execution_count": 38,
     "metadata": {},
     "output_type": "execute_result"
    }
   ],
   "source": [
    "direccion1.endswith(\"Avenida\")"
   ]
  },
  {
   "cell_type": "code",
   "execution_count": 39,
   "metadata": {},
   "outputs": [
    {
     "data": {
      "text/plain": [
       "True"
      ]
     },
     "execution_count": 39,
     "metadata": {},
     "output_type": "execute_result"
    }
   ],
   "source": [
    "direccion1.startswith(\"Avenida\")"
   ]
  },
  {
   "cell_type": "markdown",
   "metadata": {},
   "source": [
    "***\n",
    "> *Verifica si alguna de las tiendas empieza por \"supermercado\" o \"abasto\"*:\n",
    "\n",
    "***"
   ]
  },
  {
   "cell_type": "code",
   "execution_count": null,
   "metadata": {
    "collapsed": true
   },
   "outputs": [],
   "source": []
  },
  {
   "cell_type": "markdown",
   "metadata": {},
   "source": [
    "También es típico que queramos separar las palabras de un texto. Para ello, Python cuenta con la función **split()**."
   ]
  },
  {
   "cell_type": "code",
   "execution_count": 40,
   "metadata": {},
   "outputs": [
    {
     "data": {
      "text/plain": [
       "['Avenida', '4', 'calle', '10']"
      ]
     },
     "execution_count": 40,
     "metadata": {},
     "output_type": "execute_result"
    }
   ],
   "source": [
    "direccion1.split()"
   ]
  },
  {
   "cell_type": "markdown",
   "metadata": {},
   "source": [
    "Por defecto, **`split()`** separará la cadena por cada espacio, y guardará las palabras individuales en una lista. \n",
    "\n",
    "***\n",
    "> *Separa el nombre de alguna de las tiendas según los espacios que contenga. ¿Cómo lo separaría según otro caracter o letra?*\n",
    "\n",
    "***"
   ]
  },
  {
   "cell_type": "code",
   "execution_count": null,
   "metadata": {
    "collapsed": true
   },
   "outputs": [],
   "source": []
  },
  {
   "cell_type": "markdown",
   "metadata": {},
   "source": [
    "Si queremos separar el texto según otro caracter, podemos especificarlo dentro de los paréntesis:"
   ]
  },
  {
   "cell_type": "code",
   "execution_count": 41,
   "metadata": {},
   "outputs": [
    {
     "data": {
      "text/plain": [
       "['Av', 'nida 4 call', ' 10']"
      ]
     },
     "execution_count": 41,
     "metadata": {},
     "output_type": "execute_result"
    }
   ],
   "source": [
    "direccion1.split(\"e\")"
   ]
  },
  {
   "cell_type": "markdown",
   "metadata": {},
   "source": [
    "Ahora que tenemos esta lista de partes, ¿podemos recuperar la cadena original? La función **`join()`**, para unir cada elemento nuevamente. Primero los guardamos en una nueva variable:"
   ]
  },
  {
   "cell_type": "code",
   "execution_count": 10,
   "metadata": {
    "scrolled": true
   },
   "outputs": [
    {
     "data": {
      "text/plain": [
       "['Av', 'nida 4 call', ' 10']"
      ]
     },
     "execution_count": 10,
     "metadata": {},
     "output_type": "execute_result"
    }
   ],
   "source": [
    "partes = direccion1.split(\"e\")   # separamos la cadena donde se encuentre el caracter \"e\"\n",
    "partes"
   ]
  },
  {
   "cell_type": "code",
   "execution_count": 11,
   "metadata": {},
   "outputs": [
    {
     "data": {
      "text/plain": [
       "'Avenida 4 calle 10'"
      ]
     },
     "execution_count": 11,
     "metadata": {},
     "output_type": "execute_result"
    }
   ],
   "source": [
    "\"e\".join(partes)                 # volvemos a unir la cadena con el mismo caracter \"e\""
   ]
  },
  {
   "cell_type": "markdown",
   "metadata": {},
   "source": [
    "***\n",
    "> *Intenta unirlas con cualquier otro caracter!*\n",
    "\n",
    "***"
   ]
  },
  {
   "cell_type": "code",
   "execution_count": null,
   "metadata": {
    "collapsed": true
   },
   "outputs": [],
   "source": []
  },
  {
   "cell_type": "markdown",
   "metadata": {},
   "source": [
    "También podemos obtener sub-cadenas completas de acuerdo a algún caracter o palabra. En el caso anterior, obtenemos una lista con algunas palabras que no tienen mucha utilidad. En lugar se eso podemos separarlas así:"
   ]
  },
  {
   "cell_type": "code",
   "execution_count": 43,
   "metadata": {},
   "outputs": [
    {
     "data": {
      "text/plain": [
       "('Avenida ', '4', ' calle 10')"
      ]
     },
     "execution_count": 43,
     "metadata": {},
     "output_type": "execute_result"
    }
   ],
   "source": [
    "direccion1.partition(\"4\")  # partición de la cadena a partir del caracter \"4\""
   ]
  },
  {
   "cell_type": "markdown",
   "metadata": {},
   "source": [
    "Esta función hace una \"partición\" de la cadena, devolviéndonos 3 partes: las sub-cadenas anterior y posterior del caracter que indicamos. En este caso, divide a partir de \"4\"."
   ]
  },
  {
   "cell_type": "code",
   "execution_count": 44,
   "metadata": {},
   "outputs": [
    {
     "data": {
      "text/plain": [
       "('Avenida ', '4', ' calle 10')"
      ]
     },
     "execution_count": 44,
     "metadata": {},
     "output_type": "execute_result"
    }
   ],
   "source": [
    "partes = direccion1.partition(\"4\")\n",
    "partes"
   ]
  },
  {
   "cell_type": "code",
   "execution_count": 45,
   "metadata": {
    "scrolled": true
   },
   "outputs": [
    {
     "data": {
      "text/plain": [
       "'Avenida 4 calle 10'"
      ]
     },
     "execution_count": 45,
     "metadata": {},
     "output_type": "execute_result"
    }
   ],
   "source": [
    "\"\".join(partes)"
   ]
  },
  {
   "cell_type": "markdown",
   "metadata": {},
   "source": [
    "Para unir nuevamente las partes de la tupla que obtenemos con la función **partition**, hacemos el **join** sin ningún caracter (usamos una cadena vacía **\"\"**)."
   ]
  },
  {
   "cell_type": "markdown",
   "metadata": {},
   "source": [
    "***\n",
    "> *Haz particiones de los nombres de las tiendas y vuelve a unirlos!*\n",
    "\n",
    "***"
   ]
  },
  {
   "cell_type": "code",
   "execution_count": null,
   "metadata": {
    "collapsed": true
   },
   "outputs": [],
   "source": []
  },
  {
   "cell_type": "markdown",
   "metadata": {},
   "source": [
    "Ahora supón que en lugar de la palabra \"Avenida\" se quiere que aparezca la abreviación \"Av.\" por comodidad. Con la función **replace()** podemos cambiar caracteres y palabras convenientemente:"
   ]
  },
  {
   "cell_type": "code",
   "execution_count": 46,
   "metadata": {},
   "outputs": [
    {
     "data": {
      "text/plain": [
       "'Av. 4 calle 10'"
      ]
     },
     "execution_count": 46,
     "metadata": {},
     "output_type": "execute_result"
    }
   ],
   "source": [
    "direccion1.replace(\"Avenida\", \"Av.\")"
   ]
  },
  {
   "cell_type": "markdown",
   "metadata": {},
   "source": [
    "El primer argumento de la función recibe el patrón o palabra que queremos reemplazar, y el segundo indica su reemplazo.\n",
    "\n",
    "***\n",
    "> *Reemplaza las palabras que quieras dentro de los nombres de las tiendas:*\n",
    "\n",
    "***"
   ]
  },
  {
   "cell_type": "code",
   "execution_count": null,
   "metadata": {
    "collapsed": true
   },
   "outputs": [],
   "source": []
  },
  {
   "cell_type": "markdown",
   "metadata": {},
   "source": [
    "Continuamos en el próximo módulo con algunas estructuras para almacenar y organizar y manipular más datos."
   ]
  },
  {
   "cell_type": "markdown",
   "metadata": {},
   "source": [
    "***\n",
    "| [Atrás](Módulo I - 02 - Iniciando en Python.ipynb)| [Inicio](00 - Contenido.ipynb) | [Siguiente](Módulo II - 01 - Estructuras de datos y de control.ipynb) "
   ]
  }
 ],
 "metadata": {
  "kernelspec": {
   "display_name": "Python 3",
   "language": "python",
   "name": "python3"
  },
  "language_info": {
   "codemirror_mode": {
    "name": "ipython",
    "version": 3
   },
   "file_extension": ".py",
   "mimetype": "text/x-python",
   "name": "python",
   "nbconvert_exporter": "python",
   "pygments_lexer": "ipython3",
   "version": "3.6.2"
  }
 },
 "nbformat": 4,
 "nbformat_minor": 2
}
