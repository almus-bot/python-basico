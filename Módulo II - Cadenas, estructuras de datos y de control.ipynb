{
 "cells": [
  {
   "cell_type": "markdown",
   "metadata": {},
   "source": [
    "# Módulo II: Cadenas, estructuras de datos y de control\n",
    "***"
   ]
  },
  {
   "cell_type": "markdown",
   "metadata": {},
   "source": [
    "## Sesión a\n",
    "   \n",
    "### Manipulación de cadenas (y expresiones regulares*)\n",
    "***\n",
    "\n",
    "Continuando con la compra de productos anterior, vamos  guardar la dirección del sitio donde los encontramos:\n"
   ]
  },
  {
   "cell_type": "code",
   "execution_count": 3,
   "metadata": {
    "collapsed": true
   },
   "outputs": [],
   "source": [
    "direccion1 = \"Avenida 4 calle 10\""
   ]
  },
  {
   "cell_type": "markdown",
   "metadata": {},
   "source": [
    "Es común que en algún punto queramos extraer información de un pedazo de texto. Si tenemos una cadena de texto, podemos acceder a sus valores:\n"
   ]
  },
  {
   "cell_type": "code",
   "execution_count": 4,
   "metadata": {},
   "outputs": [
    {
     "data": {
      "text/plain": [
       "'A'"
      ]
     },
     "execution_count": 4,
     "metadata": {},
     "output_type": "execute_result"
    }
   ],
   "source": [
    "direccion1[0]"
   ]
  },
  {
   "cell_type": "markdown",
   "metadata": {},
   "source": [
    "Los **corchetes** nos ayudan a extraer valores de la variable cadena. Dentro de los corchetes usamos un número que indica la posición del caracter que queremos obtener. Hay que recordar que **la numeración de índices de acceso en Python inicia en '0'**. Es decir, si tenemos 10 elementos, entonces el primer elemento tendrá la posición '0' y el último, la posición '9'. En la imagen puedes ver una guía de las posiciones para cada caracter de la cadena:\n",
    "\n",
    "![Indices en python](images/023-indicespython.png)\n",
    "\n",
    "Usamos **dos puntos** para extraer secciones del texto. Desde el índice de la izquierda, hasta el índice que indiquemos a la derecha:"
   ]
  },
  {
   "cell_type": "code",
   "execution_count": 5,
   "metadata": {},
   "outputs": [
    {
     "data": {
      "text/plain": [
       "'ven'"
      ]
     },
     "execution_count": 5,
     "metadata": {},
     "output_type": "execute_result"
    }
   ],
   "source": [
    "direccion1[1:4]"
   ]
  },
  {
   "cell_type": "markdown",
   "metadata": {},
   "source": [
    "Si dejamos en blanco el primer índice, por defecto se tomará la primera posición como inicio de la subsección."
   ]
  },
  {
   "cell_type": "code",
   "execution_count": 6,
   "metadata": {},
   "outputs": [
    {
     "data": {
      "text/plain": [
       "'Aveni'"
      ]
     },
     "execution_count": 6,
     "metadata": {},
     "output_type": "execute_result"
    }
   ],
   "source": [
    "direccion1[:5]"
   ]
  },
  {
   "cell_type": "markdown",
   "metadata": {},
   "source": [
    "Análogamente, si dejamos en blanco el segundo índice, se tomará el resto del texto a partir del primer índice."
   ]
  },
  {
   "cell_type": "code",
   "execution_count": 7,
   "metadata": {},
   "outputs": [
    {
     "data": {
      "text/plain": [
       "'calle 10'"
      ]
     },
     "execution_count": 7,
     "metadata": {},
     "output_type": "execute_result"
    }
   ],
   "source": [
    "direccion1[10:]"
   ]
  },
  {
   "cell_type": "markdown",
   "metadata": {},
   "source": [
    "Las cadenas también pueden ser definidas con comillas simples. Si usamos comillas triples, podemos construir textos de varias líneas."
   ]
  },
  {
   "cell_type": "code",
   "execution_count": 8,
   "metadata": {
    "scrolled": false
   },
   "outputs": [
    {
     "name": "stdout",
     "output_type": "stream",
     "text": [
      "Avenida 4    \n",
      "calle 10\n",
      "edificio A\n",
      "\n"
     ]
    }
   ],
   "source": [
    "# cadena construida con comillas simples\n",
    "cadena = 'Avenida 4'  \n",
    "\n",
    "# cadena de varias líneas, con comillas triples\n",
    "direccion2 = \"\"\"Avenida 4    \n",
    "calle 10\n",
    "edificio A\n",
    "\"\"\"\n",
    "\n",
    "print(direccion2)"
   ]
  },
  {
   "cell_type": "markdown",
   "metadata": {},
   "source": [
    "Como compramos varios productos en distintos lugares, queremos almacenar esta información para futuras referencias:"
   ]
  },
  {
   "cell_type": "code",
   "execution_count": 9,
   "metadata": {
    "collapsed": true
   },
   "outputs": [],
   "source": [
    "tienda1 = \"los chinos de la esquina\"\n",
    "tienda2 = \"supermercado MUNDO\"\n",
    "tienda3 = \"Abasto el rey\"\n",
    "tienda4 = \"la bodega de Juan\""
   ]
  },
  {
   "cell_type": "markdown",
   "metadata": {},
   "source": [
    "Python incluye herramientas para manipular cadenas de caracteres como éstas. Por ejemplo, existen funciones bastante útiles para modificar las mayúsculas y minúsculas de una cadena."
   ]
  },
  {
   "cell_type": "code",
   "execution_count": 10,
   "metadata": {},
   "outputs": [
    {
     "data": {
      "text/plain": [
       "'AVENIDA 4 CALLE 10'"
      ]
     },
     "execution_count": 10,
     "metadata": {},
     "output_type": "execute_result"
    }
   ],
   "source": [
    "direccion1.upper()"
   ]
  },
  {
   "cell_type": "code",
   "execution_count": 11,
   "metadata": {},
   "outputs": [
    {
     "data": {
      "text/plain": [
       "'avenida 4 calle 10'"
      ]
     },
     "execution_count": 11,
     "metadata": {},
     "output_type": "execute_result"
    }
   ],
   "source": [
    "direccion1.lower()"
   ]
  },
  {
   "cell_type": "markdown",
   "metadata": {},
   "source": [
    "La función **upper** convierte todas las letras a mayúsculas, mientras que **lower** las convierte a minúsculas. Este tipo de transformaciones son importantes cuando tenemos que mantener datos y textos limpios y consistentes. Por ejemplo, los nombres de nuestras tiendas no tienen mucha consistencia.\n",
    "\n",
    "La función **title()**, Lleva a mayúsculas la primera letra de cada palabra dentro de la cadena, y coloca el resto en minúsculas. Por otro lado, la función **capitalize()** transforma sólo la primera letra de la cadena a mayúscula, mientras las demás a minúsculas."
   ]
  },
  {
   "cell_type": "code",
   "execution_count": 12,
   "metadata": {},
   "outputs": [
    {
     "data": {
      "text/plain": [
       "'Los Chinos De La Esquina'"
      ]
     },
     "execution_count": 12,
     "metadata": {},
     "output_type": "execute_result"
    }
   ],
   "source": [
    "tienda1.title()"
   ]
  },
  {
   "cell_type": "code",
   "execution_count": 13,
   "metadata": {},
   "outputs": [
    {
     "data": {
      "text/plain": [
       "'Supermercado mundo'"
      ]
     },
     "execution_count": 13,
     "metadata": {},
     "output_type": "execute_result"
    }
   ],
   "source": [
    "tienda2.capitalize()"
   ]
  },
  {
   "cell_type": "code",
   "execution_count": 14,
   "metadata": {},
   "outputs": [
    {
     "data": {
      "text/plain": [
       "'Abasto el rey'"
      ]
     },
     "execution_count": 14,
     "metadata": {},
     "output_type": "execute_result"
    }
   ],
   "source": [
    "tienda3.capitalize()"
   ]
  },
  {
   "cell_type": "code",
   "execution_count": 15,
   "metadata": {},
   "outputs": [
    {
     "data": {
      "text/plain": [
       "'La bodega de juan'"
      ]
     },
     "execution_count": 15,
     "metadata": {},
     "output_type": "execute_result"
    }
   ],
   "source": [
    "tienda4.capitalize()"
   ]
  },
  {
   "cell_type": "markdown",
   "metadata": {},
   "source": [
    "Otra función útil es **swapcase()**, que permite cambiar los caracteres que estén en minúsculas a mayúsculas, y viceversa:"
   ]
  },
  {
   "cell_type": "code",
   "execution_count": 16,
   "metadata": {},
   "outputs": [
    {
     "data": {
      "text/plain": [
       "'SUPERMERCADO mundo'"
      ]
     },
     "execution_count": 16,
     "metadata": {},
     "output_type": "execute_result"
    }
   ],
   "source": [
    "tienda2.swapcase()"
   ]
  },
  {
   "cell_type": "markdown",
   "metadata": {},
   "source": [
    "Una de las tareas más comunes al tratar con textos es buscar ocurrencias de ciertas palabras o caracteres que nos interesen. En Python podemos usar las funciones **find, index, rfind, endswith, startwith**, y también podemos reemplazar ocurrencias con **replace**.\n",
    "\n",
    "```python\n",
    "direccion.find()\n",
    "direccion.index()\n",
    "direccion.rfind()\n",
    "direccion.endswith\n",
    "direccion.startwith\n",
    "```\n"
   ]
  },
  {
   "cell_type": "markdown",
   "metadata": {},
   "source": [
    "Queremos saber si en la dirección de la tienda está especificada la \"calle\". La función **find** nos indica la posición de la cadena donde empieza la palabra que buscamos, en caso de que la encuentre. En caso contrario, devuelve **-1**."
   ]
  },
  {
   "cell_type": "code",
   "execution_count": 17,
   "metadata": {},
   "outputs": [
    {
     "data": {
      "text/plain": [
       "10"
      ]
     },
     "execution_count": 17,
     "metadata": {},
     "output_type": "execute_result"
    }
   ],
   "source": [
    "direccion1.find(\"calle\")   # entre paréntesis la palabra que buscamos, entre comillas"
   ]
  },
  {
   "cell_type": "markdown",
   "metadata": {},
   "source": [
    "Ahora queremos saber si anotamos el edificio donde está la tienda."
   ]
  },
  {
   "cell_type": "code",
   "execution_count": 18,
   "metadata": {},
   "outputs": [
    {
     "data": {
      "text/plain": [
       "-1"
      ]
     },
     "execution_count": 18,
     "metadata": {},
     "output_type": "execute_result"
    }
   ],
   "source": [
    "direccion1.find(\"edif\")"
   ]
  },
  {
   "cell_type": "markdown",
   "metadata": {},
   "source": [
    "En este caso la dirección no contiene ninguna sub-cadena **\"edif\"**. La función **index()** opera de forma similar, pero en caso de no encontrar la cadena, devuelve un error de valor:"
   ]
  },
  {
   "cell_type": "code",
   "execution_count": 19,
   "metadata": {},
   "outputs": [
    {
     "ename": "ValueError",
     "evalue": "substring not found",
     "output_type": "error",
     "traceback": [
      "\u001b[0;31m---------------------------------------------------------------------------\u001b[0m",
      "\u001b[0;31mValueError\u001b[0m                                Traceback (most recent call last)",
      "\u001b[0;32m<ipython-input-19-b7469e7bb92f>\u001b[0m in \u001b[0;36m<module>\u001b[0;34m()\u001b[0m\n\u001b[0;32m----> 1\u001b[0;31m \u001b[0mdireccion1\u001b[0m\u001b[0;34m.\u001b[0m\u001b[0mindex\u001b[0m\u001b[0;34m(\u001b[0m\u001b[0;34m\"edif\"\u001b[0m\u001b[0;34m)\u001b[0m\u001b[0;34m\u001b[0m\u001b[0m\n\u001b[0m",
      "\u001b[0;31mValueError\u001b[0m: substring not found"
     ]
    }
   ],
   "source": [
    "direccion1.index(\"edif\")"
   ]
  },
  {
   "cell_type": "markdown",
   "metadata": {},
   "source": [
    "La función **rfind** es similar a **find**, con la diferencia de que realiza la búsqueda desde la derecha de la cadena, devolviendo la posición de la primera ocurrencia. Por ejemplo:"
   ]
  },
  {
   "cell_type": "code",
   "execution_count": 20,
   "metadata": {},
   "outputs": [
    {
     "data": {
      "text/plain": [
       "10"
      ]
     },
     "execution_count": 20,
     "metadata": {},
     "output_type": "execute_result"
    }
   ],
   "source": [
    "tienda4.rfind(\"de\")"
   ]
  },
  {
   "cell_type": "markdown",
   "metadata": {},
   "source": [
    "Recordemos que ** ``` tienda4 = \"la bodega de Juan\"```**. La posición 10 corresponde a el segundo **\"de\"** que aparece en la frase. **rfind** empieza la búsqueda desde el final, por lo que la primera ocurrencia está en 10, y no en 5 (el **\"de\"** en la palabra \"bodega\"). Con **find** podemos encontrar la primera ocurrencia desde el inicio de la cadena:"
   ]
  },
  {
   "cell_type": "code",
   "execution_count": 21,
   "metadata": {},
   "outputs": [
    {
     "data": {
      "text/plain": [
       "5"
      ]
     },
     "execution_count": 21,
     "metadata": {},
     "output_type": "execute_result"
    }
   ],
   "source": [
    "tienda4.find(\"de\")"
   ]
  },
  {
   "cell_type": "markdown",
   "metadata": {},
   "source": [
    "Para verificar si una frase empieza o termina con algún caracter o palabra en particular, usamos las funciones **endswith()** y **startswith()**:"
   ]
  },
  {
   "cell_type": "code",
   "execution_count": 22,
   "metadata": {},
   "outputs": [
    {
     "data": {
      "text/plain": [
       "False"
      ]
     },
     "execution_count": 22,
     "metadata": {},
     "output_type": "execute_result"
    }
   ],
   "source": [
    "direccion1.endswith(\"Avenida\")"
   ]
  },
  {
   "cell_type": "code",
   "execution_count": 23,
   "metadata": {},
   "outputs": [
    {
     "data": {
      "text/plain": [
       "True"
      ]
     },
     "execution_count": 23,
     "metadata": {},
     "output_type": "execute_result"
    }
   ],
   "source": [
    "direccion1.startswith(\"Avenida\")"
   ]
  },
  {
   "cell_type": "markdown",
   "metadata": {},
   "source": [
    "También es típico que queramos separar las palabras de un texto. Para ello, Python cuenta con la función **split()**."
   ]
  },
  {
   "cell_type": "code",
   "execution_count": 24,
   "metadata": {},
   "outputs": [
    {
     "data": {
      "text/plain": [
       "['Avenida', '4', 'calle', '10']"
      ]
     },
     "execution_count": 24,
     "metadata": {},
     "output_type": "execute_result"
    }
   ],
   "source": [
    "direccion1.split()"
   ]
  },
  {
   "cell_type": "markdown",
   "metadata": {},
   "source": [
    "Por defecto, **split()** separará la cadena por cada espacio, y guardará las palabras individuales en una lista. Si queremos separar el texto según otro caracter, podemos especificarlo dentro de los paréntesis:"
   ]
  },
  {
   "cell_type": "code",
   "execution_count": 77,
   "metadata": {},
   "outputs": [
    {
     "data": {
      "text/plain": [
       "['Av', 'nida 4 call', ' 10']"
      ]
     },
     "execution_count": 77,
     "metadata": {},
     "output_type": "execute_result"
    }
   ],
   "source": [
    "direccion1.split(\"e\")"
   ]
  },
  {
   "cell_type": "markdown",
   "metadata": {},
   "source": [
    "Podemos recuperar la cadena original usanod la función **join**, para unir las partes:"
   ]
  },
  {
   "cell_type": "code",
   "execution_count": 26,
   "metadata": {
    "scrolled": true
   },
   "outputs": [
    {
     "data": {
      "text/plain": [
       "['Av', 'nida 4 call', ' 10']"
      ]
     },
     "execution_count": 26,
     "metadata": {},
     "output_type": "execute_result"
    }
   ],
   "source": [
    "partes = direccion1.split(\"e\")   # separamos la cadena donde se encuentre el caracter \"e\"\n",
    "partes"
   ]
  },
  {
   "cell_type": "code",
   "execution_count": 27,
   "metadata": {},
   "outputs": [
    {
     "data": {
      "text/plain": [
       "'Avenida 4 calle 10'"
      ]
     },
     "execution_count": 27,
     "metadata": {},
     "output_type": "execute_result"
    }
   ],
   "source": [
    "\"e\".join(partes)                 # volvemos a unir la cadena con el mismo caracter \"e\""
   ]
  },
  {
   "cell_type": "markdown",
   "metadata": {},
   "source": [
    "También podemos obtener sub-cadenas completas de acuerdo a algún caracter o palabra. En el caso anterior, obtenemos una lista con algunas palabras que no tienen mucha utilidad. En lugar se eso podemos separarlas así:"
   ]
  },
  {
   "cell_type": "code",
   "execution_count": 28,
   "metadata": {},
   "outputs": [
    {
     "data": {
      "text/plain": [
       "('Avenida ', '4', ' calle 10')"
      ]
     },
     "execution_count": 28,
     "metadata": {},
     "output_type": "execute_result"
    }
   ],
   "source": [
    "direccion1.partition(\"4\")  # partición de la cadena a partir del caracter \"4\""
   ]
  },
  {
   "cell_type": "markdown",
   "metadata": {},
   "source": [
    "Esta función hace una \"partición\" de la cadena, devolviéndonos 3 partes: las sub-cadenas anterior y posterior del caracter que indicamos. En este caso, divide a partir de \"4\"."
   ]
  },
  {
   "cell_type": "code",
   "execution_count": 31,
   "metadata": {},
   "outputs": [
    {
     "data": {
      "text/plain": [
       "('Avenida ', '4', ' calle 10')"
      ]
     },
     "execution_count": 31,
     "metadata": {},
     "output_type": "execute_result"
    }
   ],
   "source": [
    "partes = direccion1.partition(\"4\")\n",
    "partes"
   ]
  },
  {
   "cell_type": "code",
   "execution_count": 32,
   "metadata": {},
   "outputs": [
    {
     "data": {
      "text/plain": [
       "'Avenida 4 calle 10'"
      ]
     },
     "execution_count": 32,
     "metadata": {},
     "output_type": "execute_result"
    }
   ],
   "source": [
    "\"\".join(partes)"
   ]
  },
  {
   "cell_type": "markdown",
   "metadata": {},
   "source": [
    "Para unir nuevamente las partes de la tupla que obtenemos con la función **partition**, hacemos el **join** sin ningún caracter (usamos una cadena vacía **\"\"**).\n",
    "\n",
    "Ahora supón que en lugar de la palabra \"Avenida\" se quiere que aparezca la abreviación \"Av.\" por comodidad. Con la función **replace()** podemos cambiar caracteres y palabras convenientemente:"
   ]
  },
  {
   "cell_type": "code",
   "execution_count": 33,
   "metadata": {},
   "outputs": [
    {
     "data": {
      "text/plain": [
       "'Av. 4 calle 10'"
      ]
     },
     "execution_count": 33,
     "metadata": {},
     "output_type": "execute_result"
    }
   ],
   "source": [
    "direccion1.replace(\"Avenida\", \"Av.\")"
   ]
  },
  {
   "cell_type": "markdown",
   "metadata": {},
   "source": [
    "El primer argumento de la función recibe el patrón o palabra que queremos reemplazar, y el segundo indica su reemplazo."
   ]
  },
  {
   "cell_type": "markdown",
   "metadata": {},
   "source": [
    "### Estructuras de datos\n",
    "***\n",
    "\n",
    "Hasta ahora sólo hemos guardado la información de pocos productos. Queremos almacenar otros, y es lógico que queramos hacerlo con orden, en un mismo lugar. En Python, podemos hacer uso de distintas estructuras de datos para ello. Por ejemplo, habíamos definido:"
   ]
  },
  {
   "cell_type": "code",
   "execution_count": 34,
   "metadata": {
    "collapsed": true
   },
   "outputs": [],
   "source": [
    "azucar = 9850.5\n",
    "arroz = 9000.0"
   ]
  },
  {
   "cell_type": "markdown",
   "metadata": {},
   "source": [
    "Pero podemos mantener ambos valores en una sola variable:"
   ]
  },
  {
   "cell_type": "code",
   "execution_count": 35,
   "metadata": {},
   "outputs": [
    {
     "data": {
      "text/plain": [
       "[9850.5, 9000.0]"
      ]
     },
     "execution_count": 35,
     "metadata": {},
     "output_type": "execute_result"
    }
   ],
   "source": [
    "precios = [9850.50, 9000.0]\n",
    "precios"
   ]
  },
  {
   "cell_type": "markdown",
   "metadata": {},
   "source": [
    "#### Listas \n",
    "***\n",
    "A diferencia de los tipos de datos que hemos visto anteriormente, este es un dato compuesto, formado por una estructura conocida como **lista**. Literalmente almacena una lista de datos, que pueden ser de cualquier tipo (incluyendo a otras listas!). En este caso, es una lista de numeros flotantes, pero podemos tener también:"
   ]
  },
  {
   "cell_type": "code",
   "execution_count": 36,
   "metadata": {},
   "outputs": [
    {
     "data": {
      "text/plain": [
       "[1, 'hola', 34.66, [1, 2, 3]]"
      ]
     },
     "execution_count": 36,
     "metadata": {},
     "output_type": "execute_result"
    }
   ],
   "source": [
    "lista = [1, \"hola\", 34.66, [1,2,3]]\n",
    "lista"
   ]
  },
  {
   "cell_type": "markdown",
   "metadata": {},
   "source": [
    "Podemos almacenar otros productos dentro de listas, esta vez limitado sólo a los nombres. Además ya conocemos el precio de los dos primeros, e incluimos precios del resto, así que creamos una lista de precios:"
   ]
  },
  {
   "cell_type": "code",
   "execution_count": 38,
   "metadata": {
    "collapsed": true
   },
   "outputs": [],
   "source": [
    "nombres = [\"azucar\",\"arroz\",\"harina\", \"aceite\"]  # nombres de cada producto\n",
    "precios = [arroz, azucar, 12000, 18000]          # precios correspondientes a cada producto"
   ]
  },
  {
   "cell_type": "markdown",
   "metadata": {},
   "source": [
    "Observa que podemos construir la lista **\"precios\"** usando otras variables definidas anteriormente (en este caso los precios de arroz y azucar, las colocamos dentro de los corchetes).\n",
    "\n",
    "##### Tamaño de la lista\n",
    "¿Cuántos elementos tiene la lista? Podemos usar la función **len()**, que nos informa el número de elemento o \"longitud\" del objeto lista."
   ]
  },
  {
   "cell_type": "code",
   "execution_count": 39,
   "metadata": {},
   "outputs": [
    {
     "data": {
      "text/plain": [
       "4"
      ]
     },
     "execution_count": 39,
     "metadata": {},
     "output_type": "execute_result"
    }
   ],
   "source": [
    "len(nombres)"
   ]
  },
  {
   "cell_type": "code",
   "execution_count": 40,
   "metadata": {},
   "outputs": [
    {
     "data": {
      "text/plain": [
       "4"
      ]
     },
     "execution_count": 40,
     "metadata": {},
     "output_type": "execute_result"
    }
   ],
   "source": [
    "len(precios)"
   ]
  },
  {
   "cell_type": "markdown",
   "metadata": {},
   "source": [
    "##### Agregrar más elementos\n",
    "\n",
    "Supón que queremos agregar el precio de otro producto. Dentro del manejo de listas, fácilmente podemos anexar un nuevo elemento haciendo:"
   ]
  },
  {
   "cell_type": "code",
   "execution_count": 41,
   "metadata": {},
   "outputs": [
    {
     "data": {
      "text/plain": [
       "['azucar', 'arroz', 'harina', 'aceite', 'pasta']"
      ]
     },
     "execution_count": 41,
     "metadata": {},
     "output_type": "execute_result"
    }
   ],
   "source": [
    "nombres.append(\"pasta\")    # agregamos al final el producto \"pasta\"\n",
    "nombres"
   ]
  },
  {
   "cell_type": "code",
   "execution_count": 42,
   "metadata": {},
   "outputs": [
    {
     "data": {
      "text/plain": [
       "[9000.0, 9850.5, 12000, 18000, 11000]"
      ]
     },
     "execution_count": 42,
     "metadata": {},
     "output_type": "execute_result"
    }
   ],
   "source": [
    "precios.append(11000)      # agregamos al final el precio 11000\n",
    "precios"
   ]
  },
  {
   "cell_type": "markdown",
   "metadata": {},
   "source": [
    "La función **append()**, usada después del punto, colocará el nuevo elemento al final de la lista. En la consola de Pyhton, podemos presionar la tecla \"tab\" o tabulador despues del punto al final del nombre de variable, en este caso *lista*, esto nos dará las opciones de funciones que podemos aplicar sobre el objeto."
   ]
  },
  {
   "cell_type": "markdown",
   "metadata": {},
   "source": [
    "En el terminal de Python en linux, las opciones se desplegan como muestra la imagen siguiente.\n",
    "\n",
    "![Autocompletado en el terminal](images/011-listatab.png)\n",
    "\n",
    "En los cuadernos de Jupyter se puede hacer uso de la misma funcionalidad:\n",
    "\n",
    "![Autocompletado en el terminal](images/010-listajupyter.png)\n"
   ]
  },
  {
   "cell_type": "markdown",
   "metadata": {},
   "source": [
    "Ahora que ya conocemos las listas, aprovechemos de guardar mas información relevante de nuestro productos. Para cada uno tenemos la tienda donde lo compramos, la dirección de la tienda y dos variables para indicar si hay estacionamiento y si el lugar tiene punto de venta:"
   ]
  },
  {
   "cell_type": "code",
   "execution_count": 138,
   "metadata": {},
   "outputs": [
    {
     "data": {
      "text/plain": [
       "['los chinos de la esquina',\n",
       " 'supermercado MUNDO',\n",
       " 'Abasto el rey',\n",
       " 'la bodega de Juan']"
      ]
     },
     "execution_count": 138,
     "metadata": {},
     "output_type": "execute_result"
    }
   ],
   "source": [
    "# ahora construimos la lista con todos los nombres de las tiendas\n",
    "tiendas = [tienda1, tienda2, tienda3, tienda4]\n",
    "tiendas"
   ]
  },
  {
   "cell_type": "code",
   "execution_count": 104,
   "metadata": {
    "collapsed": true
   },
   "outputs": [],
   "source": [
    "# construimos directamente la lista con las direcciones. En este caso, es una lista de cadenas.\n",
    "direcciones = [\"Avenida 5 CALLe 10\", \"av 4 calle 25 edif c\", \n",
    "               \"AV LORA CALLE 23\", \"av Don tulio edif Uno calle 32\"]\n",
    "\n",
    "# variables lógicas que indican False o True dependiendo \n",
    "# si hay o no estacionamiento o punto de venta en cada lugar.\n",
    "estacionamientos = [True, True, False, False]\n",
    "puntos = [True, False, True, False]"
   ]
  },
  {
   "cell_type": "markdown",
   "metadata": {},
   "source": [
    "> ¿Se pueden arreglar las direcciones para que esten escritas de manera estándar? Prueba a usar las funciones de cadenas que vimos antes!\n",
    "\n",
    "##### Ordenar la lista\n",
    "\n",
    "Una tarea frecuente sobre una lista es ordenar sus elementos. La funcion **sort** los ordena, siempre y cuando sea posible. En la variable \"número\" almacenamos algunos elementos enteros y aplicamos la función:"
   ]
  },
  {
   "cell_type": "code",
   "execution_count": 106,
   "metadata": {},
   "outputs": [
    {
     "data": {
      "text/plain": [
       "[9000.0, 9850.5, 11000, 12000, 18000]"
      ]
     },
     "execution_count": 106,
     "metadata": {},
     "output_type": "execute_result"
    }
   ],
   "source": [
    "numeros = [4,3,1,5,2]\n",
    "numeros.sort()\n",
    "numeros"
   ]
  },
  {
   "cell_type": "markdown",
   "metadata": {},
   "source": [
    "La función **sort** actúa directamente sobre el mismo objeto, es decir, no hay necesidad de asignar el resultado a otra nueva variable, por eso podemos continuar usando \"numeros\", que ahora estará ordenado.\n",
    "\n",
    "De la misma forma podemos ordenar nuestra lista de precios, que por defecto se ordena de menor a mayor:"
   ]
  },
  {
   "cell_type": "code",
   "execution_count": 108,
   "metadata": {},
   "outputs": [
    {
     "data": {
      "text/plain": [
       "[9000.0, 9850.5, 11000, 12000, 18000]"
      ]
     },
     "execution_count": 108,
     "metadata": {},
     "output_type": "execute_result"
    }
   ],
   "source": [
    "precios.sort()\n",
    "precios"
   ]
  },
  {
   "cell_type": "markdown",
   "metadata": {},
   "source": [
    "Para ordenarlos de mayor a menor, podemos hacer uso de la opción *reverse* de la función. Si configuramos esta opcíon con *True*, obtendremos el orden descendente de los elementos.\n",
    "\n",
    "``` python\n",
    "precios.sort(reverse = True)\n",
    "```"
   ]
  },
  {
   "cell_type": "markdown",
   "metadata": {},
   "source": [
    "##### Otras operaciones\n",
    "Podemos realizar otro tipo de operaciones con las listas. ¿Qué crees que resulte de la siguiente?"
   ]
  },
  {
   "cell_type": "code",
   "execution_count": 110,
   "metadata": {},
   "outputs": [
    {
     "data": {
      "text/plain": [
       "[1, 'hola', 34.66, [1, 2, 3], 1, 2, 3, 4, 5]"
      ]
     },
     "execution_count": 110,
     "metadata": {},
     "output_type": "execute_result"
    }
   ],
   "source": [
    "lista + numeros"
   ]
  },
  {
   "cell_type": "markdown",
   "metadata": {},
   "source": [
    "El operador '+' permite en este caso concatenar o \"pegar\" los elementos de ambas listas en una sola, no sumar aritméticamente los elementos."
   ]
  },
  {
   "cell_type": "markdown",
   "metadata": {},
   "source": [
    "Ya hemos visto que para acceder a elementos de la lista, usamos los corchetes y el índice que indica la posición del elemento."
   ]
  },
  {
   "cell_type": "code",
   "execution_count": 112,
   "metadata": {},
   "outputs": [
    {
     "data": {
      "text/plain": [
       "(11000, 'harina')"
      ]
     },
     "execution_count": 112,
     "metadata": {},
     "output_type": "execute_result"
    }
   ],
   "source": [
    "precios[2] , nombres[2]"
   ]
  },
  {
   "cell_type": "markdown",
   "metadata": {},
   "source": [
    "Un detalle útil es que los índices negativos permiten acceder desde el último elemento de la lista. De manera que -1 indica \"la primera posición desde el final\", -2 indica el penúltimo, y así sucesivamente."
   ]
  },
  {
   "cell_type": "code",
   "execution_count": 114,
   "metadata": {},
   "outputs": [
    {
     "data": {
      "text/plain": [
       "(18000, 'pasta')"
      ]
     },
     "execution_count": 114,
     "metadata": {},
     "output_type": "execute_result"
    }
   ],
   "source": [
    "precios[-1], nombres[-1]"
   ]
  },
  {
   "cell_type": "markdown",
   "metadata": {},
   "source": [
    "##### Subselección de listas\n",
    "\n",
    "Si queremos acceder a una subsección de los datos, podemos acceder a ellos de la misma manera en que accedíamos al texto de cadenas de caracteres:"
   ]
  },
  {
   "cell_type": "code",
   "execution_count": 115,
   "metadata": {
    "scrolled": true
   },
   "outputs": [
    {
     "name": "stdout",
     "output_type": "stream",
     "text": [
      "[9850.5, 11000]\n",
      "[11000, 12000]\n",
      "[9000.0, 9850.5, 11000, 12000]\n",
      "[12000, 18000]\n"
     ]
    }
   ],
   "source": [
    "print(precios[1:3])  # desde la posición 1 hasta la 3 (es decir desde el segundo elemento hasta el cuarto)\n",
    "print(precios[2:4])  \n",
    "print(precios[:4])   # desde la posición inicial hasta la posición 4\n",
    "print(precios[3:])   # desde la posición 3 hasta la posición final"
   ]
  },
  {
   "cell_type": "markdown",
   "metadata": {},
   "source": [
    "Podemos acceder de maneras mas específica, haciendo uso de un índice adicional:"
   ]
  },
  {
   "cell_type": "code",
   "execution_count": 118,
   "metadata": {},
   "outputs": [
    {
     "data": {
      "text/plain": [
       "[0, 2, 4, 6, 8, 10, 12, 14, 16, 18, 20, 22, 24, 26, 28]"
      ]
     },
     "execution_count": 118,
     "metadata": {},
     "output_type": "execute_result"
    }
   ],
   "source": [
    "items = list(range(30))    # lista de elementos del 0 al 29\n",
    "items[3:len(items):2]      # subsección de la lista, desde la posición 3 hasta el final de la lista"
   ]
  },
  {
   "cell_type": "markdown",
   "metadata": {},
   "source": [
    "El primer y segundo índice indican el inicio y el final de la subsección que queremos extraer (en este caso usamos la longitud completa de la lista). El último índice indica \"el paso\", es decir: cada cuántas posiciones del recorrido se escogerán los elementos, que en este caso es de dos en dos.\n",
    "\n",
    "#### Tuplas \n",
    "***\n",
    "Agrupemos ahora algunos otros elementos:"
   ]
  },
  {
   "cell_type": "code",
   "execution_count": 43,
   "metadata": {},
   "outputs": [
    {
     "data": {
      "text/plain": [
       "(1, 2, 4, 5)"
      ]
     },
     "execution_count": 43,
     "metadata": {},
     "output_type": "execute_result"
    }
   ],
   "source": [
    "t = (1, 2, 4, 5)\n",
    "t"
   ]
  },
  {
   "cell_type": "code",
   "execution_count": 44,
   "metadata": {},
   "outputs": [
    {
     "data": {
      "text/plain": [
       "{6, 7, 8, 9}"
      ]
     },
     "execution_count": 44,
     "metadata": {},
     "output_type": "execute_result"
    }
   ],
   "source": [
    "s = {6, 7, 8, 9}\n",
    "s"
   ]
  },
  {
   "cell_type": "markdown",
   "metadata": {},
   "source": [
    "\n",
    "Además de las listas, tenemos estos conjuntos de datos. ¿Cuál es la diferencia entre ellos?\n",
    "\n",
    "La sucesión de números en **t** la creamos usando paréntesis, lo que indica una estructura de datos llamada **tupla**. Mientras que las llaves en la variable **s**, definen un **conjunto (set)**.\n",
    "\n",
    "El acceso a los elementos de una **tupla** es similar al de las listas, la diferencia importante entre las tuplas y las listas está en que las primeras son inmutables, es decir una vez creadas, no se puede cambiar ni sus elementos ni su tamaño. También pueden crearse sin necesidad de usar los paréntesis:"
   ]
  },
  {
   "cell_type": "code",
   "execution_count": 45,
   "metadata": {},
   "outputs": [
    {
     "data": {
      "text/plain": [
       "4"
      ]
     },
     "execution_count": 45,
     "metadata": {},
     "output_type": "execute_result"
    }
   ],
   "source": [
    "t1 = 1, 2, 3, 4    # tupla creada sin paréntesis\n",
    "len(t1)     # podemos aplicar funciones sobre ella"
   ]
  },
  {
   "cell_type": "code",
   "execution_count": 46,
   "metadata": {},
   "outputs": [
    {
     "data": {
      "text/plain": [
       "1"
      ]
     },
     "execution_count": 46,
     "metadata": {},
     "output_type": "execute_result"
    }
   ],
   "source": [
    "t1[0]     # y acceder a sus elementos mediante índices, al igual que las listas"
   ]
  },
  {
   "cell_type": "code",
   "execution_count": 47,
   "metadata": {},
   "outputs": [
    {
     "ename": "TypeError",
     "evalue": "'tuple' object does not support item assignment",
     "output_type": "error",
     "traceback": [
      "\u001b[0;31m---------------------------------------------------------------------------\u001b[0m",
      "\u001b[0;31mTypeError\u001b[0m                                 Traceback (most recent call last)",
      "\u001b[0;32m<ipython-input-47-91915e4a0e3e>\u001b[0m in \u001b[0;36m<module>\u001b[0;34m()\u001b[0m\n\u001b[0;32m----> 1\u001b[0;31m \u001b[0mt1\u001b[0m\u001b[0;34m[\u001b[0m\u001b[0;36m2\u001b[0m\u001b[0;34m]\u001b[0m \u001b[0;34m=\u001b[0m \u001b[0;36m5\u001b[0m    \u001b[0;31m# la sobreescritura o modificación de elementos no está definida para las tuplas\u001b[0m\u001b[0;34m\u001b[0m\u001b[0m\n\u001b[0m",
      "\u001b[0;31mTypeError\u001b[0m: 'tuple' object does not support item assignment"
     ]
    }
   ],
   "source": [
    "t1[2] = 5    # la sobreescritura o modificación de elementos no está definida para las tuplas"
   ]
  },
  {
   "cell_type": "markdown",
   "metadata": {},
   "source": [
    "Al intentar asignarle un nuevo valor a la posición 2 de la tupla, se genera un error informándonos que no puede aceptar asignación de nuevos elementos, por el tipo de estructura definida.\n",
    "\n",
    "#### Conjuntos (sets)\n",
    "***\n",
    "\n",
    "La variable **s**, al igual que las tuplas y listas, almacena elementos, pero en este caso elementos **sin orden** y **únicos**. Tal como el concepto matemático de conjuntos (set).\n"
   ]
  },
  {
   "cell_type": "code",
   "execution_count": 120,
   "metadata": {},
   "outputs": [
    {
     "data": {
      "text/plain": [
       "{1, 2, 3, 4}"
      ]
     },
     "execution_count": 120,
     "metadata": {},
     "output_type": "execute_result"
    }
   ],
   "source": [
    "s = {1,2,3,4,4}     # creación de un conjunto, con llaves\n",
    "s"
   ]
  },
  {
   "cell_type": "markdown",
   "metadata": {},
   "source": [
    "Nota que a pesar de que repetimos el número 4 al crear el set, automáticamente toma **sólo una vez** el elemento. Las operaciones matemáticas definidas sobre conjuntos también se pueden aplicar dentro de Python, con las funciones de unión, intersección, diferencia, entre otras.\n",
    "\n",
    "Supón que compraste ciertos artículos, y tu amigo compró algunos otros. Cuando comparamos ambas compras, podemos unirlas, o ver qué cosas distintas compraron:"
   ]
  },
  {
   "cell_type": "code",
   "execution_count": 50,
   "metadata": {},
   "outputs": [
    {
     "data": {
      "text/plain": [
       "{'aceite', 'arroz', 'azucar', 'harina', 'papas', 'zanahorias'}"
      ]
     },
     "execution_count": 50,
     "metadata": {},
     "output_type": "execute_result"
    }
   ],
   "source": [
    "mi_compra = {\"arroz\", \"harina\", \"azucar\", \"papas\"}    \n",
    "su_compra = {\"papas\", \"zanahorias\", \"harina\", \"aceite\"}\n",
    "mi_compra.union(su_compra)    # todos los artículos tuyos y de tu amigo (sin repetición)"
   ]
  },
  {
   "cell_type": "code",
   "execution_count": 51,
   "metadata": {},
   "outputs": [
    {
     "data": {
      "text/plain": [
       "{'harina', 'papas'}"
      ]
     },
     "execution_count": 51,
     "metadata": {},
     "output_type": "execute_result"
    }
   ],
   "source": [
    "mi_compra.intersection(su_compra)  # cosas que compraron en común"
   ]
  },
  {
   "cell_type": "markdown",
   "metadata": {},
   "source": [
    "También se pueden utilizar estas funciones por medio de los operadores **&** y **|**, para intersección y unión, respectivamente, obteniendo el mismo resultado:"
   ]
  },
  {
   "cell_type": "code",
   "execution_count": 52,
   "metadata": {},
   "outputs": [
    {
     "data": {
      "text/plain": [
       "{'aceite', 'arroz', 'azucar', 'harina', 'papas', 'zanahorias'}"
      ]
     },
     "execution_count": 52,
     "metadata": {},
     "output_type": "execute_result"
    }
   ],
   "source": [
    "mi_compra | su_compra   # unión con el operador |"
   ]
  },
  {
   "cell_type": "code",
   "execution_count": 53,
   "metadata": {},
   "outputs": [
    {
     "data": {
      "text/plain": [
       "{'harina', 'papas'}"
      ]
     },
     "execution_count": 53,
     "metadata": {},
     "output_type": "execute_result"
    }
   ],
   "source": [
    "mi_compra & su_compra   # intersección con el operador &"
   ]
  },
  {
   "cell_type": "markdown",
   "metadata": {},
   "source": [
    "Podemos averiguar cuáles artículos están en tu compra y obviar los que tienes en común con tu amigo. Es decir, qué artículos tuyos son diferentes de los de tu amigo. Para ello calculamos la diferencia de conjuntos:"
   ]
  },
  {
   "cell_type": "code",
   "execution_count": 54,
   "metadata": {},
   "outputs": [
    {
     "data": {
      "text/plain": [
       "{'arroz', 'azucar'}"
      ]
     },
     "execution_count": 54,
     "metadata": {},
     "output_type": "execute_result"
    }
   ],
   "source": [
    "# Diferencias o restas de conjuntos\n",
    "mi_compra - su_compra     # uso del operador - "
   ]
  },
  {
   "cell_type": "code",
   "execution_count": 55,
   "metadata": {},
   "outputs": [
    {
     "data": {
      "text/plain": [
       "{'aceite', 'zanahorias'}"
      ]
     },
     "execution_count": 55,
     "metadata": {},
     "output_type": "execute_result"
    }
   ],
   "source": [
    "su_compra - mi_compra"
   ]
  },
  {
   "cell_type": "markdown",
   "metadata": {},
   "source": [
    "Nota que en este caso la \"resta\" o diferencia no es conmutativa, es decir, $a-b \\neq b-a$. Observa el resultado de las diferencias entre las compras tuyas y de tu amigo para comprobar. Esta operación también tiene una función explícita equivalente: **difference()**."
   ]
  },
  {
   "cell_type": "code",
   "execution_count": 134,
   "metadata": {},
   "outputs": [
    {
     "data": {
      "text/plain": [
       "{'arroz', 'azucar'}"
      ]
     },
     "execution_count": 134,
     "metadata": {},
     "output_type": "execute_result"
    }
   ],
   "source": [
    "mi_compra.difference(su_compra)   # uso de función explícita"
   ]
  },
  {
   "cell_type": "markdown",
   "metadata": {},
   "source": [
    "Para averiguar cuáles son los artículos de ambos mercados sin tomar en cuenta los que están repetidos, hacemos una diferencia simétrica de conjuntos. En Python se puede usar el operador **^** o la función **symetric_difference()**."
   ]
  },
  {
   "cell_type": "code",
   "execution_count": 56,
   "metadata": {},
   "outputs": [
    {
     "data": {
      "text/plain": [
       "{'aceite', 'arroz', 'azucar', 'zanahorias'}"
      ]
     },
     "execution_count": 56,
     "metadata": {},
     "output_type": "execute_result"
    }
   ],
   "source": [
    "# Diferencia simétrica\n",
    "mi_compra ^ su_compra"
   ]
  },
  {
   "cell_type": "code",
   "execution_count": 57,
   "metadata": {},
   "outputs": [
    {
     "data": {
      "text/plain": [
       "{'aceite', 'arroz', 'azucar', 'zanahorias'}"
      ]
     },
     "execution_count": 57,
     "metadata": {},
     "output_type": "execute_result"
    }
   ],
   "source": [
    "mi_compra.symmetric_difference(su_compra)"
   ]
  },
  {
   "cell_type": "code",
   "execution_count": 58,
   "metadata": {},
   "outputs": [
    {
     "data": {
      "text/plain": [
       "{'aceite', 'arroz', 'azucar', 'zanahorias'}"
      ]
     },
     "execution_count": 58,
     "metadata": {},
     "output_type": "execute_result"
    }
   ],
   "source": [
    "su_compra ^ mi_compra    # como es una operación simétrica, el orden de los factores no interesa"
   ]
  },
  {
   "cell_type": "markdown",
   "metadata": {},
   "source": [
    "#### Diccionarios\n",
    "***\n",
    "Volviendo a la lista de precios de nuestros productos, construimos un contenedor con los datos que tenemos:"
   ]
  },
  {
   "cell_type": "code",
   "execution_count": 143,
   "metadata": {},
   "outputs": [
    {
     "data": {
      "text/plain": [
       "{'aceite': 12000,\n",
       " 'arroz': 9850.5,\n",
       " 'azucar': 9000.0,\n",
       " 'harina': 11000,\n",
       " 'pasta': 18000}"
      ]
     },
     "execution_count": 143,
     "metadata": {},
     "output_type": "execute_result"
    }
   ],
   "source": [
    "productos = {'azucar':9000.0, 'arroz':9850.5, 'harina':11000, 'aceite':12000, 'pasta':18000}\n",
    "productos"
   ]
  },
  {
   "cell_type": "markdown",
   "metadata": {},
   "source": [
    "Esta conveniente estructura de datos es llamada \"diccionario\" y almacena valores con sus respectivos nombres o \"claves\". Se crean como un **set o conjunto**, con pares **clave-valor** separados por comas. Los dos puntos separan la clave de su valor, respectivamente.\n",
    "\n",
    "La extracción o acceso a los valores se logra a través de las claves de cada elemento, entonces si queremos saber cuál es el precio del azucar, escribimos:"
   ]
  },
  {
   "cell_type": "code",
   "execution_count": 144,
   "metadata": {},
   "outputs": [
    {
     "data": {
      "text/plain": [
       "9000.0"
      ]
     },
     "execution_count": 144,
     "metadata": {},
     "output_type": "execute_result"
    }
   ],
   "source": [
    "productos[\"azucar\"]"
   ]
  },
  {
   "cell_type": "markdown",
   "metadata": {},
   "source": [
    "De la misma manera podemos cambiar los valores, y agregar nuevos pares clave-valor. "
   ]
  },
  {
   "cell_type": "code",
   "execution_count": 151,
   "metadata": {
    "collapsed": true
   },
   "outputs": [],
   "source": [
    "productos['azucar'] = 9500   # modifica el valor existente de \"azucar\"\n",
    "productos['caraotas'] = 8000  # agrega un nuevo elemento clave:valor"
   ]
  },
  {
   "cell_type": "markdown",
   "metadata": {},
   "source": [
    "Nota que también podemos usar comillas simples para el texto y funciona igualmente. En la última línea acabamos de incluir un nuevo producto junto con su precio:"
   ]
  },
  {
   "cell_type": "code",
   "execution_count": 152,
   "metadata": {},
   "outputs": [
    {
     "data": {
      "text/plain": [
       "{'aceite': 12000,\n",
       " 'arroz': 9850.5,\n",
       " 'azucar': 9500,\n",
       " 'caraotas': 8000,\n",
       " 'harina': 11000,\n",
       " 'pasta': 18000}"
      ]
     },
     "execution_count": 152,
     "metadata": {},
     "output_type": "execute_result"
    }
   ],
   "source": [
    "productos"
   ]
  },
  {
   "cell_type": "markdown",
   "metadata": {},
   "source": [
    "Esta estructura no toma en cuenta el orden de los elementos, lo que aumenta la eficiencia para manipular y realizar búsquedas dentro del diccionario. Si queremos verificar que uno producto está o no en nuestra compra, podemos utilizar el operador **in**. ¿Está azucar \"en\" (**in**) el diccionario \"productos\"?\n"
   ]
  },
  {
   "cell_type": "code",
   "execution_count": 149,
   "metadata": {},
   "outputs": [
    {
     "data": {
      "text/plain": [
       "True"
      ]
     },
     "execution_count": 149,
     "metadata": {},
     "output_type": "execute_result"
    }
   ],
   "source": [
    "\"azucar\" in productos"
   ]
  },
  {
   "cell_type": "markdown",
   "metadata": {},
   "source": [
    "¿Has comprado aceite?"
   ]
  },
  {
   "cell_type": "code",
   "execution_count": 150,
   "metadata": {},
   "outputs": [
    {
     "data": {
      "text/plain": [
       "True"
      ]
     },
     "execution_count": 150,
     "metadata": {},
     "output_type": "execute_result"
    }
   ],
   "source": [
    "\"aceite\" in productos"
   ]
  },
  {
   "cell_type": "markdown",
   "metadata": {},
   "source": [
    "Análogamente se puede usar el operador **```not in```**:"
   ]
  },
  {
   "cell_type": "code",
   "execution_count": 155,
   "metadata": {},
   "outputs": [
    {
     "data": {
      "text/plain": [
       "True"
      ]
     },
     "execution_count": 155,
     "metadata": {},
     "output_type": "execute_result"
    }
   ],
   "source": [
    "\"pan\" not in productos   # resulta en True porque pan no está en la lista"
   ]
  },
  {
   "cell_type": "markdown",
   "metadata": {},
   "source": [
    "## Sesión b \n",
    "   \n",
    "### Estructuras de control: Condicionales if-else  (Si-Entonces)\n",
    "***\n",
    "\n",
    "Las instrucciones condicionales ayudan a construir secciones de código dependiente de valores y estados de otras variables. De esta manera puede tenerse más control de flujo de ejecución de los programas. La estructura más básica y conocida permite verificar una condición y actuar de acuerdo al resultado, con instrucciones del tipo:\n",
    "\n",
    "```\n",
    "    Si el azucar cuesta más de 9000bs, \n",
    "        decir que es cara,\n",
    "    Si no, si el azucar cuesta menos de 9000bs pero más de 7000bs, \n",
    "        decir que está bien,\n",
    "    Si no, si el azucar cuesta menos de 7000, \n",
    "        decir que está muy barata.\n",
    "```\n",
    "Lo que se traduce en código de python como:\n",
    "\n",
    "``` python\n",
    "if azucar > 9000:\n",
    "    print(\"Es cara!\")\n",
    "elif azucar >= 9000:\n",
    "    print(\"Está bien...\")\n",
    "else:\n",
    "    print(\"Está muy barata!\")\n",
    "```"
   ]
  },
  {
   "cell_type": "markdown",
   "metadata": {},
   "source": [
    "Dentro de estas condiciones también podemos modificar valores de otras variables, crear otras nuevas, e incluir cualquier otro tipo de instrucción que se quiera ejecutar. Hay que tener siempre presente que cada bloque de código para cada **if**, debe empezar después de los dos puntos (:).\n",
    "\n",
    "La sentencia **elif** es una contracción de la instrucción **else if** que es común en otros lenguajes de programación, y equivale al condicional \"si no\". La sentencia **else** es utilizada opcionalmente, usualmente al final del bloque, para tomar en cuenta el resto de las opciones que no cubren los *elif* previos.\n",
    "\n",
    "Si queremos tomar la decisión de volver o no al sitio donde compramos los productos, podemos verificar ciertas condiciones en nuestro programa. Supongamos que nuestro regreso depende de la disponibilidad de estacionamiento y del punto de venta:"
   ]
  },
  {
   "cell_type": "code",
   "execution_count": 59,
   "metadata": {},
   "outputs": [
    {
     "name": "stdout",
     "output_type": "stream",
     "text": [
      "Bien..\n"
     ]
    }
   ],
   "source": [
    "est = False              # False si no tiene estacionamiento, True si tiene.\n",
    "pto = True               # False si no tiene punto de venta, True si tiene.\n",
    "\n",
    "if est & pto:          # Si tiene estacionamiento y punto (ambos)\n",
    "    print(\"Excelente!\")\n",
    "elif not(est) & pto:   # Si no tiene estacionamiento y si tiene punto\n",
    "    print(\"Bien..\")\n",
    "elif est & ~pto:       # Si tiene estacionamiento y no punto\n",
    "    print(\"Ehh bueno\")\n",
    "else:                  # La ultima opción posible: no tiene estacionamiento ni punto\n",
    "    print (\"No!\")"
   ]
  },
  {
   "cell_type": "markdown",
   "metadata": {},
   "source": [
    "Aquí volvemos a hacer uso del operador lógico **&**. Además usamos el operador unitario **~** que significa la negación del elemento al que precede, igual que el uso de **not**. Combinando distintas sentencias condicionales como estás podemos construir bloques de código que controlen la ejecución de nuestros programas."
   ]
  },
  {
   "cell_type": "markdown",
   "metadata": {},
   "source": [
    "### Bucles *for*\n",
    "***\n",
    "\n",
    "Los bucles **for** son una forma de automatizar tareas repetitivas dentro del código. Por ejemplo, si quieres listar todos los productos que has comprado, podrías escribir secuencialmente:"
   ]
  },
  {
   "cell_type": "code",
   "execution_count": 157,
   "metadata": {},
   "outputs": [
    {
     "name": "stdout",
     "output_type": "stream",
     "text": [
      "9500\n",
      "9850.5\n",
      "11000\n"
     ]
    }
   ],
   "source": [
    "print(productos[\"azucar\"])\n",
    "print(productos[\"arroz\"])\n",
    "print(productos[\"harina\"])"
   ]
  },
  {
   "cell_type": "markdown",
   "metadata": {},
   "source": [
    "¿Pero qué pasa si son 10, 20, 100 o más productos? Mas aun, ¿si no sabes exactamente cuántos son y no recuerdas todos los nombres? Con un bucle **for** puedes automatizar este proceso:"
   ]
  },
  {
   "cell_type": "code",
   "execution_count": 160,
   "metadata": {},
   "outputs": [
    {
     "name": "stdout",
     "output_type": "stream",
     "text": [
      "Lista de precios  [9000.0, 9850.5, 11000, 12000, 18000]\n",
      "9000.0\n",
      "9850.5\n",
      "11000\n",
      "12000\n",
      "18000\n"
     ]
    }
   ],
   "source": [
    "# Recorriendo una lista\n",
    "print(\"Lista de precios \", precios)\n",
    "# Para cada item \"i\" en la variable \"precios\", imprimir el item.\n",
    "for i in precios:\n",
    "    print(i)"
   ]
  },
  {
   "cell_type": "code",
   "execution_count": 159,
   "metadata": {},
   "outputs": [
    {
     "name": "stdout",
     "output_type": "stream",
     "text": [
      "azucar\n",
      "arroz\n",
      "harina\n",
      "aceite\n",
      "pasta\n",
      "caraotas\n"
     ]
    }
   ],
   "source": [
    "# Recorriendo elementos de un diccionario\n",
    "# Para cada item \"i\" en la variable \"productos\", imprimir el item.\n",
    "for i in productos:\n",
    "    print(i)"
   ]
  },
  {
   "cell_type": "code",
   "execution_count": 158,
   "metadata": {},
   "outputs": [
    {
     "name": "stdout",
     "output_type": "stream",
     "text": [
      "9500\n",
      "9850.5\n",
      "11000\n",
      "12000\n",
      "18000\n",
      "8000\n"
     ]
    }
   ],
   "source": [
    "# Recorriendo valores de una lista\n",
    "# Para cada item \"i\" en la los valores del diccionario \"productos\", imprimir el item.\n",
    "for i in productos.values():\n",
    "    print(i)"
   ]
  },
  {
   "cell_type": "markdown",
   "metadata": {},
   "source": [
    "La variable **i** recorre los elementos en *productos*, que puede ser una lista o un iterador de Python. La sintaxis simple de Python permite poder leer explicitamente la instrucción, incluso en lenguaje natural podriamos decir:  \n",
    "\n",
    "    Para cada elemento \"i\" en la variable \"productos\":\n",
    "       imprimir(i)\n",
    "\n",
    "Debe usarse con cuidado, asegurándose que el bucle no se ejecute en un tiempo o un número de iteraciones infinitas, afectando el rendimiento del código o agotando los recursos de tu computadora.\n",
    "\n",
    "Los objetos iterables en Python pueden ser desde una lista, hasta un diccionario, como en nuestro ejemplo. Pero también hay herramientas especiales como el objeto **range** (rango). Estos iteradores son utilizados frecuentemente en la construcción de bucles **for**."
   ]
  },
  {
   "cell_type": "code",
   "execution_count": 64,
   "metadata": {},
   "outputs": [
    {
     "data": {
      "text/plain": [
       "range(0, 10)"
      ]
     },
     "execution_count": 64,
     "metadata": {},
     "output_type": "execute_result"
    }
   ],
   "source": [
    "range(10)"
   ]
  },
  {
   "cell_type": "markdown",
   "metadata": {},
   "source": [
    "Esta instrucción genera un objeto iterador que va de 0 hasta 9 (10 iteraciones). En python 2, produce una lista con los elementos a iterar, mientras que en Python 3 produce un objeto iterable."
   ]
  },
  {
   "cell_type": "code",
   "execution_count": 163,
   "metadata": {},
   "outputs": [
    {
     "data": {
      "text/plain": [
       "range(5, 20)"
      ]
     },
     "execution_count": 163,
     "metadata": {},
     "output_type": "execute_result"
    }
   ],
   "source": [
    "range(5, 20)"
   ]
  },
  {
   "cell_type": "code",
   "execution_count": 60,
   "metadata": {
    "scrolled": true
   },
   "outputs": [
    {
     "data": {
      "text/plain": [
       "[5, 6, 7, 8, 9, 10, 11, 12, 13, 14, 15, 16, 17, 18, 19]"
      ]
     },
     "execution_count": 60,
     "metadata": {},
     "output_type": "execute_result"
    }
   ],
   "source": [
    "list(range(5,20))    # De esta forma podemos ver la lista que genera el iterador"
   ]
  },
  {
   "cell_type": "markdown",
   "metadata": {},
   "source": [
    "El siguiente bloque de código indica si cada número entre 0 y 9 es par o impar, recorriendo cada elemento del rango."
   ]
  },
  {
   "cell_type": "code",
   "execution_count": 61,
   "metadata": {},
   "outputs": [
    {
     "name": "stdout",
     "output_type": "stream",
     "text": [
      "0 es par\n",
      "1 es impar\n",
      "2 es par\n",
      "3 es impar\n",
      "4 es par\n",
      "5 es impar\n",
      "6 es par\n",
      "7 es impar\n",
      "8 es par\n",
      "9 es impar\n"
     ]
    }
   ],
   "source": [
    "for x in range(10):    # para cada x del rango 0-9\n",
    "    if x % 2 == 0:     # si el resto de la división x/2  es 0\n",
    "        print(x, \"es par\")\n",
    "    else:              # si no es 0\n",
    "        print(x, \"es impar\")"
   ]
  },
  {
   "cell_type": "markdown",
   "metadata": {},
   "source": [
    "### Bucles *while*\n",
    "***\n",
    "\n",
    "El bucle **while** actúa de forma similar al **for**. La diferencia principal es que se ejecuta hasta que cierta condición lógica sea cumplida."
   ]
  },
  {
   "cell_type": "code",
   "execution_count": 166,
   "metadata": {},
   "outputs": [
    {
     "name": "stdout",
     "output_type": "stream",
     "text": [
      "0 es par\n",
      "1 es impar\n",
      "2 es par\n",
      "3 es impar\n",
      "4 es par\n",
      "5 es impar\n",
      "6 es par\n",
      "7 es impar\n",
      "8 es par\n",
      "9 es impar\n"
     ]
    }
   ],
   "source": [
    "x = 0              # establecemos un valor inicial a la variable que usaremos para iterar\n",
    "while x < 10:      # el bucle se ejecutará siempre y cuando x sea menor que 10\n",
    "    if x % 2 == 0:\n",
    "        print(x, \"es par\")\n",
    "    else:\n",
    "        print(x, \"es impar\")\n",
    "    x += 1         # incrementamos manualmente el valor de x para continuar con la ejecución"
   ]
  },
  {
   "cell_type": "markdown",
   "metadata": {},
   "source": [
    "#### Instrucciones *break, continue* y *finally*\n",
    "***\n",
    "Los bucles que hemos visto pueden mejorarse usando estas instrucciones para ganar mas control sobre el flujo de ejecución.\n",
    "\n",
    "+ La instrucción **break** permite detener la ejecución de los bucles **for** y **while**.\n",
    "+ La instrucción **continue** permite saltar la ejecución restante del bucle actual y continuar a la siguiente.\n"
   ]
  },
  {
   "cell_type": "code",
   "execution_count": 8,
   "metadata": {},
   "outputs": [
    {
     "name": "stdout",
     "output_type": "stream",
     "text": [
      "1\n",
      "3\n",
      "5\n",
      "7\n",
      "9\n",
      "11\n",
      "13\n",
      "15\n",
      "17\n",
      "19\n"
     ]
    }
   ],
   "source": [
    "for n in range(20): # para cada n del rango 0-19\n",
    "    if n % 2 == 0:  # si n es par\n",
    "        continue    # no ejecuta el resto de las instrucciones a partir de aquí. Continúa la proixma iteración\n",
    "    print(n)"
   ]
  },
  {
   "cell_type": "markdown",
   "metadata": {},
   "source": [
    "En este trozo de código, cuando **n** es un número par, entonces se salta el resto de las instrucciones, en este caso **print(n)**, y ejecuta la siguiente iteración, dando como resultado que sólo se impriman los números impares.\n",
    "\n",
    "Por ejemplo, si de nuestra lista de productos queremos listar solamente los que cuesten menos de 9000bs, podemos adaptar el código anterior:"
   ]
  },
  {
   "cell_type": "code",
   "execution_count": 167,
   "metadata": {},
   "outputs": [
    {
     "name": "stdout",
     "output_type": "stream",
     "text": [
      "caraotas\n"
     ]
    }
   ],
   "source": [
    "for i in productos:    # recorre todos los elementos del diccionario \"productos\"\n",
    "    if productos[i] >= 9000:  # si el valor del elemento \"i\" es mayor o igual que 9000\n",
    "        continue              # interrumpe el bucle y continua a la siguiente iteración (no imprime)\n",
    "    print(i)"
   ]
  },
  {
   "cell_type": "markdown",
   "metadata": {},
   "source": [
    "El código siguiente imprime una sucesión de [fibonnacci](https://es.wikipedia.org/wiki/Sucesión_de_Fibonacci). Es importante ver que el bucle **while**, dada la condición que especificamos (*True*), se ejecutará infinitamente a menos que le coloquemos la instrucción **break** dentro del bloque."
   ]
  },
  {
   "cell_type": "code",
   "execution_count": 168,
   "metadata": {},
   "outputs": [
    {
     "name": "stdout",
     "output_type": "stream",
     "text": [
      "[1, 1, 2, 3, 5, 8, 13, 21, 34, 55, 89]\n"
     ]
    }
   ],
   "source": [
    "a, b = 0,1     # primeros dos valores de la secuencia\n",
    "maximo = 100   # el tope que queremos para el fibonacci\n",
    "lista = []     # lista vacía para almacenar los elementos\n",
    "\n",
    "while True:    # se ejecutará infinitamente a menos que interrumpamos el bucle internamente\n",
    "    (a, b) = (b, a+b) \n",
    "    if a > maximo:    # se interrumpe cuando el número llega al tope que especificamos\n",
    "        break\n",
    "    lista.append(a)   # inserta cada elemento en la lista\n",
    "\n",
    "print(lista)"
   ]
  },
  {
   "cell_type": "markdown",
   "metadata": {},
   "source": [
    "### Comprensión de listas, tuplas y diccionarios\n",
    "***\n",
    "\n",
    "Existe una manera de comprimir los bucles para construir o hacer operaciones sobre objetos como listas. Supón que quieres generar una secuencia de números y guardarlos en una lista. Pensarías de inmediato en usar un bucle como:"
   ]
  },
  {
   "cell_type": "code",
   "execution_count": 14,
   "metadata": {},
   "outputs": [
    {
     "name": "stdout",
     "output_type": "stream",
     "text": [
      "[0, 1, 2, 3, 4, 5, 6, 7, 8, 9, 10, 11]\n"
     ]
    }
   ],
   "source": [
    "lista = []  # lista vacia\n",
    "for i in range(12):  # para i desde 0 hasta 11\n",
    "    lista.append(i)\n",
    "print(lista)"
   ]
  },
  {
   "cell_type": "markdown",
   "metadata": {},
   "source": [
    "Con la instrucción siguiente reducimos a una sóla línea nuestro código:"
   ]
  },
  {
   "cell_type": "code",
   "execution_count": 13,
   "metadata": {},
   "outputs": [
    {
     "data": {
      "text/plain": [
       "[0, 1, 2, 3, 4, 5, 6, 7, 8, 9, 10, 11]"
      ]
     },
     "execution_count": 13,
     "metadata": {},
     "output_type": "execute_result"
    }
   ],
   "source": [
    "[i for i in range(12)]"
   ]
  },
  {
   "cell_type": "markdown",
   "metadata": {},
   "source": [
    "Esta construcción es llamada **comprensión de listas**, y genera el mismo resultado que nuestro código anterior. La instrucción está contenida entre corchetes [,], lo que indica que generaremos una lista. Cada elemento de la lista tendrá el contenido de la variable **i** según la iteración. Este valor esta enlazado con el bucle **for** que le sigue, como un *for* usual.\n",
    "```\n",
    "[toma el elemento i de cada i en el rango 0-11]\n",
    "```\n",
    "En una comprensión de listas podemos tener múltiples bucles, además de instrucciones condicionales. Pero debemos tener criterio para no sacrificar la simpleza o entendimiento del código. Presta atención a la siguiente instrucción:"
   ]
  },
  {
   "cell_type": "code",
   "execution_count": 16,
   "metadata": {},
   "outputs": [
    {
     "data": {
      "text/plain": [
       "[(0, 0),\n",
       " (0, 1),\n",
       " (0, 2),\n",
       " (0, 3),\n",
       " (1, 0),\n",
       " (1, 1),\n",
       " (1, 2),\n",
       " (1, 3),\n",
       " (2, 0),\n",
       " (2, 1),\n",
       " (2, 2),\n",
       " (2, 3)]"
      ]
     },
     "execution_count": 16,
     "metadata": {},
     "output_type": "execute_result"
    }
   ],
   "source": [
    "[(x, y) for x in range(3) for y in range(4)]"
   ]
  },
  {
   "cell_type": "markdown",
   "metadata": {},
   "source": [
    "En esta única línea, hacemos uso de dos bucles **for**, uno para la variable **x** y otro para **y**, a partir de ellos formamos tuplas **(x,y)**, almacenándolas en una lista.\n",
    "\n",
    "> ¿Cuál es el código equivalente sin usar comprensión de listas? Intenta escribirlo!"
   ]
  },
  {
   "cell_type": "code",
   "execution_count": 170,
   "metadata": {},
   "outputs": [
    {
     "name": "stdout",
     "output_type": "stream",
     "text": [
      "[(0, 0), (0, 1), (0, 2), (0, 3), (1, 0), (1, 1), (1, 2), (1, 3), (2, 0), (2, 1), (2, 2), (2, 3)]\n"
     ]
    }
   ],
   "source": [
    "l = []   # lista vacía preparada para almacenar elementos\n",
    "for x in range(3):  # bucle para la variable x, desde 0 hasta 2\n",
    "    for y in range(4):  # bucle para la variable y, desde 0 hasta 3\n",
    "        l.append((x,y))  # llenamos la lista con las tuplas (x,y)\n",
    "print(l)      # vemos el resultado"
   ]
  },
  {
   "cell_type": "markdown",
   "metadata": {},
   "source": [
    "Podemos hacer operaciones dentro de la misma instrucción. En el ejemplo anterior podemos usar los valores *x*, *y*, para obtener una lista de sus productos."
   ]
  },
  {
   "cell_type": "code",
   "execution_count": null,
   "metadata": {
    "collapsed": true
   },
   "outputs": [],
   "source": [
    "[x*y for x in range(3) for y in range(4)]"
   ]
  },
  {
   "cell_type": "markdown",
   "metadata": {},
   "source": [
    "La utilidad de esta instrucción comprimida se extiende a **sets, tuplas e incluso diccionarios**."
   ]
  },
  {
   "cell_type": "code",
   "execution_count": 171,
   "metadata": {},
   "outputs": [
    {
     "data": {
      "text/plain": [
       "{0, 1, 2, 3, 4, 5, 6, 7, 8, 9}"
      ]
     },
     "execution_count": 171,
     "metadata": {},
     "output_type": "execute_result"
    }
   ],
   "source": [
    "{i for i in range(10)}    # set con elementos del 0 al 9"
   ]
  },
  {
   "cell_type": "code",
   "execution_count": 172,
   "metadata": {},
   "outputs": [
    {
     "data": {
      "text/plain": [
       "{0, 1, 2, 3}"
      ]
     },
     "execution_count": 172,
     "metadata": {},
     "output_type": "execute_result"
    }
   ],
   "source": [
    "{a % 4 for a in range(100)} # set con los restos posibles de la división entre 4, de los números del 0 al 99."
   ]
  },
  {
   "cell_type": "markdown",
   "metadata": {},
   "source": [
    "Como estamos tratando con conjuntos, sólo se toman valores únicos sin repetición, a pesar de que hay 100 elementos en el rango, la operacion **a % 4** arroja resultados iguales para distintos números (se descartan los repetidos).\n",
    "\n",
    "Para crear una comprensión de diccionario, solo agregamos los dos puntos necesarios para separar las claves de los valores al inicio:"
   ]
  },
  {
   "cell_type": "code",
   "execution_count": 173,
   "metadata": {
    "scrolled": true
   },
   "outputs": [
    {
     "data": {
      "text/plain": [
       "{0: 0,\n",
       " 1: 1000,\n",
       " 2: 2000,\n",
       " 3: 3000,\n",
       " 4: 4000,\n",
       " 5: 5000,\n",
       " 6: 6000,\n",
       " 7: 7000,\n",
       " 8: 8000,\n",
       " 9: 9000}"
      ]
     },
     "execution_count": 173,
     "metadata": {},
     "output_type": "execute_result"
    }
   ],
   "source": [
    "{n:n*1000 for n in range(10)}  # Crea los pares clave:valor con n:n*1000 tomando n del rango 0-9"
   ]
  },
  {
   "cell_type": "markdown",
   "metadata": {},
   "source": [
    "Como ya tenemos la lista de precios y la lista de nombres de nuestros productos, podemos usar la comprensión de diccionario para crearlo de forma más directa:"
   ]
  },
  {
   "cell_type": "code",
   "execution_count": 176,
   "metadata": {},
   "outputs": [
    {
     "data": {
      "text/plain": [
       "{'aceite': 12000,\n",
       " 'arroz': 9850.5,\n",
       " 'azucar': 9000.0,\n",
       " 'harina': 11000,\n",
       " 'pasta': 18000}"
      ]
     },
     "execution_count": 176,
     "metadata": {},
     "output_type": "execute_result"
    }
   ],
   "source": [
    "{n: p for n, p in zip(nombres,precios)}"
   ]
  },
  {
   "cell_type": "markdown",
   "metadata": {},
   "source": [
    "En la instrucción anterior, usamos la función **zip** para indicar que queremos tomar valores simultáneos por pares, en este caso de *n* y *p*. De esta manera construimos el diccionario con los productos y sus respectivos precios.\n",
    "\n",
    "Dentro de la comprensión de listas, podemos incluso usar instrucciones condicionales para construir nuestros valores. Una instrucción de la forma:"
   ]
  },
  {
   "cell_type": "code",
   "execution_count": 25,
   "metadata": {},
   "outputs": [
    {
     "data": {
      "text/plain": [
       "[1, 2, 4, 5, 7, 8, 10, 11, 13, 14, 16, 17, 19, 20, 22, 23, 25, 26, 28, 29]"
      ]
     },
     "execution_count": 25,
     "metadata": {},
     "output_type": "execute_result"
    }
   ],
   "source": [
    "l = []\n",
    "for i in range(30):\n",
    "    if i % 3:          # descarta los múltiplos de 3 \n",
    "        l.append(i)\n",
    "l"
   ]
  },
  {
   "cell_type": "markdown",
   "metadata": {
    "collapsed": true
   },
   "source": [
    "Puede comprimirse en la instrucción:"
   ]
  },
  {
   "cell_type": "code",
   "execution_count": 177,
   "metadata": {},
   "outputs": [
    {
     "data": {
      "text/plain": [
       "[1, 2, 4, 5, 7, 8, 10, 11, 13, 14, 16, 17, 19, 20, 22, 23, 25, 26, 28, 29]"
      ]
     },
     "execution_count": 177,
     "metadata": {},
     "output_type": "execute_result"
    }
   ],
   "source": [
    "[i for i in range(30) if  i % 3]  # la condición para el *for* se coloca después de éste, \n",
    "                                  # tal como un bucle usual."
   ]
  },
  {
   "cell_type": "markdown",
   "metadata": {},
   "source": [
    "Podemos construir comprensiones de listas más complejas como la siguiente:"
   ]
  },
  {
   "cell_type": "code",
   "execution_count": 29,
   "metadata": {},
   "outputs": [
    {
     "data": {
      "text/plain": [
       "[1, -2, -4, 5, 7, -8, -10, 11, 13, -14, -16, 17, 19]"
      ]
     },
     "execution_count": 29,
     "metadata": {},
     "output_type": "execute_result"
    }
   ],
   "source": [
    "[i if i % 2 else -i\n",
    "    for i in range(20) if i % 3]"
   ]
  },
  {
   "cell_type": "markdown",
   "metadata": {},
   "source": [
    "Esta instrucción usa condicionales tanto dentro del bucle como en la construcción de la variable **i**. En la parte inicial se coloca **i** en la lista si es par, si no es par, se coloca **i** negativo.\n",
    "```\n",
    "   [i if i % 2 else -i ....\n",
    "```\n",
    "Se puede escribir como:\n",
    "\n",
    "```python\n",
    "    if i % 2:\n",
    "        i\n",
    "    else:\n",
    "        -i\n",
    "```\n",
    "En la segunda parte, **i** se selecciona del rango 0-19 sólo si es divisible entre 3 (la última condición en la instrucción). \n",
    "\n",
    "``` python\n",
    "    for i in range(20):\n",
    "        if i % 3:\n",
    "            i\n",
    "```\n",
    "\n",
    "El elemento **i** que devuelve esta condición dentro del **for** es el que es utilizado luego por las instrucciones condicionales anteriores. Finalmente la lista es una secuencia de números divisibles por 3, de los cuales se niegan los que sean divisibles por 2.\n",
    "\n",
    "La siguiente instrucción aplica la misma idea de comprensión de listas, pero esta vez a los diccionarios:"
   ]
  },
  {
   "cell_type": "code",
   "execution_count": 178,
   "metadata": {},
   "outputs": [
    {
     "data": {
      "text/plain": [
       "{'azucar': 9000.0}"
      ]
     },
     "execution_count": 178,
     "metadata": {},
     "output_type": "execute_result"
    }
   ],
   "source": [
    "{n: p for n, p in zip(nombres,precios) if p <= 9000}"
   ]
  },
  {
   "cell_type": "markdown",
   "metadata": {},
   "source": [
    "Aqui creamos el diccionario con los pares **` nombre:precio `**, pero filtrando sólo los productos que cuesten 9000bs o menos. Suponiendo que realmente tengamos una lista inmensa de las compras de varios meses o un año, este tipo de filtrado condicional resulta obviamente útil. Si consideramos la instrucción por partes podemos comprender mejor su funcionamiento:\n",
    "\n",
    "``` python\n",
    "{nombre: precio                  # crea el par clave:valor\n",
    " for nombre, precio in zip(n,p)  # para los valores \"nombre y precio\" que están en las listas n y p.\n",
    " if precio <= 9000}              # pero sólo si el precio 9mil o menos.\n",
    "```"
   ]
  },
  {
   "cell_type": "markdown",
   "metadata": {},
   "source": [
    "### Paquetes y módulos\n",
    "***\n",
    "\n",
    "Ya hemos utilizado anteriormente varios métodos o funciones para manipular objetos de varios tipos, como listas, cadenas, conjuntos. Estás funciones vienen por defecto listas para usar en Python. Pero además, Python contiene muchas más librerías estándar integradas con variadas funcionalidades. Para usar estas librerías, utilizamos la sentencia **import**:"
   ]
  },
  {
   "cell_type": "code",
   "execution_count": 32,
   "metadata": {
    "collapsed": true
   },
   "outputs": [],
   "source": [
    "import math"
   ]
  },
  {
   "cell_type": "markdown",
   "metadata": {},
   "source": [
    "El módulo **math** incluye funciones para cálculo matemático más allá de sólo sumas y restas. Por ejemplo, el cálculo de raíces cuadradas, o encontrar valores de funciones trigonométricas."
   ]
  },
  {
   "cell_type": "code",
   "execution_count": 33,
   "metadata": {},
   "outputs": [
    {
     "data": {
      "text/plain": [
       "0.5403023058681398"
      ]
     },
     "execution_count": 33,
     "metadata": {},
     "output_type": "execute_result"
    }
   ],
   "source": [
    "math.cos(1)"
   ]
  },
  {
   "cell_type": "markdown",
   "metadata": {},
   "source": [
    "Usamos el nombre del módulo seguido de un punto, y luego el objeto o función del módulo que queremos utilizar. En este caso, **cos()** es una función que recibe un valor para encontrar su coseno. Podemos utilizar constantes matemáticas como **pi** o **e**, de la misma manera."
   ]
  },
  {
   "cell_type": "code",
   "execution_count": 34,
   "metadata": {},
   "outputs": [
    {
     "data": {
      "text/plain": [
       "3.141592653589793"
      ]
     },
     "execution_count": 34,
     "metadata": {},
     "output_type": "execute_result"
    }
   ],
   "source": [
    "math.pi"
   ]
  },
  {
   "cell_type": "markdown",
   "metadata": {},
   "source": [
    "Otra forma de importar estos módulos es por medio de un alias. Algunos módulos tienen nombre largos que harían el código mas engorroso. Para ellos podemos escribir:\n",
    "```python\n",
    "import modulo as alias\n",
    "```\n",
    "De esta manera podemos usar \"alias\" como la abreviación del nombre del módulo, con todas sus funcionalidades."
   ]
  },
  {
   "cell_type": "code",
   "execution_count": 35,
   "metadata": {},
   "outputs": [
    {
     "data": {
      "text/plain": [
       "3.141592653589793"
      ]
     },
     "execution_count": 35,
     "metadata": {},
     "output_type": "execute_result"
    }
   ],
   "source": [
    "import math as m\n",
    "m.pi"
   ]
  },
  {
   "cell_type": "markdown",
   "metadata": {},
   "source": [
    "Una costumbre generalizada es utilizar el módulo **numpy** (módulo con herramientas numéricas utilizado comummente en ciencia de datos), con el alias **np**."
   ]
  },
  {
   "cell_type": "code",
   "execution_count": null,
   "metadata": {
    "collapsed": true
   },
   "outputs": [],
   "source": [
    "import numpy as np\n",
    "np.cos(np.pi)"
   ]
  },
  {
   "cell_type": "markdown",
   "metadata": {},
   "source": [
    "Puede que queramos sólo utilizar cierto contenido específico de un módulo, en ese caso indicamos explícitamente tales contenidos de la siguiente forma:"
   ]
  },
  {
   "cell_type": "code",
   "execution_count": 36,
   "metadata": {
    "collapsed": true
   },
   "outputs": [],
   "source": [
    "from math import cos, pi"
   ]
  },
  {
   "cell_type": "markdown",
   "metadata": {},
   "source": [
    "Desde el módulo *math*, importa *cos* y *pi*. Es fácil de comprender la lógica de esta importación explícita y específica."
   ]
  },
  {
   "cell_type": "code",
   "execution_count": null,
   "metadata": {
    "collapsed": true
   },
   "outputs": [],
   "source": [
    "from math import *"
   ]
  },
  {
   "cell_type": "markdown",
   "metadata": {},
   "source": [
    "En este caso estamos importando TODO el contenido del módulo **math** dentro del espacio de trabajo de Python. Esta instrucción debe ser usada con precaución, porque puede resultar en la sobreescritura de algunas funciones que tengan el mismo nombre y que hayan sido cargadas en el mismo espacio de trabajo anteriormente.\n",
    "\n",
    "Por ejemplo, si el módulo **numpy** contiene una funcion *suma*, y ya existe una función llamada *suma* dentro del espacio, al importar con asterisco (\\*) reescribiríamos la segunda, causando posibles conflictos o resultados no deseados en nuestro programa.\n",
    "\n",
    "Lo más recomendable es importar y usar el módulo explícitamente, sin alias o con alias, como en los primeros ejemplos."
   ]
  },
  {
   "cell_type": "markdown",
   "metadata": {},
   "source": [
    "#### Librerias Estándar \n",
    "\n",
    "Las siguiente son librerías estándar importantes incluidas en python:\n",
    "\n",
    "\n",
    "+ **os y sys**: Contiene herramientas para interactuar con el sistema operativo, como manejar archivos y directorios y ejecutar comando en el terminal.\n",
    "+ **math y cmath**: Funciones y operaciones matemáticas sobre números reales y complejos.\n",
    "+ **itertools**: Para construir y manejar interadores y generadores.\n",
    "+ **functools**: Asistencia para programación funcional.\n",
    "+ **random**: Para generar números pseudo aleatorios.\n",
    "+ **pickle**: Herramientas para guardar y cargar objetos desde el disco duro.\n",
    "+ **json y csv**: Para leer archivos .csv y JSON.\n",
    "+ **urllib**: Herramientas para hacer solicitudes Http u otras modalidades web."
   ]
  },
  {
   "cell_type": "markdown",
   "metadata": {},
   "source": [
    "***\n",
    "| [Atrás](Módulo I - Introducción a Python.ipynb) | [Inicio](Introducción - Contenido.ipynb) | [Siguiente](Módulo III - Funciones, lectura y escritura de archivos.ipynb)"
   ]
  }
 ],
 "metadata": {
  "kernelspec": {
   "display_name": "Python 3",
   "language": "python",
   "name": "python3"
  },
  "language_info": {
   "codemirror_mode": {
    "name": "ipython",
    "version": 3
   },
   "file_extension": ".py",
   "mimetype": "text/x-python",
   "name": "python",
   "nbconvert_exporter": "python",
   "pygments_lexer": "ipython3",
   "version": "3.6.1"
  }
 },
 "nbformat": 4,
 "nbformat_minor": 2
}
