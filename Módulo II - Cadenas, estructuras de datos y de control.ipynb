{
 "cells": [
  {
   "cell_type": "markdown",
   "metadata": {},
   "source": [
    "## Módulo II: Cadenas, estructuras de datos y de control."
   ]
  },
  {
   "cell_type": "markdown",
   "metadata": {},
   "source": [
    "### Sesión a:  \n",
    "   + Manipulación de cadenas y expresiones regulares*.\n",
    "   + Estructuras de datos: listas, tuplas, diccionarios, conjuntos."
   ]
  },
  {
   "cell_type": "markdown",
   "metadata": {},
   "source": [
    "### Sesión b:  \n",
    "   + Estructuras de control. Iteradores.\n",
    "   + Comprensión de listas, tuplas y diccionarios.\n",
    "   + Paquetes y módulos."
   ]
  },
  {
   "cell_type": "markdown",
   "metadata": {},
   "source": [
    "| [Atrás]() | [Inicio]() | [Siguiente]()"
   ]
  }
 ],
 "metadata": {
  "kernelspec": {
   "display_name": "Python 3",
   "language": "python",
   "name": "python3"
  },
  "language_info": {
   "codemirror_mode": {
    "name": "ipython",
    "version": 3
   },
   "file_extension": ".py",
   "mimetype": "text/x-python",
   "name": "python",
   "nbconvert_exporter": "python",
   "pygments_lexer": "ipython3",
   "version": "3.6.1"
  }
 },
 "nbformat": 4,
 "nbformat_minor": 2
}
