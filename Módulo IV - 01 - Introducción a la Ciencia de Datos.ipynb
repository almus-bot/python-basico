{
 "cells": [
  {
   "cell_type": "markdown",
   "metadata": {},
   "source": [
    "# Módulo IV - 01 - Introducción a la Ciencia de Datos\n",
    "***"
   ]
  },
  {
   "cell_type": "markdown",
   "metadata": {},
   "source": [
    "El manejo de datos que hemos visto hasta ahora como muestra de las herramientas de Python\n",
    "puede volverse menos flexible cuando se trata de manejar mayores cantidades de datos, cuando se quiera hacer uso de bases de datos mas eficientes. En el área de ciencia de datos, los usuarios de Python cuentan con herramientas específicas para mejorar este manejo. Para instalarlas, escribe en tu terminal:\n",
    "\n",
    "```python\n",
    "conda install numpy pandas scipy matplotlib scikit-learn\n",
    "```\n",
    "\n",
    "## Numpy\n",
    "***\n",
    "\n",
    "**Numpy** es el paquete por excelencia para manejar arreglos numéricos, matrices y conjuntos de datos multidimensionales, de forma eficiente.  Para usar numpy, sólo importamos el paquete como hemos aprendido:"
   ]
  },
  {
   "cell_type": "code",
   "execution_count": 1,
   "metadata": {},
   "outputs": [
    {
     "data": {
      "text/plain": [
       "array([1, 2, 3, 4, 5, 6, 7, 8, 9])"
      ]
     },
     "execution_count": 1,
     "metadata": {},
     "output_type": "execute_result"
    }
   ],
   "source": [
    "import numpy as np\n",
    "x = np.arange(1,10)\n",
    "x"
   ]
  },
  {
   "cell_type": "markdown",
   "metadata": {},
   "source": [
    "Con la instrucción **np.arange(1,10)** acabamos de crear un vector numérico desde el 1 hasta el 9. Es similar a la función **range()** que hemos usado anteriormente.\n",
    "\n",
    "Sobre estos arreglos numéricos podemos realizar operaciones qe no son posibles con listas. Por ejemplo:"
   ]
  },
  {
   "cell_type": "code",
   "execution_count": 2,
   "metadata": {},
   "outputs": [
    {
     "data": {
      "text/plain": [
       "[1, 2, 3, 4, 1, 2, 3, 4]"
      ]
     },
     "execution_count": 2,
     "metadata": {},
     "output_type": "execute_result"
    }
   ],
   "source": [
    "l = [1,2,3,4]\n",
    "l1 = [5,6,7,8]\n",
    "l*2"
   ]
  },
  {
   "cell_type": "markdown",
   "metadata": {},
   "source": [
    "Con la útlima operación logramos duplicar la lista con los mismos elementos. ¿Pero qué pasa si lo que queríamos era multiplicar por 2 cada elemento de la lista? Quizá con comprensión de listas podemos lograrlo:"
   ]
  },
  {
   "cell_type": "code",
   "execution_count": 3,
   "metadata": {},
   "outputs": [
    {
     "data": {
      "text/plain": [
       "[2, 4, 6, 8]"
      ]
     },
     "execution_count": 3,
     "metadata": {},
     "output_type": "execute_result"
    }
   ],
   "source": [
    "[i*2 for i in l]"
   ]
  },
  {
   "cell_type": "markdown",
   "metadata": {},
   "source": [
    "Si queremos elevar al cuadrado los elementos de la lista **l**, obtendremos un error. Al igual que si intentamos multiplicar dos listas:"
   ]
  },
  {
   "cell_type": "code",
   "execution_count": 4,
   "metadata": {},
   "outputs": [
    {
     "ename": "TypeError",
     "evalue": "unsupported operand type(s) for ** or pow(): 'list' and 'int'",
     "output_type": "error",
     "traceback": [
      "\u001b[0;31m---------------------------------------------------------------------------\u001b[0m",
      "\u001b[0;31mTypeError\u001b[0m                                 Traceback (most recent call last)",
      "\u001b[0;32m<ipython-input-4-7adf20f01b27>\u001b[0m in \u001b[0;36m<module>\u001b[0;34m()\u001b[0m\n\u001b[0;32m----> 1\u001b[0;31m \u001b[0ml\u001b[0m\u001b[0;34m**\u001b[0m\u001b[0;36m2\u001b[0m\u001b[0;34m\u001b[0m\u001b[0m\n\u001b[0m\u001b[1;32m      2\u001b[0m \u001b[0ml\u001b[0m\u001b[0;34m*\u001b[0m\u001b[0ml1\u001b[0m\u001b[0;34m\u001b[0m\u001b[0m\n",
      "\u001b[0;31mTypeError\u001b[0m: unsupported operand type(s) for ** or pow(): 'list' and 'int'"
     ]
    }
   ],
   "source": [
    "l**2\n",
    "l*l1"
   ]
  },
  {
   "cell_type": "markdown",
   "metadata": {},
   "source": [
    "Sin embargo, utilizando un array de numpy podemos fácilmente operar:"
   ]
  },
  {
   "cell_type": "code",
   "execution_count": 5,
   "metadata": {},
   "outputs": [
    {
     "data": {
      "text/plain": [
       "array([ 2,  4,  6,  8, 10, 12, 14, 16, 18])"
      ]
     },
     "execution_count": 5,
     "metadata": {},
     "output_type": "execute_result"
    }
   ],
   "source": [
    "x*2"
   ]
  },
  {
   "cell_type": "code",
   "execution_count": 6,
   "metadata": {},
   "outputs": [
    {
     "data": {
      "text/plain": [
       "array([ 1,  4,  9, 16, 25, 36, 49, 64, 81])"
      ]
     },
     "execution_count": 6,
     "metadata": {},
     "output_type": "execute_result"
    }
   ],
   "source": [
    "x**2"
   ]
  },
  {
   "cell_type": "code",
   "execution_count": 7,
   "metadata": {
    "scrolled": true
   },
   "outputs": [
    {
     "data": {
      "text/plain": [
       "array([ 11,  24,  39,  56,  75,  96, 119, 144, 171])"
      ]
     },
     "execution_count": 7,
     "metadata": {},
     "output_type": "execute_result"
    }
   ],
   "source": [
    "x1 = np.arange(11,20)\n",
    "x*x1"
   ]
  },
  {
   "cell_type": "markdown",
   "metadata": {},
   "source": [
    "Recordando nuestra variable precios, podemos intentar restarle a todos un descuento. La lista que teníamos anteriormente era:"
   ]
  },
  {
   "cell_type": "code",
   "execution_count": 8,
   "metadata": {
    "collapsed": true
   },
   "outputs": [],
   "source": [
    "precios = [12000, 9850.5, 9000.0, 30000.0, 18000.0,\n",
    "           12000.0, 11000, 15000.0, 6000.0, 18000, 8000.0]\n",
    "descuento = 1000           # descuento para aplicar"
   ]
  },
  {
   "cell_type": "code",
   "execution_count": 9,
   "metadata": {},
   "outputs": [
    {
     "ename": "TypeError",
     "evalue": "unsupported operand type(s) for -: 'list' and 'int'",
     "output_type": "error",
     "traceback": [
      "\u001b[0;31m---------------------------------------------------------------------------\u001b[0m",
      "\u001b[0;31mTypeError\u001b[0m                                 Traceback (most recent call last)",
      "\u001b[0;32m<ipython-input-9-4253658fae66>\u001b[0m in \u001b[0;36m<module>\u001b[0;34m()\u001b[0m\n\u001b[0;32m----> 1\u001b[0;31m \u001b[0mprecios\u001b[0m\u001b[0;34m-\u001b[0m\u001b[0;36m100\u001b[0m\u001b[0;34m\u001b[0m\u001b[0m\n\u001b[0m",
      "\u001b[0;31mTypeError\u001b[0m: unsupported operand type(s) for -: 'list' and 'int'"
     ]
    }
   ],
   "source": [
    "precios-100"
   ]
  },
  {
   "cell_type": "markdown",
   "metadata": {},
   "source": [
    "Nos arroja un error dado que no está definida una resta entre tipos listas y entero. Tendríamos que construir otro bucle o comprension de listas para lograr el resultado."
   ]
  },
  {
   "cell_type": "code",
   "execution_count": 10,
   "metadata": {},
   "outputs": [
    {
     "data": {
      "text/plain": [
       "[11900,\n",
       " 9750.5,\n",
       " 8900.0,\n",
       " 29900.0,\n",
       " 17900.0,\n",
       " 11900.0,\n",
       " 10900,\n",
       " 14900.0,\n",
       " 5900.0,\n",
       " 17900,\n",
       " 7900.0]"
      ]
     },
     "execution_count": 10,
     "metadata": {},
     "output_type": "execute_result"
    }
   ],
   "source": [
    "[i - 100 for i in precios]"
   ]
  },
  {
   "cell_type": "markdown",
   "metadata": {},
   "source": [
    "A pesar de que podemos obtener lo que buscamos con bucles *for* y comprensión de listas, debemos tener en cuenta que el uso de **Numpy** aumenta la **eficiencia** con la que se ejecutan las operaciones. Además que permite otra variedad de operaciones numéricas importantes."
   ]
  },
  {
   "cell_type": "code",
   "execution_count": 11,
   "metadata": {},
   "outputs": [
    {
     "data": {
      "text/plain": [
       "array([ 24000.,  19701.,  18000.,  60000.,  36000.,  24000.,  22000.,\n",
       "        30000.,  12000.,  36000.,  16000.])"
      ]
     },
     "execution_count": 11,
     "metadata": {},
     "output_type": "execute_result"
    }
   ],
   "source": [
    "numprecios = np.array(precios)    # convierte la lista de precios en un array de numpy\n",
    "numprecios * 2     # multiplica cada elemento del array individualmente, por dos."
   ]
  },
  {
   "cell_type": "code",
   "execution_count": 12,
   "metadata": {},
   "outputs": [
    {
     "data": {
      "text/plain": [
       "array([ 11900. ,   9750.5,   8900. ,  29900. ,  17900. ,  11900. ,\n",
       "        10900. ,  14900. ,   5900. ,  17900. ,   7900. ])"
      ]
     },
     "execution_count": 12,
     "metadata": {},
     "output_type": "execute_result"
    }
   ],
   "source": [
    "numprecios - 100   # resta 100 unidades a cada elemento del array."
   ]
  },
  {
   "cell_type": "markdown",
   "metadata": {},
   "source": [
    "Podemos presionar la tecla <tab> para revisar los métodos disponibles para aplicar sobre los array de **numpy**:\n",
    "```python    \n",
    "numprecios.<tab> \n",
    "```\n",
    "![Métodos sobre array de numpy](images/020-numpymetodos.png)\n",
    "\n",
    "Podemos ver el tamaño del arreglo como siempre (número de elementos):"
   ]
  },
  {
   "cell_type": "code",
   "execution_count": 13,
   "metadata": {},
   "outputs": [
    {
     "data": {
      "text/plain": [
       "11"
      ]
     },
     "execution_count": 13,
     "metadata": {},
     "output_type": "execute_result"
    }
   ],
   "source": [
    "len(numprecios)"
   ]
  },
  {
   "cell_type": "markdown",
   "metadata": {},
   "source": [
    "Pero además, podemos ver las dimensiones del mismo haciendo:"
   ]
  },
  {
   "cell_type": "code",
   "execution_count": 14,
   "metadata": {},
   "outputs": [
    {
     "data": {
      "text/plain": [
       "(11,)"
      ]
     },
     "execution_count": 14,
     "metadata": {},
     "output_type": "execute_result"
    }
   ],
   "source": [
    "numprecios.shape"
   ]
  },
  {
   "cell_type": "markdown",
   "metadata": {},
   "source": [
    "Siendo el primer valor de la tupla resultante el número de filas y el segundo el número de columnas en caso de tener estructuras de más de dos dimensiones como matrices."
   ]
  },
  {
   "cell_type": "markdown",
   "metadata": {},
   "source": [
    "**Numpy** cuenta con sus propios tipos de variable para manejar con mayor precisión las operaciones: enteros, flotantes, complejos, booleanos, strings, entre otros.\n",
    "\n",
    "![Tipos de datos de numpy](images/021-numpydatos.png)"
   ]
  },
  {
   "cell_type": "code",
   "execution_count": 15,
   "metadata": {},
   "outputs": [
    {
     "data": {
      "text/plain": [
       "numpy.int64"
      ]
     },
     "execution_count": 15,
     "metadata": {},
     "output_type": "execute_result"
    }
   ],
   "source": [
    "np.int64"
   ]
  },
  {
   "cell_type": "markdown",
   "metadata": {},
   "source": [
    "Si queremos convertir el arreglo a otro tipo distinto de dato, usamos la funcion **astype(tipo_de_dato)**:"
   ]
  },
  {
   "cell_type": "code",
   "execution_count": 16,
   "metadata": {
    "scrolled": true
   },
   "outputs": [
    {
     "data": {
      "text/plain": [
       "dtype('int64')"
      ]
     },
     "execution_count": 16,
     "metadata": {},
     "output_type": "execute_result"
    }
   ],
   "source": [
    "x.astype(int)\n",
    "x.dtype  #nos informa que tipo de variable contiene el array"
   ]
  },
  {
   "cell_type": "markdown",
   "metadata": {},
   "source": [
    "Para construir una matriz, podemos modificar las dimensiones del array, al contrario de la lista que sólo es unidimensional. La función reshape cambia la forma del array según las dimensiones que especifiquemos:"
   ]
  },
  {
   "cell_type": "code",
   "execution_count": 17,
   "metadata": {},
   "outputs": [
    {
     "data": {
      "text/plain": [
       "array([[1, 2, 3],\n",
       "       [4, 5, 6],\n",
       "       [7, 8, 9]])"
      ]
     },
     "execution_count": 17,
     "metadata": {},
     "output_type": "execute_result"
    }
   ],
   "source": [
    "matriz = x.reshape((3,3))\n",
    "matriz"
   ]
  },
  {
   "cell_type": "code",
   "execution_count": 18,
   "metadata": {
    "scrolled": true
   },
   "outputs": [
    {
     "name": "stdout",
     "output_type": "stream",
     "text": [
      "int64\n",
      "2\n"
     ]
    }
   ],
   "source": [
    "print(matriz.dtype)   # tipo de objeto\n",
    "print(matriz.ndim)    # número de dimensiones del objeto"
   ]
  },
  {
   "cell_type": "markdown",
   "metadata": {},
   "source": [
    "Ahora que tenemos una matriz, incluso podemos aplicar operaciones matemáticas típicas para ella: productos, transpuestas, y en general de álgebra lineal, entre otros:\n",
    "\n",
    "![Métodos para matrices](images/022-matrizmetodo.png)"
   ]
  },
  {
   "cell_type": "code",
   "execution_count": 19,
   "metadata": {},
   "outputs": [
    {
     "data": {
      "text/plain": [
       "array([[1, 4, 7],\n",
       "       [2, 5, 8],\n",
       "       [3, 6, 9]])"
      ]
     },
     "execution_count": 19,
     "metadata": {},
     "output_type": "execute_result"
    }
   ],
   "source": [
    "matriz.T"
   ]
  },
  {
   "cell_type": "markdown",
   "metadata": {},
   "source": [
    "La instrucción anterior es una forma abreviada de usar la función **transpose** de numpy, que nos arroja el mismo resultado:"
   ]
  },
  {
   "cell_type": "code",
   "execution_count": 20,
   "metadata": {
    "scrolled": true
   },
   "outputs": [
    {
     "data": {
      "text/plain": [
       "array([[1, 4, 7],\n",
       "       [2, 5, 8],\n",
       "       [3, 6, 9]])"
      ]
     },
     "execution_count": 20,
     "metadata": {},
     "output_type": "execute_result"
    }
   ],
   "source": [
    "np.transpose(matriz)"
   ]
  },
  {
   "cell_type": "markdown",
   "metadata": {},
   "source": [
    "Las operaciones aritméticas básicas pueden aplicarse tanto con operadores binarios como métodos explícitos, ofreciendo el mismo resultado:"
   ]
  },
  {
   "cell_type": "code",
   "execution_count": 21,
   "metadata": {
    "collapsed": true
   },
   "outputs": [],
   "source": [
    "a = np.array([1,2,3])\n",
    "b = np.array([(1.5,2,3), (4,5,6)], dtype = float)\n",
    "c = np.array([[(1.5,2,3), (4,5,6)], [(3,2,1), (4,5,6)]],dtype=float)"
   ]
  },
  {
   "cell_type": "code",
   "execution_count": 22,
   "metadata": {},
   "outputs": [
    {
     "data": {
      "text/plain": [
       "array([[ 2.5,  4. ,  6. ],\n",
       "       [ 5. ,  7. ,  9. ]])"
      ]
     },
     "execution_count": 22,
     "metadata": {},
     "output_type": "execute_result"
    }
   ],
   "source": [
    "a + b   # suma con operador"
   ]
  },
  {
   "cell_type": "code",
   "execution_count": 23,
   "metadata": {},
   "outputs": [
    {
     "data": {
      "text/plain": [
       "array([[ 2.5,  4. ,  6. ],\n",
       "       [ 5. ,  7. ,  9. ]])"
      ]
     },
     "execution_count": 23,
     "metadata": {},
     "output_type": "execute_result"
    }
   ],
   "source": [
    "np.add(a,b)    # suma con método"
   ]
  },
  {
   "cell_type": "code",
   "execution_count": 24,
   "metadata": {},
   "outputs": [
    {
     "data": {
      "text/plain": [
       "array([[ 0.66666667,  1.        ,  1.        ],\n",
       "       [ 0.25      ,  0.4       ,  0.5       ]])"
      ]
     },
     "execution_count": 24,
     "metadata": {},
     "output_type": "execute_result"
    }
   ],
   "source": [
    "a/b"
   ]
  },
  {
   "cell_type": "markdown",
   "metadata": {},
   "source": [
    "...es equivalente a "
   ]
  },
  {
   "cell_type": "code",
   "execution_count": 25,
   "metadata": {},
   "outputs": [
    {
     "data": {
      "text/plain": [
       "array([[ 0.66666667,  1.        ,  1.        ],\n",
       "       [ 0.25      ,  0.4       ,  0.5       ]])"
      ]
     },
     "execution_count": 25,
     "metadata": {},
     "output_type": "execute_result"
    }
   ],
   "source": [
    "np.divide(a,b)"
   ]
  },
  {
   "cell_type": "code",
   "execution_count": 26,
   "metadata": {},
   "outputs": [
    {
     "data": {
      "text/plain": [
       "array([[  1.5,   4. ,   9. ],\n",
       "       [  4. ,  10. ,  18. ]])"
      ]
     },
     "execution_count": 26,
     "metadata": {},
     "output_type": "execute_result"
    }
   ],
   "source": [
    "a*b"
   ]
  },
  {
   "cell_type": "markdown",
   "metadata": {},
   "source": [
    "...es equivalente a"
   ]
  },
  {
   "cell_type": "code",
   "execution_count": 27,
   "metadata": {
    "scrolled": true
   },
   "outputs": [
    {
     "data": {
      "text/plain": [
       "array([[  1.5,   4. ,   9. ],\n",
       "       [  4. ,  10. ,  18. ]])"
      ]
     },
     "execution_count": 27,
     "metadata": {},
     "output_type": "execute_result"
    }
   ],
   "source": [
    "np.multiply(a,b)"
   ]
  },
  {
   "cell_type": "markdown",
   "metadata": {},
   "source": [
    "Incluso podemos calcular funciones trigonométricas para cada valor con **np.cos(a)** y **np.sin(a)**, o raíces cuadradas con **np.sqrt(a)**"
   ]
  },
  {
   "cell_type": "code",
   "execution_count": 28,
   "metadata": {},
   "outputs": [
    {
     "data": {
      "text/plain": [
       "148850.5"
      ]
     },
     "execution_count": 28,
     "metadata": {},
     "output_type": "execute_result"
    }
   ],
   "source": [
    "numprecios.sum()"
   ]
  },
  {
   "cell_type": "code",
   "execution_count": 29,
   "metadata": {},
   "outputs": [
    {
     "data": {
      "text/plain": [
       "30000.0"
      ]
     },
     "execution_count": 29,
     "metadata": {},
     "output_type": "execute_result"
    }
   ],
   "source": [
    "numprecios.max()"
   ]
  },
  {
   "cell_type": "code",
   "execution_count": 30,
   "metadata": {},
   "outputs": [
    {
     "data": {
      "text/plain": [
       "6000.0"
      ]
     },
     "execution_count": 30,
     "metadata": {},
     "output_type": "execute_result"
    }
   ],
   "source": [
    "numprecios.min()"
   ]
  },
  {
   "cell_type": "markdown",
   "metadata": {},
   "source": [
    "No tenemos que construir una función para calcular la media, con un array de numpy hacemos directamente:"
   ]
  },
  {
   "cell_type": "code",
   "execution_count": 31,
   "metadata": {},
   "outputs": [
    {
     "data": {
      "text/plain": [
       "13531.863636363636"
      ]
     },
     "execution_count": 31,
     "metadata": {},
     "output_type": "execute_result"
    }
   ],
   "source": [
    "numprecios.mean()"
   ]
  },
  {
   "cell_type": "markdown",
   "metadata": {},
   "source": [
    "Incluso las medidas estadísticas más comunes como [desviación estándar](https://es.wikipedia.org/wiki/Desviación_típica), [varianza](https://es.wikipedia.org/wiki/Varianza) y [mediana](https://es.wikipedia.org/wiki/Mediana_(estadística)):"
   ]
  },
  {
   "cell_type": "code",
   "execution_count": 32,
   "metadata": {},
   "outputs": [
    {
     "data": {
      "text/plain": [
       "40527971.095041327"
      ]
     },
     "execution_count": 32,
     "metadata": {},
     "output_type": "execute_result"
    }
   ],
   "source": [
    "numprecios.var()   # varianza de un conjunto de datos"
   ]
  },
  {
   "cell_type": "code",
   "execution_count": 33,
   "metadata": {},
   "outputs": [
    {
     "data": {
      "text/plain": [
       "6366.1582681426735"
      ]
     },
     "execution_count": 33,
     "metadata": {},
     "output_type": "execute_result"
    }
   ],
   "source": [
    "numprecios.std()   # desviación estándar de un conjunto de datos"
   ]
  },
  {
   "cell_type": "code",
   "execution_count": 34,
   "metadata": {},
   "outputs": [
    {
     "data": {
      "text/plain": [
       "12000.0"
      ]
     },
     "execution_count": 34,
     "metadata": {},
     "output_type": "execute_result"
    }
   ],
   "source": [
    "np.median(numprecios)   # mediana de los datos"
   ]
  },
  {
   "cell_type": "markdown",
   "metadata": {},
   "source": [
    "Todas las operaciones usuales con listas, como ordenar, concatenar, anexar, insertar, eliminar elementos, extraer subsecciones y realizar operaciones lógicas pueden realizarse intuitivamente con numpy."
   ]
  },
  {
   "cell_type": "code",
   "execution_count": 35,
   "metadata": {},
   "outputs": [
    {
     "data": {
      "text/plain": [
       "array([ 12000. ,   9850.5])"
      ]
     },
     "execution_count": 35,
     "metadata": {},
     "output_type": "execute_result"
    }
   ],
   "source": [
    "numprecios[0:2]"
   ]
  },
  {
   "cell_type": "code",
   "execution_count": 36,
   "metadata": {},
   "outputs": [
    {
     "data": {
      "text/plain": [
       "9850.5"
      ]
     },
     "execution_count": 36,
     "metadata": {},
     "output_type": "execute_result"
    }
   ],
   "source": [
    "numprecios[1]"
   ]
  },
  {
   "cell_type": "markdown",
   "metadata": {},
   "source": [
    "Y para acceder a los elementos de una matriz o cualquier objeto multidimensional, usamos los índices para cada dimensión:"
   ]
  },
  {
   "cell_type": "code",
   "execution_count": 37,
   "metadata": {
    "scrolled": true
   },
   "outputs": [
    {
     "data": {
      "text/plain": [
       "array([2, 5])"
      ]
     },
     "execution_count": 37,
     "metadata": {},
     "output_type": "execute_result"
    }
   ],
   "source": [
    "matriz[0:2, 1]   # en la primera posición los elementos de las filas\n",
    "                 # y el la segunda posición lo elementos de la columna"
   ]
  },
  {
   "cell_type": "markdown",
   "metadata": {},
   "source": [
    "La comparación de arrays puede hacerse tanto elemento a elemento, como por objeto completo:"
   ]
  },
  {
   "cell_type": "code",
   "execution_count": 38,
   "metadata": {
    "collapsed": true
   },
   "outputs": [],
   "source": [
    "numprecios = np.array([9000,4000,5000])\n",
    "numprecios2 = numprecios\n",
    "numprecios3 = np.array([9000,2000,6790])"
   ]
  },
  {
   "cell_type": "code",
   "execution_count": 39,
   "metadata": {},
   "outputs": [
    {
     "data": {
      "text/plain": [
       "array([ True, False, False], dtype=bool)"
      ]
     },
     "execution_count": 39,
     "metadata": {},
     "output_type": "execute_result"
    }
   ],
   "source": [
    "numprecios == numprecios3"
   ]
  },
  {
   "cell_type": "code",
   "execution_count": 40,
   "metadata": {},
   "outputs": [
    {
     "data": {
      "text/plain": [
       "True"
      ]
     },
     "execution_count": 40,
     "metadata": {},
     "output_type": "execute_result"
    }
   ],
   "source": [
    "np.array_equal(numprecios, numprecios2)"
   ]
  },
  {
   "cell_type": "code",
   "execution_count": 41,
   "metadata": {
    "scrolled": true
   },
   "outputs": [
    {
     "data": {
      "text/plain": [
       "False"
      ]
     },
     "execution_count": 41,
     "metadata": {},
     "output_type": "execute_result"
    }
   ],
   "source": [
    "np.array_equal(numprecios, numprecios3)"
   ]
  },
  {
   "cell_type": "markdown",
   "metadata": {},
   "source": [
    "De igual manera para las demás condiciones lógicas que apliquen:"
   ]
  },
  {
   "cell_type": "code",
   "execution_count": 42,
   "metadata": {},
   "outputs": [
    {
     "data": {
      "text/plain": [
       "array([False,  True, False], dtype=bool)"
      ]
     },
     "execution_count": 42,
     "metadata": {},
     "output_type": "execute_result"
    }
   ],
   "source": [
    "numprecios < 5000"
   ]
  },
  {
   "cell_type": "markdown",
   "metadata": {
    "collapsed": true
   },
   "source": [
    "Incluso podemos elegir subsecciones de acuerdo a las condiciones:"
   ]
  },
  {
   "cell_type": "code",
   "execution_count": 43,
   "metadata": {},
   "outputs": [
    {
     "data": {
      "text/plain": [
       "array([1])"
      ]
     },
     "execution_count": 43,
     "metadata": {},
     "output_type": "execute_result"
    }
   ],
   "source": [
    "matriz[matriz < 2]"
   ]
  },
  {
   "cell_type": "code",
   "execution_count": 45,
   "metadata": {},
   "outputs": [
    {
     "data": {
      "text/plain": [
       "array([4000])"
      ]
     },
     "execution_count": 45,
     "metadata": {},
     "output_type": "execute_result"
    }
   ],
   "source": [
    "numprecios[numprecios < 5000]"
   ]
  },
  {
   "cell_type": "code",
   "execution_count": 44,
   "metadata": {},
   "outputs": [
    {
     "data": {
      "text/plain": [
       "array([9000, 4000, 5000, 7000])"
      ]
     },
     "execution_count": 44,
     "metadata": {},
     "output_type": "execute_result"
    }
   ],
   "source": [
    "np.insert(numprecios,len(numprecios),7000)"
   ]
  },
  {
   "cell_type": "markdown",
   "metadata": {},
   "source": [
    "La línea anterior inserta un nuevo elemento al final del array. El primer argumento es el array que queremos modificar, el segundo es la posición dentro del array donde queremos colocar el elemento, y el último es el contenido a insertar.\n",
    "\n",
    "Para insertar al final automáticamente podemos usar directamente la función **append**:"
   ]
  },
  {
   "cell_type": "code",
   "execution_count": 46,
   "metadata": {},
   "outputs": [
    {
     "data": {
      "text/plain": [
       "array([9000, 4000, 5000, 8000])"
      ]
     },
     "execution_count": 46,
     "metadata": {},
     "output_type": "execute_result"
    }
   ],
   "source": [
    "np.append(numprecios, 8000)"
   ]
  },
  {
   "cell_type": "code",
   "execution_count": 47,
   "metadata": {},
   "outputs": [
    {
     "data": {
      "text/plain": [
       "array([9000])"
      ]
     },
     "execution_count": 47,
     "metadata": {},
     "output_type": "execute_result"
    }
   ],
   "source": [
    "np.delete(numprecios, [1,2]) # elimina los elementos en las posiciones 1 y 2 del array numprecios"
   ]
  },
  {
   "cell_type": "markdown",
   "metadata": {},
   "source": [
    "Podemos anexar listas completas de precios y construir una con todos los valores, concatenando cada array:"
   ]
  },
  {
   "cell_type": "code",
   "execution_count": 48,
   "metadata": {},
   "outputs": [
    {
     "data": {
      "text/plain": [
       "array([9000, 4000, 5000, 2000, 6000])"
      ]
     },
     "execution_count": 48,
     "metadata": {},
     "output_type": "execute_result"
    }
   ],
   "source": [
    "p = np.array([2000,6000])   # nuevos precios a anexar\n",
    "np.concatenate((numprecios, p))   # une las dos listas de precios "
   ]
  },
  {
   "cell_type": "markdown",
   "metadata": {},
   "source": [
    "Y una de las funciones más utiles, para dividir el la lista de elementos, es intuitivamnte la funcion **split**:"
   ]
  },
  {
   "cell_type": "code",
   "execution_count": 49,
   "metadata": {},
   "outputs": [
    {
     "data": {
      "text/plain": [
       "[array([1, 2, 3]), array([4, 5, 6]), array([7, 8, 9])]"
      ]
     },
     "execution_count": 49,
     "metadata": {},
     "output_type": "execute_result"
    }
   ],
   "source": [
    "np.split(x,3) "
   ]
  },
  {
   "cell_type": "markdown",
   "metadata": {},
   "source": [
    "Esta funcion divide el array en 3 sub arrays del mismo tamaño. Por lo que el segundo argumento debe ser un multiplo del tamaño total.\n",
    "\n",
    "Hay dos variantes de esta función: split horizontal y vertical. También debe usarse múltiplos de las dimensiones de los arrays para no obtener errores."
   ]
  },
  {
   "cell_type": "code",
   "execution_count": 50,
   "metadata": {},
   "outputs": [
    {
     "data": {
      "text/plain": [
       "[array([[ 1.5,  2. ,  3. ]]), array([[ 4.,  5.,  6.]])]"
      ]
     },
     "execution_count": 50,
     "metadata": {},
     "output_type": "execute_result"
    }
   ],
   "source": [
    "np.hsplit(b,3)  #completar explanation\n",
    "\n",
    "np.vsplit(b,2) #completar explanation"
   ]
  },
  {
   "cell_type": "markdown",
   "metadata": {},
   "source": [
    "## Pandas\n",
    "***\n",
    "\n",
    "Es conveniente contar con una estructura que nos pemita mantener nuestros datos de forma organizada, como una base de datos, tal como una tipica tabla en excel. \n",
    "Así podríamos tener, por ejemplo información como:\n",
    "\n",
    "| producto | precio | tienda | dirección | estacionamiento | punto |\n",
    "|--------------|----------------|----------------------------------|\n",
    "|arroz | 9000 |  los chinos de la esquina| Av 5 calle 10| False | True|"
   ]
  },
  {
   "cell_type": "markdown",
   "metadata": {},
   "source": [
    "Pandas es un paquete construido con base en los arrays de numpy, que provee una estrcutura con columnas y filas etiquetadas, llamadas dataframe, para manipular registros de datos, variables y valores de distintos tipos.\n",
    "\n",
    "Los datos que tenemos hasta los momentos de nuestras compras, formaban algunas variables:"
   ]
  },
  {
   "cell_type": "code",
   "execution_count": 51,
   "metadata": {
    "collapsed": true
   },
   "outputs": [],
   "source": [
    "nombres = [\"azucar\",\"arroz\",\"harina\", \"aceite\"]\n",
    "precios = [9850.5, 9000, 12000, 18000]\n",
    "\n",
    "tienda1 = \"los chinos de la esquina\"\n",
    "tienda2 = \"supermercado MUNDO\"\n",
    "tienda3 = \"Abasto el rey\"\n",
    "tienda4 = \"la bodega de Juan\"\n",
    "\n",
    "tiendas = [tienda1, tienda2, tienda3, tienda4]\n",
    "\n",
    "direcciones = [\"Avenida 5 CALLe 10\", \"av 4 calle 25 edif c\", \n",
    "               \"AV LORA CALLE 23\", \"av Don tulio edif Uno calle 32\"]\n",
    "\n",
    "# variables lógicas que indican False o True dependiendo \n",
    "# si hay o no estacionamiento o punto de venta en cada lugar.\n",
    "estacionamientos = [True, True, False, False]\n",
    "puntos = [True, False, True, False]\n",
    "\n",
    "# en forma de diccionario\n",
    "productos = {'azucar':9000.0, 'arroz':9850.5, 'harina':11000, 'aceite':12000, 'pasta':18000}"
   ]
  },
  {
   "cell_type": "markdown",
   "metadata": {},
   "source": [
    "***\n",
    "> *Intenta arreglar las direcciones para que tengan un formato estándar. Recuerda las funciones sobre **strings** que hemos visto antes.*\n",
    "\n",
    "***"
   ]
  },
  {
   "cell_type": "code",
   "execution_count": 52,
   "metadata": {},
   "outputs": [
    {
     "name": "stdout",
     "output_type": "stream",
     "text": [
      "['Avenida 5 Calle 10', 'Av 4 Calle 25 Edif C', 'Av Lora Calle 23', 'Av Don Tulio Edif Uno Calle 32']\n",
      "['Los Chinos De La Esquina', 'Supermercado Mundo', 'Abasto El Rey', 'La Bodega De Juan']\n"
     ]
    }
   ],
   "source": [
    "direcciones = [d.title() for d in direcciones]\n",
    "tiendas = [t.title() for t in tiendas]\n",
    "print(direcciones)\n",
    "print(tiendas)"
   ]
  },
  {
   "cell_type": "markdown",
   "metadata": {},
   "source": [
    "Es muy conveniente que tengamos organizados estos datos dentro de un **dataframe**. Esto permite además poder realizar una cantidad de operaciones y análisis estadísticos y descriptivos sobre los datos.\n",
    "\n",
    "Para crear un dataframe en pandas, primero debemos importar el paquete y luego usar la función **DataFrame()**:"
   ]
  },
  {
   "cell_type": "code",
   "execution_count": 53,
   "metadata": {
    "collapsed": true
   },
   "outputs": [],
   "source": [
    "import pandas as pd\n",
    "df = pd.DataFrame({'grupo': ['A', 'B', 'C', 'A', 'B', 'C'],\n",
    "                   'valor': [1, 2, 3, 4, 5, 6]})"
   ]
  },
  {
   "cell_type": "markdown",
   "metadata": {},
   "source": [
    "Nota que la estructura que recibe la función **DataFrame** es un diccionario de python, definido entre llaves con pares **clave:valor**.\n",
    "\n",
    "Igual que en un diccionario, podemos acceder a las columnas por medio de sus etiquetas o nombres:"
   ]
  },
  {
   "cell_type": "code",
   "execution_count": 54,
   "metadata": {
    "scrolled": true
   },
   "outputs": [
    {
     "data": {
      "text/plain": [
       "0    A\n",
       "1    B\n",
       "2    C\n",
       "3    A\n",
       "4    B\n",
       "5    C\n",
       "Name: grupo, dtype: object"
      ]
     },
     "execution_count": 54,
     "metadata": {},
     "output_type": "execute_result"
    }
   ],
   "source": [
    "df['grupo']"
   ]
  },
  {
   "cell_type": "markdown",
   "metadata": {},
   "source": [
    "Ademas las operaciones sobre lel contenido se hace de manera directa, por ejemplo, la suma de la columna \"valor\":"
   ]
  },
  {
   "cell_type": "code",
   "execution_count": 55,
   "metadata": {},
   "outputs": [
    {
     "data": {
      "text/plain": [
       "21"
      ]
     },
     "execution_count": 55,
     "metadata": {},
     "output_type": "execute_result"
    }
   ],
   "source": [
    "df['valor'].sum()"
   ]
  },
  {
   "cell_type": "markdown",
   "metadata": {},
   "source": [
    "Nota que esta función se aplica sobre el array de **numpy** resultante de la selección. \n",
    "\n",
    "Ademas, si se quiere aplicar operaciones según los grupos, podemos facilmente agrupar cada conjunto de datos y aplicar las funciones:"
   ]
  },
  {
   "cell_type": "code",
   "execution_count": 56,
   "metadata": {},
   "outputs": [
    {
     "data": {
      "text/html": [
       "<div>\n",
       "<style>\n",
       "    .dataframe thead tr:only-child th {\n",
       "        text-align: right;\n",
       "    }\n",
       "\n",
       "    .dataframe thead th {\n",
       "        text-align: left;\n",
       "    }\n",
       "\n",
       "    .dataframe tbody tr th {\n",
       "        vertical-align: top;\n",
       "    }\n",
       "</style>\n",
       "<table border=\"1\" class=\"dataframe\">\n",
       "  <thead>\n",
       "    <tr style=\"text-align: right;\">\n",
       "      <th></th>\n",
       "      <th>valor</th>\n",
       "    </tr>\n",
       "    <tr>\n",
       "      <th>grupo</th>\n",
       "      <th></th>\n",
       "    </tr>\n",
       "  </thead>\n",
       "  <tbody>\n",
       "    <tr>\n",
       "      <th>A</th>\n",
       "      <td>5</td>\n",
       "    </tr>\n",
       "    <tr>\n",
       "      <th>B</th>\n",
       "      <td>7</td>\n",
       "    </tr>\n",
       "    <tr>\n",
       "      <th>C</th>\n",
       "      <td>9</td>\n",
       "    </tr>\n",
       "  </tbody>\n",
       "</table>\n",
       "</div>"
      ],
      "text/plain": [
       "       valor\n",
       "grupo       \n",
       "A          5\n",
       "B          7\n",
       "C          9"
      ]
     },
     "execution_count": 56,
     "metadata": {},
     "output_type": "execute_result"
    }
   ],
   "source": [
    "df.groupby('grupo').sum()  # suma de los valores según los grupos"
   ]
  },
  {
   "cell_type": "markdown",
   "metadata": {},
   "source": [
    "En esta instrucción, primero agrupamos segun la variable \"grupo\" y a este resultado le aplicamos la función suma. Una función muy utilizada cuando se trabaja con categorías de datos y clasificaciones.\n",
    "\n",
    "Para crear el dataframe con nuestras compras, utilizamos las listas que y teniamos guardadas, como pares clave valor de la forma **'nombre-de-columna': variable**."
   ]
  },
  {
   "cell_type": "code",
   "execution_count": 57,
   "metadata": {
    "collapsed": true
   },
   "outputs": [],
   "source": [
    "compras = pd.DataFrame({'productos': nombres, 'precios': precios, 'tienda': tiendas,\n",
    "                        'direccion':direcciones, 'estacionamiento':estacionamientos,'punto':puntos})"
   ]
  },
  {
   "cell_type": "markdown",
   "metadata": {},
   "source": [
    "O de igual manera, podemos pasarle una lista con todas las listas de datos, y especificarle los nombres de las columnas:"
   ]
  },
  {
   "cell_type": "code",
   "execution_count": 58,
   "metadata": {},
   "outputs": [
    {
     "data": {
      "text/html": [
       "<div>\n",
       "<style>\n",
       "    .dataframe thead tr:only-child th {\n",
       "        text-align: right;\n",
       "    }\n",
       "\n",
       "    .dataframe thead th {\n",
       "        text-align: left;\n",
       "    }\n",
       "\n",
       "    .dataframe tbody tr th {\n",
       "        vertical-align: top;\n",
       "    }\n",
       "</style>\n",
       "<table border=\"1\" class=\"dataframe\">\n",
       "  <thead>\n",
       "    <tr style=\"text-align: right;\">\n",
       "      <th></th>\n",
       "      <th>producto</th>\n",
       "      <th>precio</th>\n",
       "      <th>tienda</th>\n",
       "      <th>direccion</th>\n",
       "      <th>estacionamiento</th>\n",
       "      <th>punto</th>\n",
       "    </tr>\n",
       "  </thead>\n",
       "  <tbody>\n",
       "    <tr>\n",
       "      <th>0</th>\n",
       "      <td>azucar</td>\n",
       "      <td>9850.5</td>\n",
       "      <td>Los Chinos De La Esquina</td>\n",
       "      <td>Avenida 5 Calle 10</td>\n",
       "      <td>True</td>\n",
       "      <td>True</td>\n",
       "    </tr>\n",
       "    <tr>\n",
       "      <th>1</th>\n",
       "      <td>arroz</td>\n",
       "      <td>9000.0</td>\n",
       "      <td>Supermercado Mundo</td>\n",
       "      <td>Av 4 Calle 25 Edif C</td>\n",
       "      <td>True</td>\n",
       "      <td>False</td>\n",
       "    </tr>\n",
       "    <tr>\n",
       "      <th>2</th>\n",
       "      <td>harina</td>\n",
       "      <td>12000.0</td>\n",
       "      <td>Abasto El Rey</td>\n",
       "      <td>Av Lora Calle 23</td>\n",
       "      <td>False</td>\n",
       "      <td>True</td>\n",
       "    </tr>\n",
       "    <tr>\n",
       "      <th>3</th>\n",
       "      <td>aceite</td>\n",
       "      <td>18000.0</td>\n",
       "      <td>La Bodega De Juan</td>\n",
       "      <td>Av Don Tulio Edif Uno Calle 32</td>\n",
       "      <td>False</td>\n",
       "      <td>False</td>\n",
       "    </tr>\n",
       "  </tbody>\n",
       "</table>\n",
       "</div>"
      ],
      "text/plain": [
       "  producto   precio                    tienda                       direccion  \\\n",
       "0   azucar   9850.5  Los Chinos De La Esquina              Avenida 5 Calle 10   \n",
       "1    arroz   9000.0        Supermercado Mundo            Av 4 Calle 25 Edif C   \n",
       "2   harina  12000.0             Abasto El Rey                Av Lora Calle 23   \n",
       "3   aceite  18000.0         La Bodega De Juan  Av Don Tulio Edif Uno Calle 32   \n",
       "\n",
       "   estacionamiento  punto  \n",
       "0             True   True  \n",
       "1             True  False  \n",
       "2            False   True  \n",
       "3            False  False  "
      ]
     },
     "execution_count": 58,
     "metadata": {},
     "output_type": "execute_result"
    }
   ],
   "source": [
    "compras = pd.DataFrame(list(zip(nombres, precios, tiendas, direcciones, estacionamientos,puntos)), \n",
    "                       columns=['producto', 'precio','tienda','direccion','estacionamiento','punto'])\n",
    "compras"
   ]
  },
  {
   "cell_type": "code",
   "execution_count": 59,
   "metadata": {},
   "outputs": [
    {
     "data": {
      "text/plain": [
       "0     9850.5\n",
       "1     9000.0\n",
       "2    12000.0\n",
       "3    18000.0\n",
       "Name: precio, dtype: float64"
      ]
     },
     "execution_count": 59,
     "metadata": {},
     "output_type": "execute_result"
    }
   ],
   "source": [
    "compras['precio'] # elige una columna por nombre"
   ]
  },
  {
   "cell_type": "code",
   "execution_count": 60,
   "metadata": {},
   "outputs": [
    {
     "data": {
      "text/html": [
       "<div>\n",
       "<style>\n",
       "    .dataframe thead tr:only-child th {\n",
       "        text-align: right;\n",
       "    }\n",
       "\n",
       "    .dataframe thead th {\n",
       "        text-align: left;\n",
       "    }\n",
       "\n",
       "    .dataframe tbody tr th {\n",
       "        vertical-align: top;\n",
       "    }\n",
       "</style>\n",
       "<table border=\"1\" class=\"dataframe\">\n",
       "  <thead>\n",
       "    <tr style=\"text-align: right;\">\n",
       "      <th></th>\n",
       "      <th>producto</th>\n",
       "      <th>precio</th>\n",
       "      <th>tienda</th>\n",
       "      <th>direccion</th>\n",
       "      <th>estacionamiento</th>\n",
       "      <th>punto</th>\n",
       "    </tr>\n",
       "  </thead>\n",
       "  <tbody>\n",
       "    <tr>\n",
       "      <th>1</th>\n",
       "      <td>arroz</td>\n",
       "      <td>9000.0</td>\n",
       "      <td>Supermercado Mundo</td>\n",
       "      <td>Av 4 Calle 25 Edif C</td>\n",
       "      <td>True</td>\n",
       "      <td>False</td>\n",
       "    </tr>\n",
       "    <tr>\n",
       "      <th>2</th>\n",
       "      <td>harina</td>\n",
       "      <td>12000.0</td>\n",
       "      <td>Abasto El Rey</td>\n",
       "      <td>Av Lora Calle 23</td>\n",
       "      <td>False</td>\n",
       "      <td>True</td>\n",
       "    </tr>\n",
       "  </tbody>\n",
       "</table>\n",
       "</div>"
      ],
      "text/plain": [
       "  producto   precio              tienda             direccion  \\\n",
       "1    arroz   9000.0  Supermercado Mundo  Av 4 Calle 25 Edif C   \n",
       "2   harina  12000.0       Abasto El Rey      Av Lora Calle 23   \n",
       "\n",
       "   estacionamiento  punto  \n",
       "1             True  False  \n",
       "2            False   True  "
      ]
     },
     "execution_count": 60,
     "metadata": {},
     "output_type": "execute_result"
    }
   ],
   "source": [
    "compras[1:3] # elige varias columnas por indices, subsección"
   ]
  },
  {
   "cell_type": "markdown",
   "metadata": {
    "collapsed": true
   },
   "source": [
    "Pandas incluye sus  propias funciones para lectura y escritura de archivos. Podemos leer un .csv con la función **read_csv**:"
   ]
  },
  {
   "cell_type": "code",
   "execution_count": 67,
   "metadata": {},
   "outputs": [
    {
     "data": {
      "text/html": [
       "<div>\n",
       "<style>\n",
       "    .dataframe thead tr:only-child th {\n",
       "        text-align: right;\n",
       "    }\n",
       "\n",
       "    .dataframe thead th {\n",
       "        text-align: left;\n",
       "    }\n",
       "\n",
       "    .dataframe tbody tr th {\n",
       "        vertical-align: top;\n",
       "    }\n",
       "</style>\n",
       "<table border=\"1\" class=\"dataframe\">\n",
       "  <thead>\n",
       "    <tr style=\"text-align: right;\">\n",
       "      <th></th>\n",
       "      <th>0</th>\n",
       "      <th>1</th>\n",
       "    </tr>\n",
       "  </thead>\n",
       "  <tbody>\n",
       "    <tr>\n",
       "      <th>0</th>\n",
       "      <td>carne</td>\n",
       "      <td>30000</td>\n",
       "    </tr>\n",
       "    <tr>\n",
       "      <th>1</th>\n",
       "      <td>jamón espalda</td>\n",
       "      <td>15000</td>\n",
       "    </tr>\n",
       "    <tr>\n",
       "      <th>2</th>\n",
       "      <td>detergente</td>\n",
       "      <td>12000</td>\n",
       "    </tr>\n",
       "    <tr>\n",
       "      <th>3</th>\n",
       "      <td>champú</td>\n",
       "      <td>18000</td>\n",
       "    </tr>\n",
       "  </tbody>\n",
       "</table>\n",
       "</div>"
      ],
      "text/plain": [
       "               0      1\n",
       "0          carne  30000\n",
       "1  jamón espalda  15000\n",
       "2     detergente  12000\n",
       "3         champú  18000"
      ]
     },
     "execution_count": 67,
     "metadata": {},
     "output_type": "execute_result"
    }
   ],
   "source": [
    "import pandas as pd"
   ]
  },
  {
   "cell_type": "code",
   "execution_count": 71,
   "metadata": {},
   "outputs": [
    {
     "data": {
      "text/html": [
       "<div>\n",
       "<style>\n",
       "    .dataframe thead tr:only-child th {\n",
       "        text-align: right;\n",
       "    }\n",
       "\n",
       "    .dataframe thead th {\n",
       "        text-align: left;\n",
       "    }\n",
       "\n",
       "    .dataframe tbody tr th {\n",
       "        vertical-align: top;\n",
       "    }\n",
       "</style>\n",
       "<table border=\"1\" class=\"dataframe\">\n",
       "  <thead>\n",
       "    <tr style=\"text-align: right;\">\n",
       "      <th></th>\n",
       "      <th>0</th>\n",
       "      <th>1</th>\n",
       "    </tr>\n",
       "  </thead>\n",
       "  <tbody>\n",
       "    <tr>\n",
       "      <th>0</th>\n",
       "      <td>carne</td>\n",
       "      <td>30000</td>\n",
       "    </tr>\n",
       "    <tr>\n",
       "      <th>1</th>\n",
       "      <td>jamón espalda</td>\n",
       "      <td>15000</td>\n",
       "    </tr>\n",
       "    <tr>\n",
       "      <th>2</th>\n",
       "      <td>detergente</td>\n",
       "      <td>12000</td>\n",
       "    </tr>\n",
       "    <tr>\n",
       "      <th>3</th>\n",
       "      <td>champú</td>\n",
       "      <td>18000</td>\n",
       "    </tr>\n",
       "  </tbody>\n",
       "</table>\n",
       "</div>"
      ],
      "text/plain": [
       "               0      1\n",
       "0          carne  30000\n",
       "1  jamón espalda  15000\n",
       "2     detergente  12000\n",
       "3         champú  18000"
      ]
     },
     "execution_count": 71,
     "metadata": {},
     "output_type": "execute_result"
    }
   ],
   "source": [
    "datos = pd.read_csv('source/compras.csv', header=None)\n",
    "datos"
   ]
  },
  {
   "cell_type": "markdown",
   "metadata": {
    "collapsed": true
   },
   "source": [
    "Ahora modificamos los datos:"
   ]
  },
  {
   "cell_type": "code",
   "execution_count": 72,
   "metadata": {
    "scrolled": true
   },
   "outputs": [
    {
     "data": {
      "text/html": [
       "<div>\n",
       "<style>\n",
       "    .dataframe thead tr:only-child th {\n",
       "        text-align: right;\n",
       "    }\n",
       "\n",
       "    .dataframe thead th {\n",
       "        text-align: left;\n",
       "    }\n",
       "\n",
       "    .dataframe tbody tr th {\n",
       "        vertical-align: top;\n",
       "    }\n",
       "</style>\n",
       "<table border=\"1\" class=\"dataframe\">\n",
       "  <thead>\n",
       "    <tr style=\"text-align: right;\">\n",
       "      <th></th>\n",
       "      <th>0</th>\n",
       "      <th>1</th>\n",
       "    </tr>\n",
       "  </thead>\n",
       "  <tbody>\n",
       "    <tr>\n",
       "      <th>0</th>\n",
       "      <td>carne</td>\n",
       "      <td>31000</td>\n",
       "    </tr>\n",
       "    <tr>\n",
       "      <th>1</th>\n",
       "      <td>jamón espalda</td>\n",
       "      <td>16000</td>\n",
       "    </tr>\n",
       "    <tr>\n",
       "      <th>2</th>\n",
       "      <td>detergente</td>\n",
       "      <td>13000</td>\n",
       "    </tr>\n",
       "    <tr>\n",
       "      <th>3</th>\n",
       "      <td>champú</td>\n",
       "      <td>19000</td>\n",
       "    </tr>\n",
       "  </tbody>\n",
       "</table>\n",
       "</div>"
      ],
      "text/plain": [
       "               0      1\n",
       "0          carne  31000\n",
       "1  jamón espalda  16000\n",
       "2     detergente  13000\n",
       "3         champú  19000"
      ]
     },
     "execution_count": 72,
     "metadata": {},
     "output_type": "execute_result"
    }
   ],
   "source": [
    "datos[1] = datos[1] + 1000\n",
    "datos"
   ]
  },
  {
   "cell_type": "markdown",
   "metadata": {
    "collapsed": true
   },
   "source": [
    "Y los guardamos nuevamente en el otro archivo con la funcion **to_csv**."
   ]
  },
  {
   "cell_type": "code",
   "execution_count": 73,
   "metadata": {
    "collapsed": true
   },
   "outputs": [],
   "source": [
    "datos.to_csv('source/dfcompras.csv', header= None, index=False, index_label=False, columns=None)"
   ]
  },
  {
   "cell_type": "markdown",
   "metadata": {},
   "source": [
    "De esta manera se reduce sustancialmente el código que hemos utilizado antes para lectura y escritura de archivos con las librerías básicas de Python."
   ]
  },
  {
   "cell_type": "code",
   "execution_count": 74,
   "metadata": {},
   "outputs": [
    {
     "data": {
      "text/html": [
       "<div>\n",
       "<style>\n",
       "    .dataframe thead tr:only-child th {\n",
       "        text-align: right;\n",
       "    }\n",
       "\n",
       "    .dataframe thead th {\n",
       "        text-align: left;\n",
       "    }\n",
       "\n",
       "    .dataframe tbody tr th {\n",
       "        vertical-align: top;\n",
       "    }\n",
       "</style>\n",
       "<table border=\"1\" class=\"dataframe\">\n",
       "  <thead>\n",
       "    <tr style=\"text-align: right;\">\n",
       "      <th></th>\n",
       "      <th>0</th>\n",
       "      <th>1</th>\n",
       "    </tr>\n",
       "  </thead>\n",
       "  <tbody>\n",
       "    <tr>\n",
       "      <th>0</th>\n",
       "      <td>carne</td>\n",
       "      <td>31000</td>\n",
       "    </tr>\n",
       "    <tr>\n",
       "      <th>1</th>\n",
       "      <td>jamón espalda</td>\n",
       "      <td>16000</td>\n",
       "    </tr>\n",
       "    <tr>\n",
       "      <th>2</th>\n",
       "      <td>detergente</td>\n",
       "      <td>13000</td>\n",
       "    </tr>\n",
       "    <tr>\n",
       "      <th>3</th>\n",
       "      <td>champú</td>\n",
       "      <td>19000</td>\n",
       "    </tr>\n",
       "  </tbody>\n",
       "</table>\n",
       "</div>"
      ],
      "text/plain": [
       "               0      1\n",
       "0          carne  31000\n",
       "1  jamón espalda  16000\n",
       "2     detergente  13000\n",
       "3         champú  19000"
      ]
     },
     "execution_count": 74,
     "metadata": {},
     "output_type": "execute_result"
    }
   ],
   "source": [
    "datos = pd.read_csv('source/dfcompras.csv', header=None)\n",
    "datos"
   ]
  },
  {
   "cell_type": "markdown",
   "metadata": {
    "collapsed": true
   },
   "source": [
    "## Matplotlib"
   ]
  },
  {
   "cell_type": "markdown",
   "metadata": {},
   "source": [
    "Cuando tenemos un conjunto de datos y además queremos analizarlo, una de las primeras cosas que podemos hacer es construir gráficos para visualizar su forma y comportamiento. Es la mejor forma de iniciar análisis descriptivos que nos ayuden a tener una idea clara de cuáles serán los próximos pasos de nuestro estudio.\n",
    "\n",
    "Matplotlib es una librería de Python capaz de generar gráficos en dos dimensiones, con excelente calidad, sin exagerar en la cantidad de código e instrucciones que debes usar. Además, Matplotlib se integra sin problemas con arrays de Numpy y dataframes de Pandas.\n",
    "\n",
    "Pyplot es un módulo de Matplotlib que genera gráficos similares a la plataforma de cálculo matemático MATLAB. Para usar estas funcionalidades, importamos el módulo como:"
   ]
  },
  {
   "cell_type": "code",
   "execution_count": 75,
   "metadata": {
    "collapsed": true
   },
   "outputs": [],
   "source": [
    "import matplotlib.pyplot as plt"
   ]
  },
  {
   "cell_type": "markdown",
   "metadata": {
    "collapsed": true
   },
   "source": [
    "Con la función **plot** generamos nuestro primer gráfico, usando una lista de puntos *[1,2,3,4]*:"
   ]
  },
  {
   "cell_type": "code",
   "execution_count": 76,
   "metadata": {},
   "outputs": [
    {
     "data": {
      "text/plain": [
       "[<matplotlib.lines.Line2D at 0x7f757e2542b0>]"
      ]
     },
     "execution_count": 76,
     "metadata": {},
     "output_type": "execute_result"
    }
   ],
   "source": [
    "plt.plot([1,2,3,4])"
   ]
  },
  {
   "cell_type": "markdown",
   "metadata": {},
   "source": [
    "En este punto no se visualiza aun el gráfico, sólo generamos el objeto 2D. la función **show** despliega el resultado:"
   ]
  },
  {
   "cell_type": "code",
   "execution_count": 77,
   "metadata": {
    "scrolled": false
   },
   "outputs": [
    {
     "data": {
      "image/png": "[encoded data removed]",
      "text/plain": [
       "<matplotlib.figure.Figure at 0x7f757e4ef7f0>"
      ]
     },
     "metadata": {},
     "output_type": "display_data"
    }
   ],
   "source": [
    "plt.show()"
   ]
  },
  {
   "cell_type": "markdown",
   "metadata": {},
   "source": [
    "Un gráfico en dos dimensiones se compone de coordenadas *x* en el eje horizontal y *y* en el vertical. La función **plot** recibe el conjunto de puntos para cada una, pero en este caso introducimos sólo un vector. Pyplot asume que el vector numérico corresponde a las coordenadas **y**, y genera automáticamente valores para el eje **x**.\n",
    "\n",
    "Si especificamos ambas coordenadas, el primer vector será **x** y el segundo **y**. Adicionalmente podemos especificar un tercer argumento para modificar el color y el estilo de la línea:"
   ]
  },
  {
   "cell_type": "code",
   "execution_count": 78,
   "metadata": {},
   "outputs": [
    {
     "data": {
      "text/plain": [
       "[<matplotlib.lines.Line2D at 0x7f757bac91d0>]"
      ]
     },
     "execution_count": 78,
     "metadata": {},
     "output_type": "execute_result"
    }
   ],
   "source": [
    "x = np.arange(1,20)    # array de numpy con números de 1 a 19\n",
    "y = x ** 2             # 'y' contiene los elementos de 'x' al cuadrado\n",
    "plt.plot(x,y,'ro')"
   ]
  },
  {
   "cell_type": "markdown",
   "metadata": {},
   "source": [
    "El argumento **'ro'** establece el color, seguido del tipo de línea, en este caso **red** y **o** (puntos o círculos)."
   ]
  },
  {
   "cell_type": "code",
   "execution_count": 79,
   "metadata": {
    "scrolled": true
   },
   "outputs": [
    {
     "data": {
      "image/png": "[encoded data removed]",
      "text/plain": [
       "<matplotlib.figure.Figure at 0x7f757bb87ef0>"
      ]
     },
     "metadata": {},
     "output_type": "display_data"
    }
   ],
   "source": [
    "plt.show()"
   ]
  },
  {
   "cell_type": "markdown",
   "metadata": {},
   "source": [
    "Otros estilos de líneas que puedes utilizar son:\n",
    "\n",
    "+ Cuadrados: **'s'**\n",
    "+ Triángulos: **'^'**\n",
    "+ Líneas discontínuas: **'--'**\n",
    "\n",
    "Por defecto la función **plot** usa **'b-'**, (línea contínua azul)."
   ]
  },
  {
   "cell_type": "code",
   "execution_count": 80,
   "metadata": {},
   "outputs": [
    {
     "data": {
      "text/plain": [
       "[0, 6, 0, 20]"
      ]
     },
     "execution_count": 80,
     "metadata": {},
     "output_type": "execute_result"
    }
   ],
   "source": [
    "plt.plot(x,y,'go')    # Color verde (green) con puntos\n",
    "plt.ylabel(\"f(x)\")    # Etiqueta o nombre para el eje vertical\n",
    "plt.xlabel('x')       # Etiqueta o nombre para el eje horizontal\n",
    "plt.axis([0,6,0,20])  # Rangos para los ejes"
   ]
  },
  {
   "cell_type": "markdown",
   "metadata": {},
   "source": [
    "Con **ylabel** y **xlabel** se definen los nombres de los ejes de coordenadas. El vector *[0, 6, 0, 20]* se usa para establecer los límites de cada eje: los dos primeros valores para **x**, los dos segundos para **y**."
   ]
  },
  {
   "cell_type": "code",
   "execution_count": 81,
   "metadata": {},
   "outputs": [
    {
     "data": {
      "image/png": "[encoded data removed]",
      "text/plain": [
       "<matplotlib.figure.Figure at 0x7f757bb942b0>"
      ]
     },
     "metadata": {},
     "output_type": "display_data"
    }
   ],
   "source": [
    "plt.show()"
   ]
  },
  {
   "cell_type": "markdown",
   "metadata": {},
   "source": [
    "Para comparar varias curvas en un mismo gráfico, es tan simple como colocar en llamada de **plot** cada par de coordenadas:"
   ]
  },
  {
   "cell_type": "code",
   "execution_count": 82,
   "metadata": {
    "scrolled": true
   },
   "outputs": [
    {
     "data": {
      "image/png": "[encoded data removed]",
      "text/plain": [
       "<matplotlib.figure.Figure at 0x7f757ba2be80>"
      ]
     },
     "metadata": {},
     "output_type": "display_data"
    }
   ],
   "source": [
    "plt.plot(x, x, 'ro', x, y,'gs', x, y-25, 'y^')\n",
    "plt.show()"
   ]
  },
  {
   "cell_type": "markdown",
   "metadata": {},
   "source": [
    "\n",
    "***\n",
    "> Escribe el código para graficar los precios que tenemos hasta ahora de nuestras compras! Usa los colores y formas que desees. (El argumento **linewidth** aumenta o disminuye el grosor de la línea según números reales).\n",
    "\n",
    "***"
   ]
  },
  {
   "cell_type": "code",
   "execution_count": 83,
   "metadata": {},
   "outputs": [
    {
     "data": {
      "image/png": "[encoded data removed]",
      "text/plain": [
       "<matplotlib.figure.Figure at 0x7f757ba05cf8>"
      ]
     },
     "metadata": {},
     "output_type": "display_data"
    }
   ],
   "source": [
    "plt.plot(precios)\n",
    "plt.show()"
   ]
  },
  {
   "cell_type": "markdown",
   "metadata": {},
   "source": [
    "El eje x generado automáticamente no es explicativo para el tipo de datos que tenemos. Preferiríamos que aparecieran los nombres de cada producto segun el precio que les corresponde. Para agregar estas etiquetas, la función **xticks** construye la estructura haciendo uso de la lista de nombres y la cantidad de elementos que tengamos:"
   ]
  },
  {
   "cell_type": "code",
   "execution_count": 84,
   "metadata": {},
   "outputs": [
    {
     "data": {
      "text/plain": [
       "([<matplotlib.axis.XTick at 0x7f757b86eb00>,\n",
       "  <matplotlib.axis.XTick at 0x7f757b858f98>,\n",
       "  <matplotlib.axis.XTick at 0x7f757b858ba8>,\n",
       "  <matplotlib.axis.XTick at 0x7f757b838ef0>],\n",
       " <a list of 4 Text xticklabel objects>)"
      ]
     },
     "execution_count": 84,
     "metadata": {},
     "output_type": "execute_result"
    }
   ],
   "source": [
    "plt.plot(precios, 'ro')\n",
    "plt.xticks(np.arange(len(nombres)),nombres)"
   ]
  },
  {
   "cell_type": "code",
   "execution_count": 85,
   "metadata": {
    "scrolled": true
   },
   "outputs": [
    {
     "data": {
      "image/png": "[encoded data removed]",
      "text/plain": [
       "<matplotlib.figure.Figure at 0x7f757b8ac588>"
      ]
     },
     "metadata": {},
     "output_type": "display_data"
    }
   ],
   "source": [
    "plt.show()"
   ]
  },
  {
   "cell_type": "markdown",
   "metadata": {},
   "source": [
    "Aunque es evidente la diferencia de los precios entre cada producto, el uso de puntos no para visualizar no es muy conveniente. Este tipo de datos podemos observarlo de mejor manera con un gráfico de barras:"
   ]
  },
  {
   "cell_type": "code",
   "execution_count": 86,
   "metadata": {
    "scrolled": true
   },
   "outputs": [
    {
     "data": {
      "image/png": "[encoded data removed]",
      "text/plain": [
       "<matplotlib.figure.Figure at 0x7f757b86c438>"
      ]
     },
     "metadata": {},
     "output_type": "display_data"
    }
   ],
   "source": [
    "plt.bar(np.arange(len(nombres)),precios)\n",
    "plt.xticks(np.arange(len(nombres)),nombres)\n",
    "plt.show()"
   ]
  },
  {
   "cell_type": "markdown",
   "metadata": {},
   "source": [
    "La función **bar** recibe un conjunto de números que indican el inicio de cada barra en el eje **x**, además de los valores para la altura de cada barra. En nuestro caso, creamos un rango de número según la cantidad de productos que tenemos usando ``np.arange(len(nombres))``: [0,1,2,3].\n",
    "\n",
    "Aprovechemos de usar nuestro *dataframe* **compras** para extraer los precios y nombres para el gráfico, y confirmar que obtenemos el mismo resultado:"
   ]
  },
  {
   "cell_type": "code",
   "execution_count": 87,
   "metadata": {
    "scrolled": true
   },
   "outputs": [
    {
     "data": {
      "image/png": "[encoded data removed]",
      "text/plain": [
       "<matplotlib.figure.Figure at 0x7f757b808780>"
      ]
     },
     "metadata": {},
     "output_type": "display_data"
    }
   ],
   "source": [
    "xcoordenadas = np.arange(len(compras['producto'])) # coordenadas para el eje x\n",
    "plt.bar(xcoordenadas,compras['precio'], tick_label = compras['producto'])  # generando el gráfico de barras\n",
    "plt.show()"
   ]
  },
  {
   "cell_type": "markdown",
   "metadata": {},
   "source": [
    "Nota que las etiquetas para el eje **x** también pueden especificarse dentro de la función **bar**, por medio del argumento **tick_label**, sin necesidad de usar separadamente la instrucción **xticks**."
   ]
  },
  {
   "cell_type": "markdown",
   "metadata": {},
   "source": [
    "Si queremos comparar las proporciones que ocupan cada producto según su precio, podemos usar un gŕafico de torta o \"pie\":"
   ]
  },
  {
   "cell_type": "code",
   "execution_count": 88,
   "metadata": {},
   "outputs": [
    {
     "data": {
      "text/plain": [
       "([<matplotlib.patches.Wedge at 0x7f757b6791d0>,\n",
       "  <matplotlib.patches.Wedge at 0x7f757b679e10>,\n",
       "  <matplotlib.patches.Wedge at 0x7f757b682a90>,\n",
       "  <matplotlib.patches.Wedge at 0x7f757b68a710>],\n",
       " [<matplotlib.text.Text at 0x7f757b679940>,\n",
       "  <matplotlib.text.Text at 0x7f757b6825c0>,\n",
       "  <matplotlib.text.Text at 0x7f757b68a240>,\n",
       "  <matplotlib.text.Text at 0x7f757b68ae80>])"
      ]
     },
     "execution_count": 88,
     "metadata": {},
     "output_type": "execute_result"
    }
   ],
   "source": [
    "plt.pie(compras['precio'], labels=compras['producto'])"
   ]
  },
  {
   "cell_type": "code",
   "execution_count": 89,
   "metadata": {
    "scrolled": true
   },
   "outputs": [
    {
     "data": {
      "image/png": "[encoded data removed]",
      "text/plain": [
       "<matplotlib.figure.Figure at 0x7f757b77a828>"
      ]
     },
     "metadata": {},
     "output_type": "display_data"
    }
   ],
   "source": [
    "plt.show()"
   ]
  },
  {
   "cell_type": "markdown",
   "metadata": {},
   "source": [
    "Podemos incluso colocar varias figuras en un mismo espacio. Con la función **subplots** definimos el número de columnas o filas de nuestro espacio. Esta función genera los ejes en los cuales podemos graficar (los llamamos *eje0* y *eje1*). Luego en cada uno de estos ejes producimos las figuras que queremos:"
   ]
  },
  {
   "cell_type": "code",
   "execution_count": 90,
   "metadata": {},
   "outputs": [
    {
     "data": {
      "image/png": "[encoded data removed]",
      "text/plain": [
       "<matplotlib.figure.Figure at 0x7f757b8582e8>"
      ]
     },
     "metadata": {},
     "output_type": "display_data"
    }
   ],
   "source": [
    "figura, (eje0, eje1) = plt.subplots(ncols = 2)\n",
    "eje0.bar(xcoordenadas,compras['precio'], tick_label = compras['producto'])\n",
    "eje1.pie(compras['precio'], labels=compras['producto'])\n",
    "\n",
    "plt.show()"
   ]
  },
  {
   "cell_type": "markdown",
   "metadata": {},
   "source": [
    "Para construir estructuras más avanzadas como en la imagen siguiente, se puede usar la función **subplot2grid**:\n",
    "\n",
    "![Grid de gŕaficos](images/027-subplot2grid.png)"
   ]
  },
  {
   "cell_type": "markdown",
   "metadata": {},
   "source": [
    "| [Atrás](Módulo III - 02 - Introducción al Control de Versiones con Git.ipynb) | [Inicio](00 - Contenido.ipynb) | [Siguiente](Módulo IV - 02 - Introducción a Jupyter Notebook.ipynb)"
   ]
  }
 ],
 "metadata": {
  "kernelspec": {
   "display_name": "Python 3",
   "language": "python",
   "name": "python3"
  },
  "language_info": {
   "codemirror_mode": {
    "name": "ipython",
    "version": 3
   },
   "file_extension": ".py",
   "mimetype": "text/x-python",
   "name": "python",
   "nbconvert_exporter": "python",
   "pygments_lexer": "ipython3",
   "version": "3.6.1"
  }
 },
 "nbformat": 4,
 "nbformat_minor": 2
}
