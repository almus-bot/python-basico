{
 "cells": [
  {
   "cell_type": "markdown",
   "metadata": {},
   "source": [
    "# Módulo III: Funciones, lectura y escritura de archivos\n",
    "***\n"
   ]
  },
  {
   "cell_type": "markdown",
   "metadata": {},
   "source": [
    "## Sesión a"
   ]
  },
  {
   "cell_type": "markdown",
   "metadata": {},
   "source": [
    "### Funciones en Python\n",
    "***\n",
    "Le llamamos función a bloques de código que agrupamos y definimos mediante un nombre, y que podemos usar \"llamándola\" luego en nuestros *script* cuando queramos. Estos bloques ayudan a tener organizado nuestro código, encapsulando tareas que usamos repetitivamente sobre distintos objetos sin necesidad de replicar todas las instrucciones cada vez.\n",
    "\n",
    "Cuando escribimos **print()** o **len()** estamos haciendo uso de funciones nativas de Python. Nota que la \"llamada\" se hace con el uso de paréntesis."
   ]
  },
  {
   "cell_type": "code",
   "execution_count": 1,
   "metadata": {},
   "outputs": [
    {
     "name": "stdout",
     "output_type": "stream",
     "text": [
      "hello\n"
     ]
    },
    {
     "data": {
      "text/plain": [
       "4"
      ]
     },
     "execution_count": 1,
     "metadata": {},
     "output_type": "execute_result"
    }
   ],
   "source": [
    "print(\"hello\")\n",
    "L = [1,2,3,4]\n",
    "len(L)"
   ]
  },
  {
   "cell_type": "markdown",
   "metadata": {},
   "source": [
    "Las funciones reciben los objetos que procesarán dentro de los paréntesis, a estos se les llama **argumentos** de la función. En Python, al contrario de otros lenguajes, no es necesario especificar con antelación qué tipo de variables necesita como argumentos de entrada, ni el tipo de variable de salida que tendrá la función."
   ]
  },
  {
   "cell_type": "code",
   "execution_count": 2,
   "metadata": {},
   "outputs": [
    {
     "name": "stdout",
     "output_type": "stream",
     "text": [
      "hello-1-world\n"
     ]
    }
   ],
   "source": [
    "print (\"hello\", 1, \"world\", sep =\"-\")"
   ]
  },
  {
   "cell_type": "markdown",
   "metadata": {},
   "source": [
    "Podemos definir nuestras propias funciones con la sentencia **def**:\n",
    "\n",
    "```python\n",
    "def mi_funcion(n):\n",
    "```\n",
    "Aquí, **mi_funcion** es el nombre de la función que crearemos, y es el mismo nombre a través del cuál haremos uso de ella. Definimos un argumento **n** que debe recibir la función para procesar dentro del código. Podemos definir cuantos argumentos necesitemos. Antes de comenzar con el bloque de código, debemos colocar los dos puntos al final de la definición. \n",
    "\n",
    "Por ejemplo, podemos encapsular en una función el código que utlizamos para imprimir todos los productos en nuestra lista de compras:"
   ]
  },
  {
   "cell_type": "code",
   "execution_count": 1,
   "metadata": {
    "collapsed": true
   },
   "outputs": [],
   "source": [
    "def listar_productos(productos):\n",
    "    print(\"Producto = Precio\")\n",
    "    for i in productos:\n",
    "        print(i,\" = \", productos[i])"
   ]
  },
  {
   "cell_type": "markdown",
   "metadata": {},
   "source": [
    "El bloque de código dentro de la función debe estar indentado, es decir, se debe comenzar el bloque con el espaciado correspondiente. Ahora podemos hacer uso de la función que definimos:"
   ]
  },
  {
   "cell_type": "code",
   "execution_count": 2,
   "metadata": {},
   "outputs": [
    {
     "name": "stdout",
     "output_type": "stream",
     "text": [
      "Producto = Precio\n",
      "azucar  =  9000.0\n",
      "arroz  =  9850.5\n",
      "harina  =  11000\n",
      "aceite  =  12000\n",
      "pasta  =  18000\n"
     ]
    }
   ],
   "source": [
    "productos = {'azucar':9000.0, 'arroz':9850.5, 'harina':11000, 'aceite':12000, 'pasta':18000}\n",
    "listar_productos(productos)"
   ]
  },
  {
   "cell_type": "markdown",
   "metadata": {},
   "source": [
    "Vamos a calcular el precio promedio de todos los productos que hemos comprado hasta ahora. Creamos una función para ello:"
   ]
  },
  {
   "cell_type": "code",
   "execution_count": 6,
   "metadata": {
    "collapsed": true
   },
   "outputs": [],
   "source": [
    "def promedio(productos):\n",
    "    promedio =  sum(productos.values()) / len(productos)\n",
    "    return promedio"
   ]
  },
  {
   "cell_type": "markdown",
   "metadata": {},
   "source": [
    "La sentencia **return** indica cuál es la variable que nos va a entregar nuestra función como resultado. Si no especificamos esto, la función nos dará una variable del tipo *None* de forma predeterminada."
   ]
  },
  {
   "cell_type": "code",
   "execution_count": 7,
   "metadata": {},
   "outputs": [
    {
     "data": {
      "text/plain": [
       "11970.1"
      ]
     },
     "execution_count": 7,
     "metadata": {},
     "output_type": "execute_result"
    }
   ],
   "source": [
    "promedio(productos)"
   ]
  },
  {
   "cell_type": "markdown",
   "metadata": {},
   "source": [
    "Nota que el nombre de la variable que le estamos pasando a la función no necesariamente tiene que ser igual que el nombre del argumento definido."
   ]
  },
  {
   "cell_type": "code",
   "execution_count": 8,
   "metadata": {},
   "outputs": [
    {
     "name": "stdout",
     "output_type": "stream",
     "text": [
      "{0: 0, 1: 1, 2: 2, 3: 3, 4: 4}\n"
     ]
    },
    {
     "data": {
      "text/plain": [
       "2.0"
      ]
     },
     "execution_count": 8,
     "metadata": {},
     "output_type": "execute_result"
    }
   ],
   "source": [
    "otro_dict = {i:i for i in range (5)}\n",
    "print(otro_dict)\n",
    "resultado = promedio(otro_dict)\n",
    "resultado"
   ]
  },
  {
   "cell_type": "markdown",
   "metadata": {},
   "source": [
    "Si necesitamos que nuestra función nos regrese varios valores, podemos usar alguna estructura de datos como tuplas."
   ]
  },
  {
   "cell_type": "code",
   "execution_count": 9,
   "metadata": {
    "collapsed": true
   },
   "outputs": [],
   "source": [
    "def resumen(productos):\n",
    "    promedio =  sum(productos.values()) / len(productos)\n",
    "    maximo = max(productos.values())\n",
    "    return promedio, maximo     # devuelve dos valores en forma de tupla"
   ]
  },
  {
   "cell_type": "markdown",
   "metadata": {},
   "source": [
    "Ahora podemos hacer uso de esta función modificada. Almacenamos los resultados en dos variables distintas (formada como una tupla)."
   ]
  },
  {
   "cell_type": "code",
   "execution_count": 10,
   "metadata": {},
   "outputs": [
    {
     "name": "stdout",
     "output_type": "stream",
     "text": [
      "11970.1\n",
      "18000\n"
     ]
    }
   ],
   "source": [
    "precio_promedio , precio_maximo = resumen(productos)  # almacenamos simultáneamente los resultados\n",
    "print(precio_promedio)\n",
    "print(precio_maximo)"
   ]
  },
  {
   "cell_type": "markdown",
   "metadata": {},
   "source": [
    "## Sesión b\n"
   ]
  },
  {
   "cell_type": "markdown",
   "metadata": {},
   "source": [
    "### Lectura y escritura de archivos\n",
    "***\n",
    "\n",
    "Hasta los momentos hemos estado trabajando con datos que introducimos manualmente en variables. Con seguridad, \n",
    "lo mas frecuente es tener información almacenada en archivos de texto, como hojas de excel o texto simple, o que los datos estén alojados en la web, en distintos formatos como HTML y JSON. \n",
    "\n",
    "Python incluye librerías para manipular distintos tipos de archivos y extrar datos para usarlos dentro de nuestros programas. Para leer un archivo usamos la instrucción:"
   ]
  },
  {
   "cell_type": "code",
   "execution_count": 11,
   "metadata": {
    "collapsed": true
   },
   "outputs": [],
   "source": [
    "# Abriendo la conexión al archivo en modo \"lectura\"\n",
    "f = open('compras.txt', 'r')"
   ]
  },
  {
   "cell_type": "markdown",
   "metadata": {},
   "source": [
    "La función **open()** crea una conexión para manipular el archivo *\"compras.txt\"*. El argumento **'r'** indica que podemos acceder a él sólo en modo lectura."
   ]
  },
  {
   "cell_type": "code",
   "execution_count": 12,
   "metadata": {},
   "outputs": [
    {
     "data": {
      "text/plain": [
       "['carne 30000\\n',\n",
       " 'jamón 15000\\n',\n",
       " 'detergente 12000\\n',\n",
       " 'champú 18000\\n',\n",
       " 'refresco 8000\\n',\n",
       " 'leche 6000\\n']"
      ]
     },
     "execution_count": 12,
     "metadata": {},
     "output_type": "execute_result"
    }
   ],
   "source": [
    "# leyendo el contenido del archivo (cada línea)\n",
    "contenido = f.readlines()\n",
    "contenido"
   ]
  },
  {
   "cell_type": "markdown",
   "metadata": {},
   "source": [
    "Usando el manejador del archivo, que llamamos **f**, podemos aplicar variadas funciones. En este caso leemos todas las líneas que contiene el archivo, con la funcion **readlines()**, y las guardamos en una nueva variable.\n",
    "\n",
    "Otras funciones para leer el contenido del archivo son:\n",
    "\n",
    "+ **readline()** que sólo lee una línea a la vez.\n",
    "+ **read()** que lee ....."
   ]
  },
  {
   "cell_type": "markdown",
   "metadata": {},
   "source": [
    "El archivo contiene una lista de productos con sus respectivos precios. Podemos manipular estas cadenas de texto y crear variables para realizar operaciones sobre los datos. Primero eliminaremos el caracter \"\\n\", que representa un salto de línea o \"enter\" dentro del texto."
   ]
  },
  {
   "cell_type": "code",
   "execution_count": 13,
   "metadata": {
    "collapsed": true
   },
   "outputs": [],
   "source": [
    "# eliminando el caracter \\n  (nueva línea o enter)\n",
    "for i in range(len(contenido)):\n",
    "    contenido[i] = contenido[i].replace(\"\\n\",\"\")"
   ]
  },
  {
   "cell_type": "markdown",
   "metadata": {},
   "source": [
    "Ya hemos visto anteriormente el uso de la función **replace** dentro de las cadenas de texto. Ahora que tenemos el texto sin saltos de líneas, podemos separar los nombres de los productos y los precios:"
   ]
  },
  {
   "cell_type": "code",
   "execution_count": 14,
   "metadata": {
    "collapsed": true
   },
   "outputs": [],
   "source": [
    "# separando nombres de precios (lista de listas)\n",
    "prod = [p.split() for p in contenido]"
   ]
  },
  {
   "cell_type": "markdown",
   "metadata": {},
   "source": [
    "La lista contiene tuplas con el nombre y el precio de cada producto. En algunos casos obtendremos elementos no deseados como listas o tuplas vacías que no son de interés:"
   ]
  },
  {
   "cell_type": "code",
   "execution_count": 15,
   "metadata": {},
   "outputs": [
    {
     "data": {
      "text/plain": [
       "[['carne', '30000'],\n",
       " ['jamón', '15000'],\n",
       " ['detergente', '12000'],\n",
       " ['champú', '18000'],\n",
       " ['refresco', '8000'],\n",
       " ['leche', '6000']]"
      ]
     },
     "execution_count": 15,
     "metadata": {},
     "output_type": "execute_result"
    }
   ],
   "source": [
    "# eliminando las listas sin contenido (vacías)\n",
    "for i in range(len(prod)):\n",
    "    if len(prod[i]) == 0: prod.pop(i)\n",
    "prod"
   ]
  },
  {
   "cell_type": "markdown",
   "metadata": {},
   "source": [
    "Fácilmente podemos obtener el diccionario de productos como el que hemos trabajado antes:"
   ]
  },
  {
   "cell_type": "code",
   "execution_count": 16,
   "metadata": {},
   "outputs": [
    {
     "data": {
      "text/plain": [
       "{'carne': 30000.0,\n",
       " 'champú': 18000.0,\n",
       " 'detergente': 12000.0,\n",
       " 'jamón': 15000.0,\n",
       " 'leche': 6000.0,\n",
       " 'refresco': 8000.0}"
      ]
     },
     "execution_count": 16,
     "metadata": {},
     "output_type": "execute_result"
    }
   ],
   "source": [
    "# creando el diccionario\n",
    "productos2 = {i[0]:float(i[1]) for i in prod}\n",
    "productos2"
   ]
  },
  {
   "cell_type": "markdown",
   "metadata": {},
   "source": [
    "Ahora tenemos otro diccionario con productos adicionales. ¿Cómo combinamos esta nueva lista con los productos que ya teníamos? La función **update()** permite modificar los valores de un diccionario y agregar nuevos elementos:"
   ]
  },
  {
   "cell_type": "code",
   "execution_count": 18,
   "metadata": {
    "scrolled": true
   },
   "outputs": [
    {
     "data": {
      "text/plain": [
       "{'aceite': 12000,\n",
       " 'arroz': 9850.5,\n",
       " 'azucar': 9000.0,\n",
       " 'carne': 30000.0,\n",
       " 'champú': 18000.0,\n",
       " 'detergente': 12000.0,\n",
       " 'harina': 11000,\n",
       " 'jamón': 15000.0,\n",
       " 'leche': 6000.0,\n",
       " 'pasta': 18000,\n",
       " 'refresco': 8000.0}"
      ]
     },
     "execution_count": 18,
     "metadata": {},
     "output_type": "execute_result"
    }
   ],
   "source": [
    "# los productos que ya teníamos\n",
    "productos = {'azucar':9000.0, 'arroz':9850.5, 'harina':11000, 'aceite':12000, 'pasta':18000}\n",
    "\n",
    "# ¿cómo combinamos los dos?\n",
    "productos.update(productos2)\n",
    "productos"
   ]
  },
  {
   "cell_type": "markdown",
   "metadata": {},
   "source": [
    "Es importante que una vez que terminemos de trabajar con el archivo, cerremos la conexión del mismo. La función **close()** hace el trabajo:"
   ]
  },
  {
   "cell_type": "code",
   "execution_count": 19,
   "metadata": {
    "collapsed": true
   },
   "outputs": [],
   "source": [
    "# cerramos la conexion al archivo\n",
    "f.close()"
   ]
  },
  {
   "cell_type": "markdown",
   "metadata": {},
   "source": [
    "Para agregar más productos a nuestra lista, pero dentro del archivo de texto, usamos la función **write()**, sobre el manejador de archivos **f**. En este caso usamos la sentencia **with**, que permite usar **f** sin necesidad de cerrar la conexión explícitamente al terminar de utilizarlo:"
   ]
  },
  {
   "cell_type": "code",
   "execution_count": 20,
   "metadata": {
    "collapsed": true
   },
   "outputs": [],
   "source": [
    "# abriendo la conexión al archivo en modo \"append\" para anexar datos al final\n",
    "with open('compras.txt', 'a') as f:\n",
    "    f.write(\"leche 6000\\n\")    # escribe la nueva línea al final del archivo"
   ]
  },
  {
   "cell_type": "markdown",
   "metadata": {},
   "source": [
    "En la función **open**, usamos el parámetro **'a'**, para indicar que el archivo esté preparado sólo para anexar líneas al final del mismo.\n",
    "\n",
    "La función **write** permite escribir cualquier cadena de caracteres al archivo de texto. Nota que la línea **\"leche 6000\\n\"** incluye el caracter de nueva línea al finalizar. Ahora comprobemos que realmente agregamos la nueva información a nuestro archivo, leyendo nuevamente:"
   ]
  },
  {
   "cell_type": "code",
   "execution_count": 21,
   "metadata": {},
   "outputs": [
    {
     "name": "stdout",
     "output_type": "stream",
     "text": [
      "['carne 30000\\n', 'jamón 15000\\n', 'detergente 12000\\n', 'champú 18000\\n', 'refresco 8000\\n', 'leche 6000\\n', 'leche 6000\\n']\n"
     ]
    }
   ],
   "source": [
    "with open('compras.txt', 'r') as f:   # abre el archivo en modo lectura\n",
    "    c = f.readlines()                 # lee el contenido completo\n",
    "\n",
    "print(c)"
   ]
  },
  {
   "cell_type": "markdown",
   "metadata": {},
   "source": [
    "Como puedes ver, el nuevo producto está realmente listado al final del archivo.\n",
    "\n",
    "Uno de los formatos más usados en archivos de datos es el **.CSV**, conocido como \"valores separados por comas\". Las hojas de cálculo actualmente permiten guardar archivos con este formato. Podemos manipular de manera similar estos archivos:"
   ]
  },
  {
   "cell_type": "code",
   "execution_count": 22,
   "metadata": {
    "collapsed": true
   },
   "outputs": [],
   "source": [
    "# lo mismo pero con comas de separador:\n",
    "with open('compras.csv', 'r') as f:\n",
    "    c = f.readlines()\n",
    "\n",
    "# eliminando el caracter \\n  (nueva línea o enter)\n",
    "for i in range(len(c)):\n",
    "    c[i] = c[i].replace(\"\\n\",\"\")"
   ]
  },
  {
   "cell_type": "markdown",
   "metadata": {},
   "source": [
    "Nota que el proceso de lectura y reemplazo de caracteres sigue siendo el mismo."
   ]
  },
  {
   "cell_type": "code",
   "execution_count": 24,
   "metadata": {},
   "outputs": [
    {
     "data": {
      "text/plain": [
       "{'carne': 30000.0,\n",
       " 'champú': 18000.0,\n",
       " 'detergente': 12000.0,\n",
       " 'jamón espalda': 15000.0}"
      ]
     },
     "execution_count": 24,
     "metadata": {},
     "output_type": "execute_result"
    }
   ],
   "source": [
    "# separando nombres de precios (lista de listas)\n",
    "prod = [p.split(\",\") for p in c]\n",
    "\n",
    "# eliminando las listas sin contenido (vacías)\n",
    "for i in range(len(prod)):\n",
    "    if len(prod[i]) == 0: prod.pop(i)\n",
    "\n",
    "# creando el diccionario\n",
    "productos2 = {i[0]:float(i[1]) for i in prod}\n",
    "\n",
    "productos2"
   ]
  },
  {
   "cell_type": "markdown",
   "metadata": {},
   "source": [
    "La única diferencia importante reside en el uso de la función **split**. Dado que sabemos que el archivo está separdo por comas, utilizamos el caracter **\",\"** para hacer la división con ```p.split(\",\")``` en la primera línea de código."
   ]
  },
  {
   "cell_type": "markdown",
   "metadata": {},
   "source": [
    "Ahora queremos guardar este código como un *script* para usarlo cuando nos interese. Lo guardamos como un archivo de texto con extensión **.py**. Nuestro archivo lo llamamos **\"leerproductos.py\"**. Luego, para ejecutarlo sólo escribimos dentro del shell de python:"
   ]
  },
  {
   "cell_type": "code",
   "execution_count": 25,
   "metadata": {
    "collapsed": true
   },
   "outputs": [],
   "source": [
    "exec(open(\"leerproductos.py\").read())"
   ]
  },
  {
   "cell_type": "markdown",
   "metadata": {},
   "source": [
    "Esta instrucción tiene varios pasos que pueden escribirse separadamente para que notes con claridad el proceso:\n",
    "```python\n",
    "    f = open(\"leerproductos.py\")     # primero abrimos la conexión al archivo\n",
    "    c = f.read()              # luego leemos el contenido\n",
    "    exec(c)                   # y finalmente ejecutamos el código\n",
    "```\n",
    "\n",
    "Después de ejecutar los comandos de nuestro *script* podemos acceder a las variables que se crean internamente, por ejemplo \"productos2\":"
   ]
  },
  {
   "cell_type": "code",
   "execution_count": 26,
   "metadata": {},
   "outputs": [
    {
     "data": {
      "text/plain": [
       "{'carne': 30000.0,\n",
       " 'champú': 18000.0,\n",
       " 'detergente': 12000.0,\n",
       " 'jamón espalda': 15000.0}"
      ]
     },
     "execution_count": 26,
     "metadata": {},
     "output_type": "execute_result"
    }
   ],
   "source": [
    "productos2"
   ]
  },
  {
   "cell_type": "markdown",
   "metadata": {},
   "source": [
    "También podemos usar nuestras funciones desde *scripts* por medio de la sentencia **import**. La función resumen que hemos creado anteriormente la guardamos en un archivo llamado **mi_script.py**."
   ]
  },
  {
   "cell_type": "code",
   "execution_count": 27,
   "metadata": {
    "collapsed": true
   },
   "outputs": [],
   "source": [
    "def resumen(productos):  #recibe un diccionario de pares producto:precio\n",
    "    promedio =  sum(productos.values()) / len(productos)\n",
    "    maximo = max(productos.values())\n",
    "    return promedio, maximo     # devuelve dos valores en forma de tupla"
   ]
  },
  {
   "cell_type": "markdown",
   "metadata": {},
   "source": [
    "Ahora importamos nuestra función y la usamos con el diccionario \"productos2\":"
   ]
  },
  {
   "cell_type": "code",
   "execution_count": 29,
   "metadata": {},
   "outputs": [
    {
     "data": {
      "text/plain": [
       "(18750.0, 30000.0)"
      ]
     },
     "execution_count": 29,
     "metadata": {},
     "output_type": "execute_result"
    }
   ],
   "source": [
    "from mi_script import resumen    # importa la función resumen, del archivo mi_script.py\n",
    "resumen(productos2)               # ejecuta la funciónanalizar"
   ]
  },
  {
   "cell_type": "markdown",
   "metadata": {},
   "source": [
    "Si quieres cambiarle el nombre a tu script, usa la función **rename**. El primer argumento es una cadena con el nombre actual incluyendo la extensión del archivo, y la segunda es el nuevo nombre:\n",
    "\n",
    "```python\n",
    "import os\n",
    "os.rename(\"nombreviejo.txt\", \"nombrenuevo.txt\")\n",
    "```"
   ]
  },
  {
   "cell_type": "markdown",
   "metadata": {},
   "source": [
    "Desde el mismo shell de python puedes eliminar también cualquier archivo con la instrucción:\n",
    "```python\n",
    "import os\n",
    "os.remove(\"nombredelarchivo.txt\")\n",
    "```"
   ]
  },
  {
   "cell_type": "markdown",
   "metadata": {},
   "source": [
    "#### Lectura de archivos desde la web\n",
    "***\n",
    "\n",
    "Es típico que se quieran extraer y analizar datos que están alojados en la web como archivos, o directamente en el código html de las páginas. El módulo **urllib** de Python permite manipular direcciones web para cargar datos."
   ]
  },
  {
   "cell_type": "code",
   "execution_count": null,
   "metadata": {
    "collapsed": true
   },
   "outputs": [],
   "source": [
    "## lectura de archivos desde la web con urllib\n",
    "import urllib\n",
    "\n",
    "link = \"https://drive.google.com/open?id=0B6DckqJcFRC3ekt0UjZxMDhsVjg\"\n",
    "f = urllib.urlopen(link)\n",
    "myfile = f.read()\n",
    "print myfile"
   ]
  },
  {
   "cell_type": "markdown",
   "metadata": {},
   "source": [
    "También con el módulo [**requests**](http://docs.python-requests.org/en/latest/) podemos acceder a este tipo de datos:"
   ]
  },
  {
   "cell_type": "code",
   "execution_count": null,
   "metadata": {
    "collapsed": true
   },
   "outputs": [],
   "source": [
    "import requests\n",
    "link = \"http://www.somesite.com/details.pl?urn=2344\"\n",
    "f = requests.get(link)\n",
    "\n",
    "print f.text"
   ]
  },
  {
   "cell_type": "code",
   "execution_count": null,
   "metadata": {
    "collapsed": true
   },
   "outputs": [],
   "source": [
    "## lectura de html, xml con librerias xmlparser xml.etree.elementTree\n",
    "## lectura de json files\n"
   ]
  },
  {
   "cell_type": "code",
   "execution_count": null,
   "metadata": {
    "collapsed": true
   },
   "outputs": [],
   "source": []
  },
  {
   "cell_type": "code",
   "execution_count": null,
   "metadata": {
    "collapsed": true
   },
   "outputs": [],
   "source": []
  },
  {
   "cell_type": "markdown",
   "metadata": {},
   "source": [
    "### Control de versiones con Git\n",
    "***\n",
    "\n",
    "Ahora tenemos varios archivos en nuestra carpeta de proyecto. Es importante tener una forma de controlar los cambios que hagamos y respaldar los datos y *scripts*. Podemos usar herramientas de **control de versiones** para mantener organizado nuestro trabajo.\n",
    "\n",
    "El **control de versiones** permite hacer segumiento de los cambios sobre nuestro código, nuestro datos y demás archivos que usemos. Es un concepto que puede ser utilizado no sólo por programadores sino para cualquier proyecto en general que quieras mantener controlado.\n",
    "\n",
    "Una de las herramientas más populares para control de versiones es **Git**. Con Git podemos crear distintos \"repositorios\", que básicamente son directorios donde colocarás tus archivos y proyectos.\n",
    "\n",
    "#### Instalación desde Windows\n",
    "***\n",
    "Para usarlo desde nuestra pc debemos instalar el programa. Si usas Windows, descarga el programa desde [aquí](https://git-for-windows.github.io/) o [aquí](https://github.com/git-for-windows/git/releases/tag/v2.14.1.windows.1). Elige la version de 32 o 64 bits según tu sistema.\n",
    "\n",
    "![Descarga para Windows](images/014-descargagit.png)\n",
    "\n",
    "Ejecuta el archivo **.exe**, sigue las instrucciones hasta finalizar el proceso de instalación. Luego puedes abrir un terminal de windows (busca en tu menú de inicio \"cmd\"); o puedes abrir *Git Bash*, que debe haber sido instalado junto con Git.\n",
    "\n",
    "#### Instalación desde Linux\n",
    "***\n",
    "En linux, puedes instalarlo por línea de comandos. En un terminal escribe:\n",
    "\n",
    "```\n",
    "sudo apt-get update\n",
    "sudo apt-get install git\n",
    "```\n",
    "Verifica que se haya instalado correctamente con el comando siguiente en tu terminal, el cual deberá mostrarte la versión instalada del programa:\n",
    "\n",
    "```\n",
    "git --version\n",
    "```"
   ]
  },
  {
   "cell_type": "markdown",
   "metadata": {},
   "source": [
    "#### Configuración y creación de repositorios\n",
    "***\n",
    "Inmediatamente puedes empezar a usar git. En primer lugar debes configurar tu nombre de usuario y correo electrónico, con los siguientes comandos (en el terminal o en Git bash en Windows):\n",
    "\n",
    "```\n",
    "git config --global user.name \"tu nombre\"\n",
    "git config --global user.email \"tu_email@email.com\"\n",
    "```\n"
   ]
  },
  {
   "cell_type": "markdown",
   "metadata": {},
   "source": [
    "Ahora que tenemos **Git** configurado, podemos crear un repositorio para nuestro proyecto. En el terminal, debemos estar ubicados en el directorio donde están nuestros archivos. En el terminal de linux usa el comando **pwd** para ver la ruta del directorio actual, y **ls** para ver una lista de los archivos que contiene.\n",
    "\n",
    "```\n",
    "pwd\n",
    "ls\n",
    "```\n",
    "\n",
    "Para cambiar de directorio o carpeta, usa el comando **cd** seguido de la ruta del directorio al que quieras entrar. Por ejemplo:\n",
    "\n",
    "```\n",
    "cd /home/mags/Documentos/\n",
    "```\n",
    "\n",
    "Si escribes: **`cd ..`** , te ubicarás en el directorio inmediatamente anterior a dónde te encuentras actualmente:\n",
    "\n",
    "```\n",
    "cd ..\n",
    "pwd\n",
    "```"
   ]
  },
  {
   "cell_type": "markdown",
   "metadata": {},
   "source": [
    "Ahora en el directorio correcto, creamos un nuevo repositorio de Git con el comando:\n",
    "```\n",
    "git init\n",
    "```\n",
    "Con estos comandos, agregas los archivos que indicas en la lista de seguimiento del repositorio. Usando el **'*'** agregas todos los que aun estén sin seguimientos.\n",
    "```\n",
    "git add <nombre-del-archivo>\n",
    "git add *\n",
    "```\n",
    "Puedes ver el estado de tus archivos con:\n",
    "```\n",
    "git status\n",
    "```\n",
    "Luego para \"guardar\" los cambios que has hecho sobre los archivos, usamos la instrucción:\n",
    "```\n",
    "git commit -m \"mensaje\"\n",
    "```\n",
    "Donde \"mensaje\" es cualquier mensaje personalizado que describa brevemente los cambios que has hecho sobre el archivo.\n",
    "\n",
    "Todo este proceso está sucediendo en tu repositorio local, es decir en las carpetas de tu pc. Para tener el respaldo online, puedes usar alguno de los servicios de hosting preparados para control de versiones. En nuestro caso usaremos [Github](https://github.com)."
   ]
  },
  {
   "cell_type": "markdown",
   "metadata": {},
   "source": [
    "#### Creación de cuenta y repo en Github\n",
    "***\n",
    "\n",
    "Para registrarte en Github, sólo necesitas elegir tu nombre de usuario, dar tu correo y crear una contraseña:\n",
    "\n",
    "![Registro en Github](images/013-registrogit.png)\n",
    "\n",
    "Ahora vamos a crear un repositorio vació para almacenar nuestro proyecto local. Dentro de Github, en la esquina superior derecha encontrarás un símbolo \"+\". Elige la opción \"Nuevo repositorio\", o \"New repository\".\n",
    "\n",
    "![Crear repositorio](images/015-nuevorepo.png)\n",
    "\n",
    "En la siguiente página, elige un nombre para tu repositorio. Dejamos la opción **Pública** por defecto. (para usar la versión privada debe pagarse una suscripción). En este caso, asegúrate de NO elegir la opción *\"Iniciar este repositorio con un README\"*. \n",
    "\n",
    "![Crear repositorio sin README](images/016-nuevorepo2.png)\n",
    "\n",
    "En la siguiente página encontrarás instrucciones para conectar tu proyecto local con tu recién creado repositorio en Github.\n",
    "\n",
    "![Dirección del repo](images/017-nuevorepo3.png)\n",
    "\n",
    "\n",
    "Copia la dirección del repositorio y ejecuta en tu terminal los siguientes comandos:\n",
    "\n",
    "```\n",
    "git remote add origin \"<direccion-de-tu-repo-en-github>\"\n",
    "git push -u origin master       # sube los archivos a github\n",
    "```\n",
    "Te pedirá los datos de *login* de tu cuenta de Github, y luego se encargará de subir los archivos, que ya estarán en tu repositorio online!\n",
    "\n",
    "La siguiente imagen muestra la estructura de este curso dentro de un repo en Github, que ha sido creado siguiendo estos pasos:\n",
    "\n",
    "![Repo del curso](images/018-repocurso.png)\n",
    "\n",
    "\n",
    "Si ya tienes un repo en Github y quieres descargar los archivos para empezar a trabajar en local entonces usa el comando:\n",
    "\n",
    "```\n",
    "git clone \"<direccion-de-tu-repo-en-github>\"\n",
    "```\n",
    "\n",
    "Esto creará una copia completa del proyecto en tu computadora, desde la que podrás modificar y llevar el control de versiones. En este caso, para hacer el *push* (subir cambios en los archivos), **NO** es necesario especificar el *origen remoto* como antes (`git remote add origin`).\n",
    "\n",
    "Ahora puedes mantener tus proyectos sincronizados, compartir y colaborar fácilmente con la comunidad de Github. Para usos más avanzados de git, creación de ramas (*branches*), ejecutar *merges*, *pull request* y otros,  puedes revisar [material](https://guides.github.com/activities/hello-world/) y [tutoriales](https://try.github.io/levels/1/challenges/1) disponibles en la web."
   ]
  },
  {
   "cell_type": "markdown",
   "metadata": {},
   "source": [
    "***\n",
    "| [Atrás](Módulo II - Cadenas, estructuras de datos y de control.ipynb) | [Inicio](Introducción - Contenido.ipynb) | [Siguiente](Módulo IV - Introducción a la Ciencia de Datos.ipynb)"
   ]
  }
 ],
 "metadata": {
  "kernelspec": {
   "display_name": "Python 3",
   "language": "python",
   "name": "python3"
  },
  "language_info": {
   "codemirror_mode": {
    "name": "ipython",
    "version": 3
   },
   "file_extension": ".py",
   "mimetype": "text/x-python",
   "name": "python",
   "nbconvert_exporter": "python",
   "pygments_lexer": "ipython3",
   "version": "3.6.1"
  }
 },
 "nbformat": 4,
 "nbformat_minor": 2
}
