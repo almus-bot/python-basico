{
 "cells": [
  {
   "cell_type": "markdown",
   "metadata": {},
   "source": [
    "# Módulo IV - 02 - Introducción a Jupyter Notebook"
   ]
  },
  {
   "cell_type": "markdown",
   "metadata": {},
   "source": [
    "La aplicación sobre la que está escrito este material, se conoce como **Jupyter Notebook**,\n",
    "que es un conjunto de \"cuadernos\" que contienen tanto código ejecutable como texto, imágenes, enlaces, y otros.\n",
    "\n",
    "Es ideal para presentar resultados de análisis de datos, además que permite la interacción directa del usuario con los cuadernos, el código y sus datos.\n",
    "\n",
    "Al instalar Anaconda puedes acceder a jupyter notebook. Con el ambiente virtual de *conda* activado, en el terminal escribe el comando:\n",
    "\n",
    "```python\n",
    "~ $ jupyter-notebook\n",
    "```\n",
    "\n",
    "![Iniciando jupyter notebook](images/034-jupyinit.png)\n",
    "\n",
    "Se inicia un servidor en tu computadora. Puedes ver el proceso en el terminal:\n",
    "\n",
    "![Inicio del servidor](images/036-jupyserverrun.png)\n",
    "\n",
    "La aplicación se ejecuta en un navegador web como Chrome o Firefox. El tablero o *dashboard* principal te permite crear y abrir nuevos cuadernos y manejar los *kernels* disponibles.\n",
    "\n",
    "![Tablero principal](images/028-jupydashboard.png)\n",
    "\n",
    "El código que ejecuta *Jupyter Notebook* depende del *kernel* o núcleo que contenga. Actualmente existen muchos núcleos para distintos lenguajes de programación. Como los más populares para ciencia de datos: **Python, R, Julia,** entre otros.\n",
    "\n",
    "![Kernels de Jupyter](images/029-jupykernels.png)\n",
    "\n",
    "Los cuadernos sobre los que estamos trabajando incluye el kernel de Python para ejecutar nuestras instrucciones. Cada cuaderno está compuesto por **celdas**, que pueden contener código o texto en **Markdown**.\n",
    "\n",
    "![Nuevo cuaderno](images/033-jupynew.png)\n",
    "\n",
    "Para cambiar entre un modo u otro, presionamos simultáneamente las teclas **```Esc + m```** para Markdown,   y **```Esc + y```** para ingresar código, respectivamente.\n",
    "\n",
    "![Ejemplo de código](images/032-jupycode.png)\n",
    "\n",
    "![Ejemplo de Markdown](images/035-jupymarkdown.png)\n",
    "\n",
    "Con la combinacion **```Alt + Enter```**, ejecutamos la celda y creamos una nueva celda debajo. Para sólamente ejecutar la celda presionamos **```Ctrl + Enter```**. Así se genera el resultado **Out[1]** y el texto en markdown de la imagen anterior:\n",
    "\n",
    "![Ejemplo de Markdown](images/039-jupymarkdown2.png)\n",
    "\n",
    "Si queremos insertar una enlace, la sintáxis correcta es:\n",
    "\n",
    "```\n",
    "[texto-del-enlace](\"dirección-del-enlace\")\n",
    "```\n",
    "\n",
    "Como por ejemplo, el enlace del curso en [Github](\"https://github.com/almus-bot/python-basico\").\n",
    "\n",
    "Las imágenes se insertan de forma similar, pero tomando en cuenta la ruta en la que se encuentra. Por ejemplo, si tenemos nuestras imágenes en una carpeta \"figuras\", debemos escribir la ruta:\n",
    "\n",
    "```\n",
    "![Imagen de ejemplo](figuras/jupyterlogo.png)\n",
    "```\n",
    "\n",
    "![Imagen de ejemplo](images/030-jupyterlogo.png)\n",
    "\n",
    "\n",
    "Para cerrar la sesión de Jupyter que estés ejecutando, en el terminal usa la combinación de teclas **``` Ctrl + c```**.\n",
    "Así se cierra completamente el proceso del servidor local.\n",
    "\n",
    "![Cerrar servidor](images/031-closeserver.png)\n",
    "\n",
    "De esta forma puedes empezar a construir tus documentos interactivos. Para conocer más formatos de texto en markdown puedes revisar [guías](https://github.com/adam-p/markdown-here/wiki/Markdown-Cheatsheet) y [tutoriales](https://www.markdowntutorial.com/).\n",
    "\n",
    "Más información sobre Jupyter Notebook está disponible en la [documentación](https://jupyter-notebook-beginner-guide.readthedocs.io/en/latest/)."
   ]
  },
  {
   "cell_type": "markdown",
   "metadata": {},
   "source": [
    "| [Atrás](Módulo IV - 01 - Introducción a la Ciencia de Datos.ipynb) | [Inicio](00 - Contenido.ipynb)"
   ]
  }
 ],
 "metadata": {
  "kernelspec": {
   "display_name": "Python 3",
   "language": "python",
   "name": "python3"
  },
  "language_info": {
   "codemirror_mode": {
    "name": "ipython",
    "version": 3
   },
   "file_extension": ".py",
   "mimetype": "text/x-python",
   "name": "python",
   "nbconvert_exporter": "python",
   "pygments_lexer": "ipython3",
   "version": "3.6.1"
  }
 },
 "nbformat": 4,
 "nbformat_minor": 2
}
