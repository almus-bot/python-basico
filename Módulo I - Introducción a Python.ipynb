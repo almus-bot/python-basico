{
 "cells": [
  {
   "cell_type": "markdown",
   "metadata": {},
   "source": [
    "# Módulo I: Iniciando en Python\n",
    "***"
   ]
  },
  {
   "cell_type": "markdown",
   "metadata": {},
   "source": [
    "## Sesión a\n",
    "\n",
    "### Introducción  a Python\n",
    "***\n",
    "   \n",
    "Python es un lenguaje de programación interpretado creado en 1991. Con interpretado se quiere decir que no es necesario procesar el código con un compilador previo a su ejecución, como se hace con otros lenguajes tales como C++ o Java. La versión de python mas reciente actualmente es la 3, la cual contiene algunas diferencias importantes respecto a la versión 2.\n",
    "\n",
    "Python se caracteriza por ser un lenguaje con una sintaxis limpia e intuitiva, lo que hace el código más ordenado y mas fácil de interpretar.\n",
    "\n",
    "Para usar python en nuestras computadoras sólo tenemos que instalar el software necesario como cualquier otro programa. En este caso contamos con la plataforma Anaconda, creada por Continuum, que contiene las herramientas necesarias para trabajar con python. Anaconda incluye herramientas adicionales necesarias para explotar el potencial de python para cálculos numéricos, visualizaciones y en general, ciencia de datos. Miniconda es una versión reducida de esta plataforma.\n",
    "\n",
    "Instala Anaconda en tu pc independientemente de tu sistema operativo (Windows, Linux, MAC), descargándolo desde la pagina oficial de Continuum [aquí](https://www.continuum.io/downloads).\n",
    "\n",
    "### Prompt de Python\n",
    "***\n",
    "\n",
    "Una vez instalado Anaconda, el código Python puede ser ejecutado directamente desde el interprete de python, que podrás usar desde una terminal de comandos. O a través de scripts. En una terminal de linux o mac, si escribimos\n",
    "\n",
    "![Consola de linux](images/001-consola.png)\n",
    "\n",
    "Se mostrará el simbolo >>> (prompt de python), que significa que está todo preparado para recibir instrucciones. En principio se muestra la información de versión de python y algunos comandos útiles de ayuda.\n",
    "\n",
    "![Inicio de Python en la consola](images/002-pythonprompt.png)\n",
    "\n",
    "Para \"limpiar\" esta ventana puedes usar el comando ```Ctrl + L```. Empecemos por probar lo sencillo de las intrucciones de python con el clásico \"Hola mundo!\". En el prompt escribimos:\n",
    "\n",
    "``` python\n",
    ">>> print(\"Hola mundo!\")\n",
    "```\n",
    "Presionamos enter y automáticamente el comando debe ser ejecutado, produciendo una salida en la ventana. En este caso, solo mostrará la frase \"Hola mundo!\", en conjunto, tu terminal debera mostrar algo como esto:\n",
    "\n",
    "![\"Hola mundo!\" en Python](images/003-holamundo.png)\n",
    "\n",
    "Si queremos ejecutar el mismo código mediante un script, sólo tenemos que escribir las mismas instrucciones en una archivo de texto plano, y guardarlo con la extensión \".py\". Luego, en el terminal de tu sistema operativo, escribe:\n",
    "\n",
    "``` python\n",
    ">>> python <nombre-del-archivo.py>\n",
    "```\n",
    "y de la misma forma nos mostrará el resultado. Probando con nuestro hola mundo nos muestra:\n",
    "\n",
    "![Desde un script](images/005-scripthola.png)\n",
    "\n",
    "Existen muchos editores de texto que puedes usar para crear tus scripts. Spyder es un IDE que incluye un editor para python, y viene incluido dentro de Anaconda. Desde el panel principal de *Anaconda-navigator* podemos instalar software adicional o usar la interfaz gráfica para trabajar en nuestros proyectos.\n",
    "\n",
    "![Anaconda Navigator](images/007-anaconda.png)\n",
    "\n",
    "<!--source ~/anaconda/bin/activate-->\n",
    "\n",
    "En linux, escribe en tu terminal *anaconda-navigator*.\n",
    "\n",
    "![Comando para abrir Anaconda Navigator desde el terminal](images/006-anaconda-comando.png)\n",
    "\n",
    "En Windows, *inicio -> Todos los programas -> Anaconda -> Anaconda Navigator*.\n",
    "\n",
    "### Sintaxis\n",
    "***\n",
    "Otros editores son Pycharm, Sublime y Atom. Ciertamente puedes usar cualquier editor de texto plano (sin formatos enriquecidos). La ventaja de los editores especializados es que puedes controlar el orden y funcionamiento de tu código de manera más eficiente, con ayuda del coloreado de sintaxis, tabulaciones, depuración, búsqueda y reemplazo automático de instrucciones, entre otras.\n",
    "\n",
    "![Editor con coloreado de sintaxis](images/008-sintaxis.png)\n",
    "\n",
    "¿Por qué es importante el editor en python? El código en python suele tener un aspecto bastante limpio y ordenado, esto se debe en gran medida a las reglas de sintaxis que posee. Una en particular importante es que tu código no se ejecutará (o te dará resultados erróneos) si no cumple con una indentación consistente.\n",
    "\n",
    "![Indentación en Python](images/009-indentacion.png)\n",
    "\n",
    "La indentación se refiere a los espacios o tabulaciones con que estructuramos las líneas de código. En la imagen anterior podemos observar 3 niveles de indentación, sumamente importante para la correcta ejecución del código.\n",
    "\n",
    "Además, la filosofía de la comunidad de Python gira en torno a la simpleza y las instrucciones claras y explicítas, un código limpio y ordenado aumenta la probabilidad de comprensión y asegura una mejor manera de compartir tu código. Esto es particularmente importante en el mundo de los investigadores y desarrolladores actualmente. Por estas razones y más, se creó el Pep8, que es una guía de estilo para el código de python, donde se recopilan las recomendaciones para escribir el código, desde los espacios, indentaciones, comentarios, mayúsculas y minúsculas, \"imports\", nombres de funciones, entre otros, como veremos a lo largo del curso.\n",
    "\n",
    "Puedes revisar el Pep8 desde [aquí](https://www.python.org/dev/peps/pep-0008/).\n",
    "\n",
    "\n",
    "<!--<< mas ejemplo de codigos >>\n",
    "<< revisar herramientas de anaconda>>\n",
    "\n",
    "#comentarios van con #\n",
    "#fine de linea (enter) terminar una instrucción\n",
    "punto y coma puede separar varias instrucciones en una misma linea\n",
    "indentación, espacios en blanco y tabulaciones\n",
    "los espacios en blanco en la misma linea no importa\n",
    "parentesis para agrupar o hacer llamadas de funciones\n",
    "print function en la version 2 y 3-->\n"
   ]
  },
  {
   "cell_type": "markdown",
   "metadata": {},
   "source": [
    "## Sesión b\n",
    "\n",
    "### Variables - Operaciones\n",
    "***\n",
    "Supón que quieres guardar el precio de un producto. Por ejemplo, el azúcar en 9000 bs. En python escribimos:\n"
   ]
  },
  {
   "cell_type": "code",
   "execution_count": 3,
   "metadata": {
    "collapsed": true
   },
   "outputs": [],
   "source": [
    "azucar = 9850.40   # asignamos el valor de 9850.40 a la variable con nombre \"azucar\""
   ]
  },
  {
   "cell_type": "markdown",
   "metadata": {},
   "source": [
    "Aquí el nombre **\"azucar\"** se llama **variable**, y es un contenedor que en este caso almacena valores de tipo \"flotante\" (números reales). Para acceder al valor que acabamos de crear, sólo escribimos el nombre de la variable:"
   ]
  },
  {
   "cell_type": "code",
   "execution_count": 2,
   "metadata": {},
   "outputs": [
    {
     "ename": "NameError",
     "evalue": "name 'azucar' is not defined",
     "output_type": "error",
     "traceback": [
      "\u001b[0;31m---------------------------------------------------------------------------\u001b[0m",
      "\u001b[0;31mNameError\u001b[0m                                 Traceback (most recent call last)",
      "\u001b[0;32m<ipython-input-2-0fe5008b2c8c>\u001b[0m in \u001b[0;36m<module>\u001b[0;34m()\u001b[0m\n\u001b[0;32m----> 1\u001b[0;31m \u001b[0mazucar\u001b[0m   \u001b[0;31m# accedemos al contenido de la variable recién creada\u001b[0m\u001b[0;34m\u001b[0m\u001b[0m\n\u001b[0m",
      "\u001b[0;31mNameError\u001b[0m: name 'azucar' is not defined"
     ]
    }
   ],
   "source": [
    "azucar   # accedemos al contenido de la variable recién creada"
   ]
  },
  {
   "cell_type": "markdown",
   "metadata": {},
   "source": [
    "Podemos guardar otro producto de la misma manera, por ejemplo:"
   ]
  },
  {
   "cell_type": "code",
   "execution_count": 1,
   "metadata": {},
   "outputs": [
    {
     "data": {
      "text/plain": [
       "10000.0"
      ]
     },
     "execution_count": 1,
     "metadata": {},
     "output_type": "execute_result"
    }
   ],
   "source": [
    "arroz=10000.0   # asignamos el valor de 10000.0 a la variable arroz\n",
    "arroz"
   ]
  },
  {
   "cell_type": "markdown",
   "metadata": {},
   "source": [
    "Nota que es indiferente el espaciado entre la misma línea o \"instrucción\" que le damos a Python. Sin embargo, es recomendable seguir las mejores prácticas para el código según el [pep8](https://www.python.org/dev/peps/pep-0008/).\n",
    "Para calcular el total de ambos productos, escribimos:"
   ]
  },
  {
   "cell_type": "code",
   "execution_count": 7,
   "metadata": {},
   "outputs": [
    {
     "data": {
      "text/plain": [
       "19850.4"
      ]
     },
     "execution_count": 7,
     "metadata": {},
     "output_type": "execute_result"
    }
   ],
   "source": [
    "arroz + azucar"
   ]
  },
  {
   "cell_type": "markdown",
   "metadata": {},
   "source": [
    "Nota que en este caso sólo estamos obteniendo el valor directamente en el intérprete, **sin guardarlo en otra variable**. Las demás operaciones ariméticas que conocemos se realizan de la misma manera. En la tabla siguiente se muestran los símbolos utilizados para cada una de ellas."
   ]
  },
  {
   "cell_type": "markdown",
   "metadata": {},
   "source": [
    "| Instrucción     | Operación         | Detalle                                            |\n",
    "|--------------|----------------|--------------------------------------------------------|\n",
    "| ``a + b``    | Suma       | Suma de ``a`` y ``b``                                 |\n",
    "| ``a - b``    | Resta    | Resta de ``a`` y ``b``                          |\n",
    "| ``a * b``    | Multiplicación | Producto de ``a`` por ``b``                             |\n",
    "| ``a / b``    | División normal | Cociente o división de ``a`` y ``b``                            |\n",
    "| ``a // b``   | División entera | Parte entera de la división de ``a`` y ``b``|\n",
    "| ``a % b``    | Módulo o resto  | Resto de la división entre ``a`` y ``b``     |\n",
    "| ``a ** b``   | Exponente | ``a`` elevado a la potencia de ``b``                     |\n",
    "| ``-a``       | Negación       | Valor negativo de ``a``                                  |\n",
    "| ``+a``       | Incremento     | ``a`` sin cambios                          |\n"
   ]
  },
  {
   "cell_type": "markdown",
   "metadata": {},
   "source": [
    "El operador **```//```** realiza una división entera, es decir, nos devuelve sólo la parte entera del resultado en caso de que sea un número flotante (real). En la primera línea imprimimos en la consola la división entera y luego la división \"normal\", donde puedes ver la diferencia."
   ]
  },
  {
   "cell_type": "code",
   "execution_count": 4,
   "metadata": {},
   "outputs": [
    {
     "name": "stdout",
     "output_type": "stream",
     "text": [
      "1\n",
      "1.4\n"
     ]
    }
   ],
   "source": [
    "print(7 // 5)    # división entera\n",
    "print(7 / 5)     # división \"normal\""
   ]
  },
  {
   "cell_type": "markdown",
   "metadata": {},
   "source": [
    "Ahora almacenamos el número de productos que tenemos hasta ahora (2), y observamos el tipo de variable:"
   ]
  },
  {
   "cell_type": "code",
   "execution_count": 5,
   "metadata": {},
   "outputs": [
    {
     "data": {
      "text/plain": [
       "int"
      ]
     },
     "execution_count": 5,
     "metadata": {},
     "output_type": "execute_result"
    }
   ],
   "source": [
    "cantidad = 2    # los productos que tenemos hasta ahora\n",
    "type(cantidad)  # la función type nos indica el tipo de variable "
   ]
  },
  {
   "cell_type": "markdown",
   "metadata": {},
   "source": [
    "Python reconoce el tipo de valores que estamos introduciendo. Si queremos forzar a que el valor sea guardado como flotante, podemos escribir:"
   ]
  },
  {
   "cell_type": "code",
   "execution_count": 13,
   "metadata": {},
   "outputs": [
    {
     "data": {
      "text/plain": [
       "2.0"
      ]
     },
     "execution_count": 13,
     "metadata": {},
     "output_type": "execute_result"
    }
   ],
   "source": [
    "float(cantidad)"
   ]
  },
  {
   "cell_type": "markdown",
   "metadata": {},
   "source": [
    "Vemos que ahora el número tiene un formato distinto, con un decimal por defecto. Ahora supón que no quieres olvidar el lugar donde encontraste los productos, entonces guardamos el nombre del sitio donde compramos:"
   ]
  },
  {
   "cell_type": "code",
   "execution_count": 14,
   "metadata": {},
   "outputs": [
    {
     "ename": "SyntaxError",
     "evalue": "invalid syntax (<ipython-input-14-2c1daee8d733>, line 1)",
     "output_type": "error",
     "traceback": [
      "\u001b[0;36m  File \u001b[0;32m\"<ipython-input-14-2c1daee8d733>\"\u001b[0;36m, line \u001b[0;32m1\u001b[0m\n\u001b[0;31m    sitio = los chinos de la esquina\u001b[0m\n\u001b[0m                     ^\u001b[0m\n\u001b[0;31mSyntaxError\u001b[0m\u001b[0;31m:\u001b[0m invalid syntax\n"
     ]
    }
   ],
   "source": [
    "sitio = los chinos de la esquina"
   ]
  },
  {
   "cell_type": "markdown",
   "metadata": {},
   "source": [
    "En este caso, no podemos crear una variable que que contenga una frase o texto sólo sin encerrarlas en comillas simples, dobles o triples. Por eso Python nos notifica un error. Intentamos nuevamente:"
   ]
  },
  {
   "cell_type": "code",
   "execution_count": 6,
   "metadata": {
    "collapsed": true
   },
   "outputs": [],
   "source": [
    "sitio = \"los chinos de la esquina\""
   ]
  },
  {
   "cell_type": "markdown",
   "metadata": {},
   "source": [
    "Esta es una variable de tipo **\"string\"** o cadena de caracteres. De esta manera podemos almacenar cualquier texto que necesitemos. En otro módulo veremos un tratamiento más avanzado de este tipo de variable.\n",
    "\n",
    "Presta atención a las siguientes operaciones:"
   ]
  },
  {
   "cell_type": "code",
   "execution_count": 16,
   "metadata": {
    "collapsed": true
   },
   "outputs": [],
   "source": [
    "estacionamiento = True\n",
    "punto = False\n",
    "iva = 12\n",
    "total = (azucar + arroz) * iva / 100"
   ]
  },
  {
   "cell_type": "markdown",
   "metadata": {},
   "source": [
    "La variable **estacionamiento** es de tipo \"lógico\" o booleano, y en este caso nos indica si el sitio tiene o no estacionamiento disponible. Actualmente tiene el valor de \"True\" o cierto. Los valores que pueden tomar un \"booleano\" son **True** y **False**. Es importante notar que la primera letra debe ser estrictamente mayúscula, mientras que el resto, minúsculas.\n",
    "\n",
    "La nueva variable **iva** almacena el porcentaje de impuesto que debe aplicarse al precio total de nuestros productos. En la tercera línea calculamos el total haciendo uso de los paréntesis para agrupar y ordenar la operación. Podemos acceder a la variable **total** para ver su contenido:"
   ]
  },
  {
   "cell_type": "code",
   "execution_count": 17,
   "metadata": {},
   "outputs": [
    {
     "data": {
      "text/plain": [
       "2382.0480000000002"
      ]
     },
     "execution_count": 17,
     "metadata": {},
     "output_type": "execute_result"
    }
   ],
   "source": [
    "total"
   ]
  },
  {
   "cell_type": "markdown",
   "metadata": {},
   "source": [
    "> Supón que ganaste un descuento del 10%, calcula entonces el precio final que deberás pagar:"
   ]
  },
  {
   "cell_type": "code",
   "execution_count": 27,
   "metadata": {},
   "outputs": [
    {
     "data": {
      "text/plain": [
       "2143.8432000000003"
      ]
     },
     "execution_count": 27,
     "metadata": {},
     "output_type": "execute_result"
    }
   ],
   "source": [
    "descuento = 10\n",
    "final = total - total * descuento / 100\n",
    "final"
   ]
  },
  {
   "cell_type": "markdown",
   "metadata": {},
   "source": [
    "También puedes decidir que volverías sólo si el sitio tiene tanto estacionamiento como punto:"
   ]
  },
  {
   "cell_type": "code",
   "execution_count": 20,
   "metadata": {},
   "outputs": [
    {
     "data": {
      "text/plain": [
       "False"
      ]
     },
     "execution_count": 20,
     "metadata": {},
     "output_type": "execute_result"
    }
   ],
   "source": [
    "estacionamiento & punto"
   ]
  },
  {
   "cell_type": "markdown",
   "metadata": {},
   "source": [
    "O le das un poco de flexibilidad y decides que volverias si tiene estacionamiento, o punto, alguno de los dos:"
   ]
  },
  {
   "cell_type": "code",
   "execution_count": 26,
   "metadata": {},
   "outputs": [
    {
     "data": {
      "text/plain": [
       "True"
      ]
     },
     "execution_count": 26,
     "metadata": {},
     "output_type": "execute_result"
    }
   ],
   "source": [
    "estacionamiento | punto"
   ]
  },
  {
   "cell_type": "markdown",
   "metadata": {},
   "source": [
    "La siguiente tabla contiene los operadores que se pueden aplicar a pares de variables lógicas o booleanas:\n",
    "\n",
    "| Instrucción  | Operación           | Detalle                                |\n",
    "|--------------|-----------------|---------------------------------------------|\n",
    "| ``a & b``    | Comparación 'Y' (and)     |True si ``a`` y ``b`` son ambos True. False en caso contrario.      |\n",
    "| <code>a &#124; b</code>| Comparación 'O' (or)      | True si alguno o ambos entre ``a`` y ``b`` son True.    |\n",
    "| ``a ^ b``    | 'O' exclusivo (xor)     | True si ``a`` o ``b`` es True, pero no ambos. |\n",
    "| ``~a``       |Negación (not)     | True si ``a`` es False. Viceversa.                       |"
   ]
  },
  {
   "cell_type": "markdown",
   "metadata": {},
   "source": [
    "Ahora puede que te llegue la noticia de que aumentó el precio del azucar en 1000bs:"
   ]
  },
  {
   "cell_type": "code",
   "execution_count": 25,
   "metadata": {
    "collapsed": true
   },
   "outputs": [],
   "source": [
    "azucar = azucar + 1000"
   ]
  },
  {
   "cell_type": "markdown",
   "metadata": {},
   "source": [
    "Una forma mas compacta de hacer esto es:"
   ]
  },
  {
   "cell_type": "code",
   "execution_count": 24,
   "metadata": {},
   "outputs": [
    {
     "data": {
      "text/plain": [
       "12850.4"
      ]
     },
     "execution_count": 24,
     "metadata": {},
     "output_type": "execute_result"
    }
   ],
   "source": [
    "azucar += 1000\n",
    "azucar"
   ]
  },
  {
   "cell_type": "markdown",
   "metadata": {},
   "source": [
    "Este tipo de operadores de asignación funcionan como abreviación de las instruccionees y se pueden aplicar a los siguiente operadores:\n",
    "\n",
    "|||||\n",
    "|-|-|\n",
    "|``a += b``| ``a -= b``|``a *= b``| ``a /= b``|\n",
    "|``a //= b``| ``a %= b``|``a **= b``|``a &= b``|\n",
    "|<code>a &#124;= b</code>| ``a ^= b``|``a <<= b``| ``a >>= b``|"
   ]
  },
  {
   "cell_type": "markdown",
   "metadata": {},
   "source": [
    "Finalmente quieres saber el precio promedio de los productos. Usamos la media como medida:"
   ]
  },
  {
   "cell_type": "code",
   "execution_count": 28,
   "metadata": {},
   "outputs": [
    {
     "data": {
      "text/plain": [
       "1191.0240000000001"
      ]
     },
     "execution_count": 28,
     "metadata": {},
     "output_type": "execute_result"
    }
   ],
   "source": [
    "promedio = total / 2\n",
    "promedio"
   ]
  },
  {
   "cell_type": "markdown",
   "metadata": {},
   "source": [
    "***\n",
    "| [Inicio]() | [Módulo II](Módulo II - Cadenas, estructuras de datos y de control.ipynb) "
   ]
  }
 ],
 "metadata": {
  "kernelspec": {
   "display_name": "Python 3",
   "language": "python",
   "name": "python3"
  },
  "language_info": {
   "codemirror_mode": {
    "name": "ipython",
    "version": 3
   },
   "file_extension": ".py",
   "mimetype": "text/x-python",
   "name": "python",
   "nbconvert_exporter": "python",
   "pygments_lexer": "ipython3",
   "version": "3.6.1"
  }
 },
 "nbformat": 4,
 "nbformat_minor": 2
}
