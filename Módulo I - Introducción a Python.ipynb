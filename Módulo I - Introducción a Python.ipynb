{
 "cells": [
  {
   "cell_type": "markdown",
   "metadata": {},
   "source": [
    "## Módulo I: Iniciando en Python\n",
    "\n",
    "  *Ejemplo de Aplicacion: Compras mensuales*. Crear variables para precios (flotante), número de artículos (entero), nombre (cadena), descripción, tipo o estado (booleano), día (fecha). Realizar cálculos para sumar, restar, totalizar, calcular media, etc.\n",
    "    \n"
   ]
  },
  {
   "cell_type": "markdown",
   "metadata": {},
   "source": [
    "### Sesión a:  \n",
    "   + Introducción a Python: Breve historia de Python, notas sobre las versiones, mención de herramientas disponibles, editores de textos, instalación de anaconda (o revisión si ya esta instalado).\n",
    "   + Shell o prompt de Python: Uso del terminal, activar el shell de python, características del shell, comandos básicos.\n",
    "   + Sintaxis de Python: Uso del editor (sublime o pycharm), pep8, indentación, espacios, sensibilidad de mayúsculas y minúsculas, bloques de código.\n"
   ]
  },
  {
   "cell_type": "markdown",
   "metadata": {},
   "source": [
    "### Sesión b:  \n",
    "  + Tipos de variables: Creación de variables, guardar y reescribir valores numéricos, cadenas de caracteres, números enteros, flotantes, valor nulo, booleanos, fechas.\n",
    "  + Operadores ariméticos, de comparación, de asignación y booleanos: Realizar cálculos sobre las distintas variables. \n",
    "          \n"
   ]
  }
 ],
 "metadata": {
  "kernelspec": {
   "display_name": "Python 3",
   "language": "python",
   "name": "python3"
  },
  "language_info": {
   "codemirror_mode": {
    "name": "ipython",
    "version": 3
   },
   "file_extension": ".py",
   "mimetype": "text/x-python",
   "name": "python",
   "nbconvert_exporter": "python",
   "pygments_lexer": "ipython3",
   "version": "3.6.1"
  }
 },
 "nbformat": 4,
 "nbformat_minor": 2
}
